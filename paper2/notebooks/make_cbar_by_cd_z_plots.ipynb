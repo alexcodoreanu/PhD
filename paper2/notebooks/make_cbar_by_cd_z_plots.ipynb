{
 "cells": [
  {
   "cell_type": "code",
   "execution_count": 2,
   "metadata": {},
   "outputs": [],
   "source": [
    "import pandas as pd\n",
    "import numpy as np\n",
    "import matplotlib.pyplot as plt\n",
    "import matplotlib.mlab as mlab\n",
    "%matplotlib inline  \n",
    "import emcee\n",
    "import math\n",
    "import matplotlib\n",
    "from pylab import *\n",
    "import matplotlib.patheffects as PathEffects\n",
    "hfont = {'fontname':'Times New roman'}\n",
    "\n",
    "mpl.rcParams['legend.numpoints'] = 1\n",
    "\n",
    "\n",
    "\n",
    "\n",
    "\n"
   ]
  },
  {
   "cell_type": "code",
   "execution_count": 3,
   "metadata": {
    "collapsed": true
   },
   "outputs": [],
   "source": [
    "local_sol = ['S0927', 'S1306', 'U0148', 'U1319']\n",
    "\n",
    "\n",
    "zbin_bound_low  = np.array([4.35, 5.19])\n",
    "zbin_bound_high = np.array([5.19, 6.13])\n",
    "atoms = ['c4', 'si4']\n",
    "\n",
    "\n",
    "real = pd.read_csv('/Users/alex/Desktop/final_files/correct_precision/paper2/all_components_file_with_completeness_aug22.csv')\n",
    "cddf_path = '/Users/alex/Desktop/final_files/correct_precision/paper2/cddfs/cddf_input_tables/'\n",
    "plot_path = '/Users/alex/Desktop/final_files/correct_precision/paper2/plots/cbar_by_cd_z/'\n",
    "\n",
    "hfont = {'fontname':'Times New roman'}\n",
    "\n",
    "\n"
   ]
  },
  {
   "cell_type": "code",
   "execution_count": 20,
   "metadata": {},
   "outputs": [
    {
     "name": "stdout",
     "output_type": "stream",
     "text": [
      "/Users/alex/Desktop/final_files/correct_precision/paper2/cddfs/cddf_input_tables/c4_comp_z1.csv\n",
      "   zmin  zmax    cd      comp\n",
      "0     4  5.19  12.5  0.400818\n",
      "1     4  5.19  12.6  0.453900\n",
      "2     4  5.19  12.7  0.472441\n",
      "3     4  5.19  12.8  0.553914\n",
      "/Users/alex/Desktop/final_files/correct_precision/paper2/cddfs/cddf_input_tables/c4_comp_z2.csv\n",
      "   zmin  zmax    cd      comp\n",
      "6  5.19  6.13  13.1  0.411083\n",
      "7  5.19  6.13  13.2  0.471237\n",
      "8  5.19  6.13  13.3  0.544309\n",
      "/Users/alex/Desktop/final_files/correct_precision/paper2/cddfs/cddf_input_tables/si4_comp_z1.csv\n",
      "   zmin  zmax    cd      comp\n",
      "3     4  5.19  12.5  0.434010\n",
      "4     4  5.19  12.6  0.509398\n",
      "/Users/alex/Desktop/final_files/correct_precision/paper2/cddfs/cddf_input_tables/si4_comp_z2.csv\n",
      "    zmin  zmax    cd      comp\n",
      "2   5.19  6.13  12.4  0.449526\n",
      "3   5.19  6.13  12.5  0.536841\n",
      "15  5.19  6.13  13.7  0.537576\n"
     ]
    },
    {
     "data": {
      "image/png": "[encoded data removed]",
      "text/plain": [
       "<matplotlib.figure.Figure at 0x112e57c18>"
      ]
     },
     "metadata": {},
     "output_type": "display_data"
    }
   ],
   "source": [
    "ylabels = [' ', '0.2', ' ', '0.4', ' ', '0.6', ' ', '0.8', ' ', '1.0']\n",
    "plt.yticks([0.1, 0.2, 0.3, 0.4, 0.5, 0.6, 0.7, 0.8, 0.9, 1.0], ylabels, **hfont, fontsize = 18)\n",
    "\n",
    "xlabels = ['12.5', '13.0', '13.5', '14.0', '14.5']\n",
    "plt.xticks([12.5, 13.0, 13.5, 14.0, 14.5], xlabels, **hfont, fontsize = 18)\n",
    "\n",
    "\n",
    "plt.grid(True)\n",
    "\n",
    "\n",
    "plt.ylim([0.0,1.1] )\n",
    "plt.xlim([12,15])\n",
    "\n",
    "\n",
    "plt.ylabel('%', **hfont,  fontsize=24)\n",
    "plt.xlabel('Column Density (log(N))', **hfont,  fontsize=24)\n",
    "\n",
    "plt.plot([0, 100], [0.5, 0.5], 'k-', lw=1)\n",
    "plt.plot([12.75, 12.75], [0, 0.5], 'r-', lw=0.75)\n",
    "plt.plot([13.25, 13.25], [0, 0.5], 'r--', lw=0.75)\n",
    "\n",
    "plt.plot([12.58, 12.58], [0, 0.5], 'b-', lw=0.75)\n",
    "plt.plot([12.45, 12.45], [0, 0.5], 'b--', lw=0.75)\n",
    "\n",
    "\n",
    "        \n",
    "plotname = plot_path + 'cbar_by_cd_z.png'\n",
    "for a in range(0, len(atoms)):\n",
    "    for z in range(0, len(zbin_bound_low)):\n",
    "        input_name = cddf_path + atoms[a] + '_comp_z' + str(z+1) + '.csv'\n",
    "        local_results = pd.read_csv(input_name)\n",
    "        print(input_name)\n",
    "        print(local_results.loc[(local_results.comp > 0.4) & (local_results.comp < 0.6)])\n",
    "        \n",
    "        \n",
    "        \n",
    "        if a == 0: \n",
    "            if z ==0:\n",
    "                plt.plot(local_results[0:len(local_results.cd)-1].cd, \n",
    "                     local_results[0:len(local_results.cd)-1].comp,  \n",
    "                     'r-', markersize=10, alpha=1.0, lw = 5, label='CIV  -- 4.34<z$\\leq$5.19')  \n",
    "\n",
    "            if z ==1:\n",
    "                plt.plot(local_results[0:len(local_results.cd)-1].cd, \n",
    "                     local_results[0:len(local_results.cd)-1].comp,  \n",
    "                     'r--', markersize=10, alpha=1.0, lw = 5, label='             5.19<z$\\leq$6.13')\n",
    "\n",
    "        if a == 1: \n",
    "            if z ==0:\n",
    "                plt.plot(local_results[0:len(local_results.cd)-1].cd, \n",
    "                     local_results[0:len(local_results.cd)-1].comp,  \n",
    "                     'b-', markersize=10, alpha=1.0, lw = 5, label='SiIV -- 4.92<z$\\leq$5.19')   \n",
    "\n",
    "            if z ==1:\n",
    "                plt.plot(local_results[0:len(local_results.cd)-1].cd, \n",
    "                     local_results[0:len(local_results.cd)-1].comp,  \n",
    "                     'b--', markersize=10, alpha=1.0, lw = 5, label='             5.19<z$\\leq$6.13') \n",
    " \n",
    "\n",
    "# add legend\n",
    "plt.rc('legend',**{'fontsize':14})\n",
    "plt.rc('font',family='Times New Roman')\n",
    "plt.legend(bbox_to_anchor=(1.07, -0.1), loc=4, borderaxespad=1.9, shadow=True)\n",
    "\n",
    "\n",
    "plt.savefig(plotname, bbox_inches='tight', figsize=[12, 6], dpi=500)\n"
   ]
  },
  {
   "cell_type": "code",
   "execution_count": null,
   "metadata": {
    "collapsed": true
   },
   "outputs": [],
   "source": []
  },
  {
   "cell_type": "code",
   "execution_count": null,
   "metadata": {
    "collapsed": true
   },
   "outputs": [],
   "source": []
  },
  {
   "cell_type": "code",
   "execution_count": null,
   "metadata": {
    "collapsed": true
   },
   "outputs": [],
   "source": []
  }
 ],
 "metadata": {
  "anaconda-cloud": {},
  "kernelspec": {
   "display_name": "Python [Root]",
   "language": "python",
   "name": "Python [Root]"
  },
  "language_info": {
   "codemirror_mode": {
    "name": "ipython",
    "version": 3
   },
   "file_extension": ".py",
   "mimetype": "text/x-python",
   "name": "python",
   "nbconvert_exporter": "python",
   "pygments_lexer": "ipython3",
   "version": "3.5.2"
  }
 },
 "nbformat": 4,
 "nbformat_minor": 2
}
