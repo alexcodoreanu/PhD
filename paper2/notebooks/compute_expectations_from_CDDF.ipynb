{
 "cells": [
  {
   "cell_type": "code",
   "execution_count": 16,
   "metadata": {
    "collapsed": true
   },
   "outputs": [],
   "source": [
    "import pandas as pd\n",
    "import numpy as np\n",
    "import matplotlib.pyplot as plt\n",
    "import matplotlib.mlab as mlab\n",
    "%matplotlib inline  \n",
    "import emcee\n",
    "import math\n",
    "import matplotlib\n",
    "from pylab import *\n",
    "import matplotlib.patheffects as PathEffects\n",
    "from scipy.integrate import quad\n",
    "\n",
    "\n",
    "\n",
    "hfont = {'fontname':'Times New roman'}\n",
    "mpl.rcParams['legend.numpoints'] = 1\n",
    "plot_path = '/Users/alex/Desktop/final_files/correct_precision/paper2/plots/'"
   ]
  },
  {
   "cell_type": "code",
   "execution_count": 17,
   "metadata": {
    "collapsed": true
   },
   "outputs": [],
   "source": [
    "# SiIV\n",
    "\n",
    "a = 1.46\n",
    "a_err = 0.31\n",
    "b = -14.77\n",
    "b_err = 0.25\n",
    "fn = lambda x, a, b:pow(10.0, b)*pow(pow(10.0, x)/pow(10.0, 13.64), -1.0*a)"
   ]
  },
  {
   "cell_type": "code",
   "execution_count": 18,
   "metadata": {},
   "outputs": [
    {
     "data": {
      "text/plain": [
       "(0.3759785057278289, 0.41952999559822685, 0.46812627457501177)"
      ]
     },
     "execution_count": 18,
     "metadata": {},
     "output_type": "execute_result"
    }
   ],
   "source": [
    "number_expected      = fn(14.6, a, b)*(14.42 + 1.98)*(pow(10., 14.8) - pow(10., 14.4))\n",
    "number_expected_low  = fn(14.6, a-a_err, b-b_err)*(14.42 + 1.98)*(pow(10., 14.8) - pow(10., 14.4))\n",
    "number_expected_high = fn(14.6, a+a_err, b+b_err)*(14.42 + 1.98)*(pow(10., 14.8) - pow(10., 14.4))\n",
    "\n",
    "number_expected_high, number_expected, number_expected_low"
   ]
  },
  {
   "cell_type": "code",
   "execution_count": 19,
   "metadata": {},
   "outputs": [
    {
     "data": {
      "text/plain": [
       "(2.4607644678809706, 18.416807217221034, 137.76793224380427)"
      ]
     },
     "execution_count": 19,
     "metadata": {},
     "output_type": "execute_result"
    }
   ],
   "source": [
    "# 3.95145746168e-16 2.957e-15 2.21281617854e-14\n",
    "\n",
    "number_expected_from_angela      = 2.957E-15*(14.42 + 1.98)*(pow(10., 14.8) - pow(10., 14.4))\n",
    "number_expected_from_angela_low  = 3.951e-16*(14.42 + 1.98)*(pow(10., 14.8) - pow(10., 14.4))\n",
    "number_expected_from_angela_high = 2.212e-14*(14.42 + 1.98)*(pow(10., 14.8) - pow(10., 14.4))\n",
    "\n",
    "\n",
    "number_expected_from_angela_low, number_expected_from_angela, number_expected_from_angela_high"
   ]
  },
  {
   "cell_type": "code",
   "execution_count": 20,
   "metadata": {},
   "outputs": [
    {
     "data": {
      "text/plain": [
       "39.047619047619044"
      ]
     },
     "execution_count": 20,
     "metadata": {},
     "output_type": "execute_result"
    }
   ],
   "source": [
    "1/0.42*16.40"
   ]
  },
  {
   "cell_type": "code",
   "execution_count": 21,
   "metadata": {
    "collapsed": true
   },
   "outputs": [],
   "source": [
    "# CIV\n",
    "#1.29 ± 0.08\n",
    "#-14.02 ± 0.07\n",
    "\n",
    "def integrand(x):\n",
    "    a = 1.29\n",
    "    a_err = 0.08\n",
    "    b = -14.02\n",
    "    b_err = 0.07\n",
    "\n",
    "    return x*pow(10.0, b)*pow(pow(10.0, x)/pow(10.0, 13.64), -1.0*a)\n"
   ]
  },
  {
   "cell_type": "code",
   "execution_count": 22,
   "metadata": {},
   "outputs": [
    {
     "data": {
      "text/html": [
       "<div>\n",
       "<table border=\"1\" class=\"dataframe\">\n",
       "  <thead>\n",
       "    <tr style=\"text-align: right;\">\n",
       "      <th></th>\n",
       "      <th>sol</th>\n",
       "      <th>id</th>\n",
       "      <th>z</th>\n",
       "      <th>min_v</th>\n",
       "      <th>v</th>\n",
       "      <th>max_v</th>\n",
       "      <th>min_n</th>\n",
       "      <th>n</th>\n",
       "      <th>max_n</th>\n",
       "      <th>flag</th>\n",
       "    </tr>\n",
       "  </thead>\n",
       "  <tbody>\n",
       "    <tr>\n",
       "      <th>0</th>\n",
       "      <td>S0927</td>\n",
       "      <td>12</td>\n",
       "      <td>4.34608</td>\n",
       "      <td>19.5252</td>\n",
       "      <td>39.8286</td>\n",
       "      <td>60.132</td>\n",
       "      <td>12.8645</td>\n",
       "      <td>12.9767</td>\n",
       "      <td>13.2101</td>\n",
       "      <td>iso</td>\n",
       "    </tr>\n",
       "  </tbody>\n",
       "</table>\n",
       "</div>"
      ],
      "text/plain": [
       "     sol  id        z    min_v        v   max_v    min_n        n    max_n  \\\n",
       "0  S0927  12  4.34608  19.5252  39.8286  60.132  12.8645  12.9767  13.2101   \n",
       "\n",
       "  flag  \n",
       "0  iso  "
      ]
     },
     "execution_count": 22,
     "metadata": {},
     "output_type": "execute_result"
    }
   ],
   "source": [
    "c4 = pd.read_csv('c4_logN_v90.csv')\n",
    "flags = ['iso', 'low', 'high', 'low_high']\n",
    "\n",
    "c4[0:1]"
   ]
  },
  {
   "cell_type": "code",
   "execution_count": 23,
   "metadata": {},
   "outputs": [
    {
     "data": {
      "text/plain": [
       "(12.5669, 14.73936252)"
      ]
     },
     "execution_count": 23,
     "metadata": {},
     "output_type": "execute_result"
    }
   ],
   "source": [
    "min(c4.n), max(c4.n)"
   ]
  },
  {
   "cell_type": "code",
   "execution_count": 24,
   "metadata": {
    "collapsed": true
   },
   "outputs": [],
   "source": [
    "x = np.array([ 12.6250, 12.8750, 13.1250, 13.3750, 13.6250, 13.8750, 14.1250, 14.3750, 14.6250])\n",
    "xbound_low  = np.array(x - 0.125)\n",
    "xbound_high = np.array(x + 0.125)\n",
    "\n",
    "N_array = np.zeros(len(x))\n",
    "N_zeros = np.zeros(len(x))\n",
    "for i in range(0, len(x)):\n",
    "    values = np.array(c4.loc[(c4.n > xbound_low[i]) & (c4.n <= xbound_high[i])].n)\n",
    "    N_array[i] = sum(pow(10, values))\n",
    "    \n",
    "    "
   ]
  },
  {
   "cell_type": "code",
   "execution_count": 27,
   "metadata": {},
   "outputs": [
    {
     "data": {
      "image/png": "[encoded data removed]",
      "text/plain": [
       "<matplotlib.figure.Figure at 0x118fb3828>"
      ]
     },
     "metadata": {},
     "output_type": "display_data"
    }
   ],
   "source": [
    "plt.plot([xbound_low, xbound_low], [N_zeros, N_array/sum(N_array)], 'k-')\n",
    "plt.plot([xbound_high, xbound_high], [N_zeros, N_array/sum(N_array)], 'k-')\n",
    "plt.plot([xbound_low, xbound_high], [N_array/sum(N_array), N_array/sum(N_array)], 'k-')\n",
    "\n",
    "for i in range(0, len(x)):\n",
    "    plt.fill_between([xbound_low[i],xbound_high[i] ], [0, 0], \n",
    "                 [N_array[i]/sum(N_array), N_array[i]/sum(N_array)], \n",
    "                 color = 'r', lw=1.5, alpha = 0.5)\n",
    "\n",
    "i=0\n",
    "plt.fill_between([xbound_low[i],xbound_high[i] ], [0, 0], \n",
    "         [N_array[i]/sum(N_array), N_array[i]/sum(N_array)], \n",
    "         color = 'r', lw=1.5, alpha = 0.5, label = 'CIV')\n",
    "plt.xticks([ 12.5, 13.25, 14, 14.75], **hfont, fontsize = 18)\n",
    "\n",
    "ylabels = ['0.1', '0.2', '0.3']\n",
    "plt.yticks([0.1, 0.2, 0.3], ylabels, **hfont, fontsize = 18)\n",
    "\n",
    "plt.grid(True)\n",
    "\n",
    "\n",
    "ylabel = '$f$ ($\\Omega_{CIV}$)'\n",
    "plt.xlabel('log(N$_{CIV}$)', **hfont,  fontsize=24)\n",
    "plt.ylabel(ylabel, **hfont,  fontsize=24)\n",
    "\n",
    "#plt.rc('legend',**{'fontsize':24})\n",
    "#plt.rc('font',family='Times New Roman')\n",
    "#plt.legend(loc=2, borderaxespad=1, shadow=True)\n",
    "\n",
    "\n",
    "plt.ylim([0.0, 0.32] )\n",
    "plt.xlim([12.25, 15.0])\n",
    "\n",
    "\n",
    "\n",
    "plot_name = plot_path + 'c4_fraction.png'\n",
    "plt.savefig(plot_name, bbox_inches='tight', figsize=[12,9], dpi=500)\n",
    "\n"
   ]
  },
  {
   "cell_type": "code",
   "execution_count": null,
   "metadata": {
    "collapsed": true
   },
   "outputs": [],
   "source": []
  },
  {
   "cell_type": "code",
   "execution_count": null,
   "metadata": {
    "collapsed": true
   },
   "outputs": [],
   "source": []
  },
  {
   "cell_type": "code",
   "execution_count": null,
   "metadata": {
    "collapsed": true
   },
   "outputs": [],
   "source": []
  },
  {
   "cell_type": "code",
   "execution_count": null,
   "metadata": {
    "collapsed": true
   },
   "outputs": [],
   "source": []
  },
  {
   "cell_type": "code",
   "execution_count": null,
   "metadata": {
    "collapsed": true
   },
   "outputs": [],
   "source": []
  },
  {
   "cell_type": "code",
   "execution_count": null,
   "metadata": {
    "collapsed": true
   },
   "outputs": [],
   "source": []
  },
  {
   "cell_type": "code",
   "execution_count": null,
   "metadata": {
    "collapsed": true
   },
   "outputs": [],
   "source": []
  }
 ],
 "metadata": {
  "anaconda-cloud": {},
  "kernelspec": {
   "display_name": "Python [Root]",
   "language": "python",
   "name": "Python [Root]"
  },
  "language_info": {
   "codemirror_mode": {
    "name": "ipython",
    "version": 3
   },
   "file_extension": ".py",
   "mimetype": "text/x-python",
   "name": "python",
   "nbconvert_exporter": "python",
   "pygments_lexer": "ipython3",
   "version": "3.5.2"
  }
 },
 "nbformat": 4,
 "nbformat_minor": 2
}
