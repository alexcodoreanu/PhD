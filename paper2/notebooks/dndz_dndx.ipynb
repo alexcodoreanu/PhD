{
 "cells": [
  {
   "cell_type": "code",
   "execution_count": 4,
   "metadata": {
    "collapsed": true
   },
   "outputs": [],
   "source": [
    "import pandas as pd\n",
    "import numpy as np\n",
    "import matplotlib.pyplot as plt\n",
    "import matplotlib.mlab as mlab\n",
    "%matplotlib inline  \n",
    "import emcee\n",
    "import math\n",
    "import matplotlib\n",
    "from pylab import *\n",
    "hfont = {'fontname':'Times New roman'}\n",
    "\n",
    "plot_path = '/Users/alex/Desktop/final_files/correct_precision/paper2/plots/incidence_plots/'\n",
    "\n",
    "mpl.rcParams['legend.numpoints'] = 1\n",
    "\n"
   ]
  },
  {
   "cell_type": "code",
   "execution_count": 24,
   "metadata": {
    "scrolled": false
   },
   "outputs": [
    {
     "name": "stdout",
     "output_type": "stream",
     "text": [
      "[ 4.765  5.695]\n",
      "[ 5.695]\n"
     ]
    },
    {
     "data": {
      "image/png": "[encoded data removed]",
      "text/plain": [
       "<matplotlib.figure.Figure at 0x11899f4e0>"
      ]
     },
     "metadata": {},
     "output_type": "display_data"
    }
   ],
   "source": [
    "plt.yscale('log')\n",
    "\n",
    "# CIV values\n",
    "sigma5_z = [4.77, 5.66]\n",
    "sigma5_z_low  = [4.34, 5.19]\n",
    "sigma5_z_high = [5.19, 6.13]\n",
    "\n",
    "si4_sigma5_z = [5.05, 5.65]\n",
    "si4_sigma5_z_low  = [4.92, 5.19]\n",
    "si4_sigma5_z_high = [5.19, 6.13]\n",
    "\n",
    "\n",
    "sigma5_values = [16.46, \n",
    "                 4.39]\n",
    "\n",
    "sigma5_bound_low  = [16.46 - 2.40, \n",
    "                     4.39 - 1.18]\n",
    "\n",
    "sigma5_bound_high = [16.46 + 2.40, \n",
    "                     4.39 + 1.18]\n",
    "\n",
    "plt.plot([sigma5_z_low, sigma5_z_high], [sigma5_values, sigma5_values], 'k-', lw=1.0)\n",
    "plt.plot([sigma5_z, sigma5_z], [sigma5_bound_low, sigma5_bound_high], 'k-', lw=1.0) \n",
    "plt.plot(sigma5_z, sigma5_values, 'kD', markersize=12, alpha=1.0)  \n",
    "plt.plot(sigma5_z, sigma5_values, 'rD', markersize=11, alpha=1.0, label = 'CIV  -- this work') \n",
    "\n",
    "\n",
    "b14_low_z  = [1.6, 2.3, 3, 3.7]\n",
    "b14_high_z = [ 2.3, 3, 3.7, 4.5]\n",
    "b14_z      = [1.95, 2.66, 3.36, 4.1]\n",
    "b14_val      = 10**np.array([1.14, 1.22, 1.33, 1.25])\n",
    "b14_val_low  = 10**np.array([1.05, 1.17, 1.3, 1.17] )\n",
    "b14_val_high = 10**np.array([1.21, 1.27, 1.38, 1.31])\n",
    "\n",
    "\n",
    "plt.plot([b14_low_z, b14_high_z], [b14_val, b14_val], 'k-', lw=1.0)\n",
    "plt.plot([b14_z, b14_z], [b14_val_low, b14_val_high], 'k-', lw=1.0) \n",
    "plt.plot(b14_z, b14_val, 'kD', markersize=12, alpha=1.0)  \n",
    "plt.plot(b14_z, b14_val, 'cD', markersize=11, alpha=1.0, label = '             Boksenberg15') \n",
    "\n",
    "###################################################################\n",
    "v14_z_low = np.array([4.34, 5.19])\n",
    "v14_z_high = np.array([5.19, 6.20])\n",
    "v14_z_mean = (v14_z_high - v14_z_low)/2 + v14_z_low\n",
    "\n",
    "v14_val = np.array([16.06, 3.25])\n",
    "v14_err = np.array([2.04, 0.34])\n",
    "print(v14_z_mean)\n",
    "\n",
    "\n",
    "plt.plot([v14_z_low, v14_z_high], [v14_val, v14_val], 'k-', lw=1.0)\n",
    "plt.plot([v14_z_mean, v14_z_mean], [v14_val-v14_err, v14_val+v14_err], 'k-', lw=1.0)\n",
    "plt.plot(v14_z_mean,  v14_val, 'kD', markersize=12, alpha=1.0)  \n",
    "plt.plot(v14_z_mean,  v14_val, 'mD', markersize=11, alpha=1.0, label = \"             D'Odorico13\")    \n",
    "plt.plot(sigma5_z, sigma5_values, 'kD', markersize=12, alpha=1.0)  \n",
    "plt.plot(sigma5_z, sigma5_values, 'rD', markersize=11, alpha=1.0) \n",
    "\n",
    "\n",
    "\n",
    "\n",
    "###################################################################\n",
    "# SiIV values\n",
    "si4_sigma5_values = [9.79, \n",
    "                     2.39]\n",
    "\n",
    "si4_sigma5_bound_low  = [9.79 - 4.75, \n",
    "                         2.39 - 0.87]\n",
    "si4_sigma5_bound_high = [9.79 + 4.75, \n",
    "                         2.39 + 0.87]\n",
    "plt.plot([si4_sigma5_z_low, si4_sigma5_z_high], \n",
    "         [si4_sigma5_values, si4_sigma5_values], 'k-', lw=1.0)\n",
    "plt.plot([si4_sigma5_z, si4_sigma5_z], \n",
    "         [si4_sigma5_bound_low, si4_sigma5_bound_high], 'k-', lw=1.0)\n",
    "\n",
    "plt.plot(si4_sigma5_z, si4_sigma5_values, 'k^', markersize=12, alpha=1.0)  \n",
    "plt.plot(si4_sigma5_z, si4_sigma5_values, 'b^', markersize=11,alpha=1.0, label = 'SiIV -- this work')   \n",
    "\n",
    "###################################################################\n",
    "b14_low_z  = [1.88, 2.3, 3, 3.7]\n",
    "b14_high_z = [ 2.23, 3, 3.7, 4.5]\n",
    "b14_z      = [2.10, 2.66, 3.36, 4.1]\n",
    "b14_val      = 10**np.array([1.12, 1.14, 1.17, 1.22])\n",
    "b14_val_low  = 10**np.array([0.89, 1.02, 1.05, 1.11] )\n",
    "b14_val_high = 10**np.array([1.26, 1.22, 1.26, 1.3])\n",
    "\n",
    "\n",
    "plt.plot([b14_low_z, b14_high_z], [b14_val, b14_val], 'k-', lw=1.0)\n",
    "plt.plot([b14_z, b14_z], [b14_val_low, b14_val_high], 'k-', lw=1.0) \n",
    "plt.plot(b14_z, b14_val, 'k^', markersize=12, alpha=1.0)  \n",
    "plt.plot(b14_z, b14_val, 'c^', markersize=11, alpha=1.0, label = '             Boksenberg15') \n",
    "###################################################################\n",
    "\n",
    "v14_z_low = np.array([5.19])\n",
    "v14_z_high = np.array([6.20])\n",
    "v14_z_mean = (v14_z_high - v14_z_low)/2 + v14_z_low\n",
    "print(v14_z_mean)\n",
    "v14_val = np.array([ 3.62])\n",
    "v14_err = np.array([0.83])\n",
    "\n",
    "plt.plot([v14_z_low, v14_z_high], [v14_val, v14_val], 'k-', lw=1.0)\n",
    "plt.plot([v14_z_mean, v14_z_mean], [v14_val-v14_err, v14_val+v14_err], 'k-', lw=1.0)\n",
    "plt.plot(v14_z_mean,  v14_val, 'k^', markersize=12, alpha=1.0)  \n",
    "plt.plot(v14_z_mean,  v14_val, 'm^', markersize=11, alpha=1.0, label = \"             D'Odorico13\")    \n",
    "\n",
    "###################################################################\n",
    "\n",
    "plt.plot(sigma5_z, sigma5_values, 'kD', markersize=12, alpha=1.0)  \n",
    "plt.plot(sigma5_z, sigma5_values, 'rD', markersize=11, alpha=1.0)\n",
    "plt.plot(v14_z_mean,  v14_val, 'k^', markersize=12, alpha=1.0)  \n",
    "plt.plot(v14_z_mean,  v14_val, 'm^', markersize=11, alpha=1.0)   \n",
    "\n",
    "\n",
    "###################################################################\n",
    "plt.ylim([0.6,35.] )\n",
    "plt.xlim([1.5,6.2])\n",
    "\n",
    "xlabels = ['2', ' ', '3', ' ', '4', ' ', '5', ' ', '6']\n",
    "plt.xticks([2, 2.5, 3, 3.5, 4, 4.5, 5 , 5.5, 6],  \n",
    "            xlabels, **hfont, fontsize = 18)\n",
    "\n",
    "ylabels = ['1.0', '10']\n",
    "plt.yticks([1, 10], ylabels, **hfont, fontsize = 18)\n",
    "plt.grid(True)\n",
    "\n",
    "\n",
    "plt.xlabel('Redshift', **hfont,  fontsize=24)\n",
    "plt.ylabel('dN/dz', **hfont,  fontsize=24)\n",
    "\n",
    "\n",
    "\n",
    "plt.tick_params(direction='in', length=6, width=2)\n",
    "plt.tick_params(which='minor', length=5)\n",
    "plt.rc('legend',**{'fontsize':13})\n",
    "plt.rc('font',family='Times New Roman')\n",
    "plt.legend(loc=0, borderaxespad=0.81, shadow=True)\n",
    "#bbox_to_anchor=(0.3, 0.5), \n",
    "plt.text(1.8, 37, '3.29', **hfont,  fontsize=18)\n",
    "plt.text(2.8, 37, '2.15', **hfont,  fontsize=18)\n",
    "plt.text(3.8, 37, '1.55', **hfont,  fontsize=18)\n",
    "plt.text(4.8, 37, '1.18', **hfont,  fontsize=18)\n",
    "plt.text(5.8, 37, '0.94', **hfont,  fontsize=18)\n",
    "plt.text(2.5, 50, 'Age of the universe (Gyr)', **hfont,  fontsize=20)\n",
    "###################################################################\n",
    "\n",
    "plot_name = plot_path + 'incidence_rates.png'\n",
    "plt.savefig(plot_name, bbox_inches='tight', figsize=[12,9], dpi=500)"
   ]
  },
  {
   "cell_type": "code",
   "execution_count": 6,
   "metadata": {},
   "outputs": [
    {
     "data": {
      "text/plain": [
       "'/Users/alex/Desktop/final_files/correct_precision/paper2/notebooks'"
      ]
     },
     "execution_count": 6,
     "metadata": {},
     "output_type": "execute_result"
    }
   ],
   "source": [
    "pwd\n"
   ]
  },
  {
   "cell_type": "code",
   "execution_count": 7,
   "metadata": {},
   "outputs": [
    {
     "data": {
      "text/plain": [
       "4.096234309623431"
      ]
     },
     "execution_count": 7,
     "metadata": {},
     "output_type": "execute_result"
    }
   ],
   "source": [
    "9.79/2.39"
   ]
  },
  {
   "cell_type": "code",
   "execution_count": 8,
   "metadata": {},
   "outputs": [
    {
     "data": {
      "text/plain": [
       "3.749430523917996"
      ]
     },
     "execution_count": 8,
     "metadata": {},
     "output_type": "execute_result"
    }
   ],
   "source": [
    "16.46/4.39"
   ]
  },
  {
   "cell_type": "code",
   "execution_count": 14,
   "metadata": {},
   "outputs": [],
   "source": [
    "b14_val      = 10**np.array([1.12, 1.14, 1.17, 1.22])\n",
    "b14_val_low  = 10**np.array([0.89, 1.02, 1.05, 1.11] )\n",
    "b14_val_high = 10**np.array([1.26, 1.22, 1.26, 1.3])\n",
    "\n",
    "b14_val_c4      = 10**np.array([1.14, 1.22, 1.33, 1.25])\n",
    "b14_val_low_c4  = 10**np.array([1.05, 1.17, 1.3, 1.17] )\n",
    "b14_val_high_c4 = 10**np.array([1.21, 1.27, 1.38, 1.31])\n",
    "\n",
    "\n",
    "\n"
   ]
  },
  {
   "cell_type": "code",
   "execution_count": 19,
   "metadata": {},
   "outputs": [
    {
     "data": {
      "text/plain": [
       "(14.593340746912649,\n",
       " 10.584109176686724,\n",
       " 18.235627349066018,\n",
       " 3.8201231324281486)"
      ]
     },
     "execution_count": 19,
     "metadata": {},
     "output_type": "execute_result"
    }
   ],
   "source": [
    "np.mean(b14_val), np.mean(b14_val_low), np.mean(b14_val_high), pow(np.mean(b14_val), 0.5)"
   ]
  },
  {
   "cell_type": "code",
   "execution_count": 20,
   "metadata": {},
   "outputs": [
    {
     "data": {
      "text/plain": [
       "(17.390531678954002,\n",
       " 15.188743864018143,\n",
       " 19.811170244277044,\n",
       " 4.1701956403691662)"
      ]
     },
     "execution_count": 20,
     "metadata": {},
     "output_type": "execute_result"
    }
   ],
   "source": [
    "np.mean(b14_val_c4), np.mean(b14_val_low_c4), np.mean(b14_val_high_c4),  pow(np.mean(b14_val_c4), 0.5)"
   ]
  },
  {
   "cell_type": "code",
   "execution_count": 18,
   "metadata": {},
   "outputs": [
    {
     "data": {
      "text/plain": [
       "4.009231570225925"
      ]
     },
     "execution_count": 18,
     "metadata": {},
     "output_type": "execute_result"
    }
   ],
   "source": [
    "14.593340746912649 - 10.584109176686724"
   ]
  },
  {
   "cell_type": "code",
   "execution_count": 21,
   "metadata": {},
   "outputs": [
    {
     "data": {
      "text/plain": [
       "array([ 5.695])"
      ]
     },
     "execution_count": 21,
     "metadata": {},
     "output_type": "execute_result"
    }
   ],
   "source": [
    "v14_z_mean"
   ]
  },
  {
   "cell_type": "code",
   "execution_count": null,
   "metadata": {
    "collapsed": true
   },
   "outputs": [],
   "source": []
  },
  {
   "cell_type": "code",
   "execution_count": null,
   "metadata": {
    "collapsed": true
   },
   "outputs": [],
   "source": []
  },
  {
   "cell_type": "code",
   "execution_count": 4,
   "metadata": {},
   "outputs": [
    {
     "data": {
      "text/plain": [
       "[<matplotlib.lines.Line2D at 0x116c9ae80>]"
      ]
     },
     "execution_count": 4,
     "metadata": {},
     "output_type": "execute_result"
    },
    {
     "data": {
      "image/png": "[encoded data removed]",
      "text/plain": [
       "<matplotlib.figure.Figure at 0x116bd7d68>"
      ]
     },
     "metadata": {},
     "output_type": "display_data"
    }
   ],
   "source": [
    "#####\n",
    "#\n",
    "#\n",
    "#\n",
    "# dNdX\n",
    "# CIV values\n",
    "sigma5_values = [3.8067953360841136, \n",
    "                 0.95]\n",
    "sigma5_bound_low  = [3.8067953360841136 - 0.5547907685606378, \n",
    "                     0.95 - 0.26]\n",
    "sigma5_bound_high = [3.8067953360841136 + 0.5547907685606378, \n",
    "                     0.95 + 0.26]\n",
    "\n",
    "\n",
    "plt.plot([sigma5_z_low, sigma5_z_high], [sigma5_values, sigma5_values], 'k-', lw=1.0)\n",
    "plt.plot([sigma5_z, sigma5_z], [sigma5_bound_low, sigma5_bound_high], 'k-', lw=1.0)\n",
    "\n",
    "\n",
    "plt.plot(sigma5_z,  sigma5_values, 'kD', markersize=12, alpha=1.0)  \n",
    "plt.plot(sigma5_z,  sigma5_values, 'mD', markersize=11, alpha=1.0, label = 'dN/dX -- CIV')    \n",
    "\n",
    "\n",
    "#####\n",
    "#\n",
    "#\n",
    "#\n",
    "# dNdX\n",
    "# SiIV values\n",
    "si4_sigma5_values = [2.2132540171497253, \n",
    "                     0.5183498837438151]\n",
    "si4_sigma5_bound_low  = [2.2132540171497253 - 1.0742050086760178, \n",
    "                         0.5183498837438151 - 0.1895989363028739]\n",
    "si4_sigma5_bound_high = [2.2132540171497253 + 1.0742050086760178, \n",
    "                         0.5183498837438151 + 0.1895989363028739]\n",
    "\n",
    "plt.plot([si4_sigma5_z_low, si4_sigma5_z_high], \n",
    "         [si4_sigma5_values, si4_sigma5_values], 'k-', lw=1.0)\n",
    "plt.plot([si4_sigma5_z, si4_sigma5_z], \n",
    "         [si4_sigma5_bound_low, si4_sigma5_bound_high], 'k-', lw=1.0)\n",
    "\n",
    "plt.plot(si4_sigma5_z, si4_sigma5_values, 'k^', markersize=12, alpha=1.0)  \n",
    "plt.plot(si4_sigma5_z, si4_sigma5_values, 'g^', markersize=11, alpha=1.0, label = \"               SiIV'\")   \n",
    "\n",
    "\n",
    "\n"
   ]
  },
  {
   "cell_type": "code",
   "execution_count": null,
   "metadata": {
    "collapsed": true
   },
   "outputs": [],
   "source": []
  },
  {
   "cell_type": "code",
   "execution_count": null,
   "metadata": {
    "collapsed": true
   },
   "outputs": [],
   "source": []
  },
  {
   "cell_type": "code",
   "execution_count": null,
   "metadata": {
    "collapsed": true
   },
   "outputs": [],
   "source": []
  },
  {
   "cell_type": "code",
   "execution_count": null,
   "metadata": {
    "collapsed": true
   },
   "outputs": [],
   "source": []
  },
  {
   "cell_type": "code",
   "execution_count": null,
   "metadata": {
    "collapsed": true
   },
   "outputs": [],
   "source": []
  }
 ],
 "metadata": {
  "anaconda-cloud": {},
  "kernelspec": {
   "display_name": "Python [Root]",
   "language": "python",
   "name": "Python [Root]"
  },
  "language_info": {
   "codemirror_mode": {
    "name": "ipython",
    "version": 3
   },
   "file_extension": ".py",
   "mimetype": "text/x-python",
   "name": "python",
   "nbconvert_exporter": "python",
   "pygments_lexer": "ipython3",
   "version": "3.5.2"
  }
 },
 "nbformat": 4,
 "nbformat_minor": 1
}
