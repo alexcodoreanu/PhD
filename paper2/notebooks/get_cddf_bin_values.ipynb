{
 "cells": [
  {
   "cell_type": "code",
   "execution_count": 1,
   "metadata": {
    "collapsed": true
   },
   "outputs": [],
   "source": [
    "import pandas as pd\n",
    "import numpy as np\n",
    "import matplotlib.pyplot as plt\n",
    "%matplotlib inline  \n",
    "import emcee\n",
    "import math\n",
    "\n",
    "local_sol = ['S0927', 'S1306', 'U0148', 'U1319']\n",
    "\n",
    "\n",
    "zbin_bound_low  = np.array([4.35, 5.19])\n",
    "zbin_bound_high = np.array([5.19, 6.13])\n",
    "\n",
    "c4_name = '/Users/acodoreanu/Desktop/final_files/correct_precision/paper2/cddfs/cddf_input_tables/c4_full__cddf_input.csv'\n",
    "c4_name = '/Users/alex/Desktop/final_files/correct_precision/paper2/cddfs/cddf_input_tables/c4_full__cddf_input.csv'\n",
    "c4 = pd.read_csv(c4_name)\n",
    "\n",
    "si4_name = '/Users/acodoreanu/Desktop/final_files/correct_precision/paper2/cddfs/cddf_input_tables/si4_full__cddf_input.csv'\n",
    "si4_name = '/Users/alex/Desktop/final_files/correct_precision/paper2/cddfs/cddf_input_tables/si4_full__cddf_input.csv'\n",
    "si4 = pd.read_csv(si4_name)\n",
    "\n",
    "mg2_name = '/Users/acodoreanu/Desktop/final_files/correct_precision/paper2/cddfs/cddf_input_tables/mg2_full__cddf_input.csv'\n",
    "mg2_name = '/Users/alex/Desktop/final_files/correct_precision/paper2/cddfs/cddf_input_tables/mg2_full__cddf_input.csv'\n",
    "mg2 = pd.read_csv(mg2_name)\n",
    "\n",
    "\n",
    "column_density_bins = np.array(list(range(2,12)))*0.25 + 12.0\n",
    "column_density_bin_step = column_density_bins[1]-column_density_bins[0]\n"
   ]
  },
  {
   "cell_type": "code",
   "execution_count": 2,
   "metadata": {
    "scrolled": true
   },
   "outputs": [
    {
     "name": "stdout",
     "output_type": "stream",
     "text": [
      "12.5 12.75 2 4.98979586745 2.23378509876 2.46113559174e+12 2.02743639327e-12 9.0762374339e-13\n",
      "12.75 13.0 4 6.80384543082 2.60841818557 4.3765867481e+12 1.55460083906e-12 5.95993712842e-13\n",
      "13.0 13.25 8 10.2904456249 3.20787244523 7.78279410039e+12 1.32220453119e-12 4.12174908375e-13\n",
      "13.25 13.5 9 10.3215612102 3.21271866341 1.38399825013e+13 7.45778487022e-13 2.32133144902e-13\n",
      "13.5 13.75 2 2.15487638471 1.46794972145 2.46113559174e+13 8.75561830867e-14 5.964521932e-14\n",
      "13.75 14.0 5 5.24303292228 2.28976700174 4.3765867481e+13 1.19797303791e-13 5.23185562982e-14\n",
      "14.0 14.25 2 2.07328868161 1.43989189928 7.78279410039e+13 2.6639387537e-14 1.85009635448e-14\n",
      "14.25 14.5 1 1.0366443408 1.01815732615 1.38399825013e+14 7.4902142449e-15 7.35663738057e-15\n",
      "14.5 14.75 1 1.03615990849 1.01791940176 2.46113559174e+14 4.210088676e-15 4.13597448748e-15\n"
     ]
    }
   ],
   "source": [
    "# below redshift 5.19 slices\n",
    "z_index = np.where(si4.z <= 5.19)\n",
    "local_si4 = si4.loc[z_index]\n",
    "local_si4 = local_si4.set_index([list(range(len(local_si4.N)))])\n",
    "\n",
    "dx_si4_z1 =  1.91803671035\n",
    "#plt.plot(local_si4.N, local_si4.comp, 'r^')\n",
    "\n",
    "z_index = np.where(c4.z <= 5.19)\n",
    "local_c4 = c4.loc[z_index]\n",
    "local_c4 = local_c4.set_index([list(range(len(local_c4.N)))])\n",
    "dx_c4_z1 =  12.368045564\n",
    "#plt.plot(local_c4.N, local_c4.comp, 'k^')\n",
    "\n",
    "\n",
    "# now get the bin values\n",
    "for c in range(0,len(column_density_bins)):\n",
    "    lowcd  = column_density_bins[c]\n",
    "    highcd = column_density_bins[c]+column_density_bin_step\n",
    "    logNstep = pow(10.0,highcd) - pow(10.0,lowcd)\n",
    "    # get the number of systems in the column_density bin\n",
    "    cd_index = np.array(np.where((local_c4.N > lowcd) & (local_c4.N <= highcd)))\n",
    "    \n",
    "    if len(cd_index[0])>0:\n",
    "        realN = sum(1./local_c4.loc[cd_index[0]].comp)\n",
    "        realN_err = realN**0.5\n",
    "\n",
    "        print(lowcd, \n",
    "              highcd,len(cd_index[0]), \n",
    "              realN, \n",
    "              realN_err, \n",
    "              logNstep, \n",
    "              realN/logNstep,\n",
    "              realN_err/logNstep)"
   ]
  },
  {
   "cell_type": "code",
   "execution_count": 3,
   "metadata": {},
   "outputs": [
    {
     "name": "stdout",
     "output_type": "stream",
     "text": [
      "12.75 13.0 1 3.18236207643 1.78391762042 4.3765867481e+12 7.27133325487e-13 4.07604766703e-13\n",
      "13.0 13.25 2 4.86519753918 2.20571927932 7.78279410039e+12 6.25122221715e-13 2.83409692056e-13\n",
      "13.25 13.5 3 4.95796630564 2.22664912046 1.38399825013e+13 3.58235012593e-13 1.60885255473e-13\n",
      "13.5 13.75 1 1.48222808526 1.21746789907 2.46113559174e+13 6.02253728009e-14 4.9467729578e-14\n",
      "14.0 14.25 1 1.20614894733 1.09824812649 7.78279410039e+13 1.54976340345e-14 1.41112319345e-14\n"
     ]
    }
   ],
   "source": [
    "# below redshift 5.19 slices\n",
    "z_index = np.where(si4.z > 5.19)\n",
    "local_si4 = si4.loc[z_index]\n",
    "dx_si4_z2 =  14.4195335701\n",
    "#plt.plot(local_si4.N, local_si4.comp, 'r^')\n",
    "\n",
    "z_index = np.where(c4.z > 5.19)\n",
    "local_c4 = c4.loc[z_index]\n",
    "local_c4 = local_c4.set_index([list(range(len(local_c4.N)))])\n",
    "dx_c4_z2 =  14.4195335701\n",
    "#plt.plot(local_c4.N, local_c4.comp, 'k^')\n",
    "\n",
    "\n",
    "# now get the bin values\n",
    "for c in range(0,len(column_density_bins)):\n",
    "    lowcd  = column_density_bins[c]\n",
    "    highcd = column_density_bins[c]+column_density_bin_step\n",
    "    logNstep = pow(10.0,highcd) - pow(10.0,lowcd)\n",
    "    # get the number of systems in the column_density bin\n",
    "    cd_index = np.array(np.where((local_c4.N > lowcd) & (local_c4.N <= highcd)))\n",
    "    \n",
    "    if len(cd_index[0])>0:\n",
    "        realN = sum(1./local_c4.loc[cd_index[0]].comp)\n",
    "        realN_err = realN**0.5\n",
    "\n",
    "        print(lowcd, \n",
    "              highcd,len(cd_index[0]), \n",
    "              realN,  \n",
    "              realN_err,  \n",
    "              logNstep,  \n",
    "              realN/logNstep, \n",
    "              realN_err/logNstep)"
   ]
  },
  {
   "cell_type": "code",
   "execution_count": 12,
   "metadata": {},
   "outputs": [
    {
     "name": "stdout",
     "output_type": "stream",
     "text": [
      "12.5 12.75 2 4.98979586745 2.23378509876 2.46113559174e+12 2.02743639327e-12 9.0762374339e-13\n",
      "12.75 13.0 4 6.80384543082 2.60841818557 4.3765867481e+12 1.55460083906e-12 5.95993712842e-13\n",
      "13.0 13.25 8 10.2904456249 3.20787244523 7.78279410039e+12 1.32220453119e-12 4.12174908375e-13\n",
      "13.25 13.5 9 10.3215612102 3.21271866341 1.38399825013e+13 7.45778487022e-13 2.32133144902e-13\n",
      "13.5 13.75 2 2.15487638471 1.46794972145 2.46113559174e+13 8.75561830867e-14 5.964521932e-14\n",
      "13.75 14.0 5 5.24303292228 2.28976700174 4.3765867481e+13 1.19797303791e-13 5.23185562982e-14\n",
      "14.0 14.25 2 2.07328868161 1.43989189928 7.78279410039e+13 2.6639387537e-14 1.85009635448e-14\n",
      "14.25 14.5 1 1.0366443408 1.01815732615 1.38399825013e+14 7.4902142449e-15 7.35663738057e-15\n",
      "14.5 14.75 1 1.03615990849 1.01791940176 2.46113559174e+14 4.210088676e-15 4.13597448748e-15\n"
     ]
    }
   ],
   "source": [
    "z_index = np.where((c4.z > 4.33) & (c4.z <= 5.19))\n",
    "local_c4 = c4.loc[z_index]\n",
    "local_c4 = local_c4.set_index([list(range(len(local_c4.N)))])\n",
    "dx_c4_z2 = 12.368045564\n",
    "\n",
    "# now get the bin values\n",
    "for c in range(0,len(column_density_bins)):\n",
    "    lowcd  = column_density_bins[c]\n",
    "    highcd = column_density_bins[c]+column_density_bin_step\n",
    "    logNstep = pow(10.0,highcd) - pow(10.0,lowcd)\n",
    "    # get the number of systems in the column_density bin\n",
    "    cd_index = np.array(np.where((local_c4.N > lowcd) & (local_c4.N <= highcd)))\n",
    "    \n",
    "    if len(cd_index[0])>0:\n",
    "        realN = sum(1./local_c4.loc[cd_index[0]].comp)\n",
    "        realN_err = realN**0.5\n",
    "\n",
    "        print(lowcd, \n",
    "              highcd,len(cd_index[0]), \n",
    "              realN,  \n",
    "              realN_err,  \n",
    "              logNstep,  \n",
    "              realN/logNstep, \n",
    "              realN_err/logNstep)"
   ]
  },
  {
   "cell_type": "code",
   "execution_count": null,
   "metadata": {
    "collapsed": true
   },
   "outputs": [],
   "source": [
    "z_index = np.where((c4.z > 4.33) & (c4.z <= 5.30))\n",
    "local_c4 = c4.loc[z_index]\n",
    "local_c4 = local_c4.set_index([list(range(len(local_c4.N)))])\n",
    "dx_c4_z2 = 14.3402319031\n",
    "\n",
    "# now get the bin values\n",
    "for c in range(0,len(column_density_bins)):\n",
    "    lowcd  = column_density_bins[c]\n",
    "    highcd = column_density_bins[c]+column_density_bin_step\n",
    "    logNstep = pow(10.0,highcd) - pow(10.0,lowcd)\n",
    "    # get the number of systems in the column_density bin\n",
    "    cd_index = np.array(np.where((local_c4.N > lowcd) & (local_c4.N <= highcd)))\n",
    "    \n",
    "    if len(cd_index[0])>0:\n",
    "        realN = sum(1./local_c4.loc[cd_index[0]].comp)\n",
    "        realN_err = realN**0.5\n",
    "\n",
    "        print(lowcd, \n",
    "              highcd,len(cd_index[0]), \n",
    "              realN,  \n",
    "              realN_err,  \n",
    "              logNstep,  \n",
    "              realN/logNstep, \n",
    "              realN_err/logNstep)"
   ]
  },
  {
   "cell_type": "code",
   "execution_count": 16,
   "metadata": {},
   "outputs": [
    {
     "name": "stdout",
     "output_type": "stream",
     "text": [
      "12.5 12.75 2 4.98979586745 2.23378509876 2.46113559174e+12 1.05684080448e-13 4.73116597054e-14\n",
      "12.75 13.0 3 6.37553870306 2.52498291144 4.3765867481e+12 7.59352943023e-14 3.00735874125e-14\n",
      "13.0 13.25 3 6.14248029893 2.47840277173 7.78279410039e+12 4.11405947887e-14 1.65996404047e-14\n",
      "13.25 13.5 6 8.33558798374 2.88714183644 1.38399825013e+13 3.13951840871e-14 1.08741398468e-14\n",
      "13.5 13.75 2 2.56888931862 1.60277550475 2.46113559174e+13 5.44091807805e-15 3.39468507095e-15\n",
      "13.75 14.0 2 2.10501317348 1.45086635273 4.3765867481e+13 2.50715746988e-15 1.72804163882e-15\n",
      "14.0 14.25 1 1.20614894733 1.09824812649 7.78279410039e+13 8.07844432252e-16 7.35575515922e-16\n",
      "--------  si4  ---------\n",
      "12.5 12.75 2 3.04956711259 1.74630097996 2.46113559174e+12 7.5842944505e-14 4.34306258632e-14\n",
      "12.75 13.0 2 2.90294306869 1.70380253219 4.3765867481e+12 4.05990161101e-14 2.38284750392e-14\n",
      "13.0 13.25 1 1.12229540835 1.05938444785 7.78279410039e+12 8.82641160633e-15 8.33164166627e-15\n",
      "13.25 13.5 1 1.0764320583 1.03751243766 1.38399825013e+13 4.76062106102e-15 4.58849541289e-15\n",
      "13.75 14.0 1 1.04971668147 1.02455682198 4.3765867481e+13 1.46807785938e-15 1.43289061952e-15\n"
     ]
    }
   ],
   "source": [
    "z_index = np.where(c4.z > 4.92)\n",
    "local_c4 = c4.loc[z_index]\n",
    "local_c4 = local_c4.set_index([list(range(len(local_c4.N)))])\n",
    "dx_c4_z2 =  19.1839337077\n",
    "#plt.plot(local_c4.N, local_c4.comp, 'k^')\n",
    "\n",
    "\n",
    "# now get the bin values\n",
    "for c in range(0,len(column_density_bins)):\n",
    "    lowcd  = column_density_bins[c]\n",
    "    highcd = column_density_bins[c]+column_density_bin_step\n",
    "    logNstep = pow(10.0,highcd) - pow(10.0,lowcd)\n",
    "    # get the number of systems in the column_density bin\n",
    "    cd_index = np.array(np.where((local_c4.N > lowcd) & (local_c4.N <= highcd)))\n",
    "    \n",
    "    if len(cd_index[0])>0:\n",
    "        realN = sum(1./local_c4.loc[cd_index[0]].comp)\n",
    "        realN_err = realN**0.5\n",
    "\n",
    "        print(lowcd, \n",
    "              highcd,len(cd_index[0]), \n",
    "              realN,  \n",
    "              realN_err,  \n",
    "              logNstep,  \n",
    "              realN/logNstep/dx_c4_z2, \n",
    "              realN_err/logNstep/dx_c4_z2)\n",
    "        \n",
    "print('--------  si4  ---------')       \n",
    "z_index = np.where(si4.z > 4.92)\n",
    "local_si4 = si4.loc[z_index]\n",
    "dx_si4_z2 =  14.4195335701 + 1.91803671035\n",
    "#plt.plot(local_si4.N, local_si4.comp, 'r^')\n",
    "\n",
    "# now get the bin values\n",
    "for c in range(0,len(column_density_bins)):\n",
    "    lowcd  = column_density_bins[c]\n",
    "    highcd = column_density_bins[c]+column_density_bin_step\n",
    "    logNstep = pow(10.0,highcd) - pow(10.0,lowcd)\n",
    "    # get the number of systems in the column_density bin\n",
    "    cd_index = np.array(np.where((local_si4.N > lowcd) & (local_si4.N <= highcd)))\n",
    "    \n",
    "    if len(cd_index[0])>0:\n",
    "        realN = sum(1./local_si4.loc[cd_index[0]].comp)\n",
    "        realN_err = realN**0.5\n",
    "\n",
    "        print(lowcd, \n",
    "              highcd,len(cd_index[0]), \n",
    "              realN,  \n",
    "              realN_err,  \n",
    "              logNstep,  \n",
    "              realN/logNstep/dx_si4_z2, \n",
    "              realN_err/logNstep/dx_si4_z2)"
   ]
  },
  {
   "cell_type": "code",
   "execution_count": 11,
   "metadata": {},
   "outputs": [
    {
     "name": "stdout",
     "output_type": "stream",
     "text": [
      "-----------------------\n",
      "                         2.0  < z <=  3.0\n",
      "12.5 12.75 1 1.11353614538 1.05524222119 2.46113559174e+12 4.5244810937e-13 4.28762326112e-13\n",
      "12.75 13.0 1 1.08666123336 1.04243044533 4.3765867481e+12 2.48289659478e-13 2.38183430453e-13\n",
      "13.0 13.25 3 4.97110202721 2.22959683064 7.78279410039e+12 6.38729736787e-13 2.8647768422e-13\n",
      "13.25 13.5 1 1.27728275975 1.13016935003 1.38399825013e+13 9.22893334315e-14 8.16597383649e-14\n",
      "13.5 13.75 1 1.63854647819 1.28005721676 2.46113559174e+13 6.65768470332e-14 5.20108368293e-14\n",
      "14.25 14.5 1 3.18236207643 1.78391762042 1.38399825013e+14 2.29939747115e-14 1.28895944792e-14\n",
      "14.5 14.75 1 1.38784222454 1.17806715621 2.46113559174e+14 5.63903195421e-15 4.7866812384e-15\n",
      "14.75 15.0 1 1.80533440209 1.34362733006 4.3765867481e+14 4.1249825629e-15 3.0700347266e-15\n",
      "-----------------------\n",
      "                         3.0  < z <=  4.0\n",
      "13.5 13.75 1 1.27728275975 1.13016935003 2.46113559174e+13 5.18981060628e-14 4.59206454868e-14\n",
      "14.25 14.5 1 1.63854647819 1.28005721676 1.38399825013e+14 1.18392236265e-14 9.24898002324e-15\n",
      "14.5 14.75 2 2.56888931862 1.60277550475 2.46113559174e+14 1.04378211718e-14 6.51234133597e-15\n",
      "-----------------------\n",
      "                         4.0  < z <=  5.45\n",
      "12.75 13.0 2 4.57020430097 2.13780361609 4.3765867481e+12 1.04423939568e-12 4.88463667953e-13\n",
      "13.5 13.75 1 1.80533440209 1.34362733006 2.46113559174e+13 7.33537155837e-14 5.45937954241e-14\n",
      "13.75 14.0 1 1.08666123336 1.04243044533 4.3765867481e+13 2.48289659478e-14 2.38183430453e-14\n",
      "14.0 14.25 1 2.43259876959 1.5596790598 7.78279410039e+13 3.12561110857e-14 2.00400915107e-14\n",
      "14.25 14.5 1 1.11353614538 1.05524222119 1.38399825013e+14 8.04579157003e-15 7.62459216326e-15\n",
      "14.75 15.0 1 1.63854647819 1.28005721676 4.3765867481e+14 3.74389123877e-15 2.92478429068e-15\n",
      "-----------------------\n",
      "                         4.33  < z <=  5.45\n",
      "12.75 13.0 1 1.11353614538 1.05524222119 4.3765867481e+12 2.54430269403e-13 2.41110774658e-13\n",
      "13.5 13.75 1 1.27728275975 1.13016935003 2.46113559174e+13 5.18981060628e-14 4.59206454868e-14\n",
      "14.0 14.25 1 1.38784222454 1.17806715621 7.78279410039e+13 1.78321847738e-14 1.51368151465e-14\n",
      "14.25 14.5 1 1.80533440209 1.34362733006 1.38399825013e+14 1.30443402072e-14 9.70830223186e-15\n",
      "14.75 15.0 1 1.08666123336 1.04243044533 4.3765867481e+14 2.48289659478e-15 2.38183430453e-15\n"
     ]
    }
   ],
   "source": [
    "zbin_bound_low  = np.array([2., 3., 4., 4.33])\n",
    "zbin_bound_high = np.array([3., 4., 5.45, 5.45])\n",
    "dx =  np.array([13.6980979692, 15.0932703536, 24.8372040807, 19.4755618242])\n",
    "\n",
    "for z in range(0, len(dx)):\n",
    "    local_path = dx[z]\n",
    "    z_index = np.where((mg2.z > zbin_bound_low[z]) & \n",
    "                       (mg2.z <= zbin_bound_high[z]))\n",
    "    local_mg2 = mg2.loc[z_index]\n",
    "    local_mg2 = local_mg2.set_index([list(range(len(local_mg2.N)))])\n",
    "    print('-----------------------')\n",
    "    print('                        ',zbin_bound_low[z], ' < z <= ', zbin_bound_high[z])\n",
    "\n",
    "    \n",
    "    # now get the bin values\n",
    "    for c in range(0,len(column_density_bins)):\n",
    "        lowcd  = column_density_bins[c]\n",
    "        highcd = column_density_bins[c]+column_density_bin_step\n",
    "        logNstep = pow(10.0,highcd) - pow(10.0,lowcd)\n",
    "        # get the number of systems in the column_density bin\n",
    "        cd_index = np.array(np.where((local_mg2.N > lowcd) & (local_mg2.N <= highcd)))\n",
    "\n",
    "        if len(cd_index[0])>0:\n",
    "            realN = sum(1./local_c4.loc[cd_index[0]].comp)\n",
    "            realN_err = realN**0.5\n",
    "\n",
    "            print(lowcd, \n",
    "                  highcd,len(cd_index[0]), \n",
    "                  realN,  \n",
    "                  realN_err,  \n",
    "                  logNstep,  \n",
    "                  realN/logNstep, \n",
    "                  realN_err/logNstep)"
   ]
  },
  {
   "cell_type": "code",
   "execution_count": null,
   "metadata": {
    "collapsed": true
   },
   "outputs": [],
   "source": []
  },
  {
   "cell_type": "code",
   "execution_count": null,
   "metadata": {
    "collapsed": true
   },
   "outputs": [],
   "source": []
  },
  {
   "cell_type": "code",
   "execution_count": null,
   "metadata": {
    "collapsed": true
   },
   "outputs": [],
   "source": []
  }
 ],
 "metadata": {
  "anaconda-cloud": {},
  "kernelspec": {
   "display_name": "Python [Root]",
   "language": "python",
   "name": "Python [Root]"
  },
  "language_info": {
   "codemirror_mode": {
    "name": "ipython",
    "version": 3
   },
   "file_extension": ".py",
   "mimetype": "text/x-python",
   "name": "python",
   "nbconvert_exporter": "python",
   "pygments_lexer": "ipython3",
   "version": "3.5.2"
  }
 },
 "nbformat": 4,
 "nbformat_minor": 2
}
