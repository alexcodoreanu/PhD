{
 "cells": [
  {
   "cell_type": "code",
   "execution_count": 1,
   "metadata": {
    "collapsed": true
   },
   "outputs": [],
   "source": [
    "import pandas as pd\n",
    "import numpy as np\n",
    "import matplotlib.pyplot as plt\n",
    "%matplotlib inline  \n",
    "import emcee\n",
    "import math\n",
    "\n",
    "local_sol = ['S0927', 'S1306', 'U0148', 'U1319']\n",
    "\n",
    "\n",
    "zbin_bound_low  = np.array([4.35, 5.19])\n",
    "zbin_bound_high = np.array([5.19, 6.13])\n",
    "atoms = ['c4', 'si4']\n",
    "\n",
    "\n",
    "cddf_path = '/Users/alex/Desktop/final_files/correct_precision/paper2/cddfs/cddf_input_tables/'\n",
    "cddf_path = '/Users/acodoreanu/Desktop/final_files/correct_precision/paper2/cddfs/cddf_input_tables/'\n",
    "\n",
    "\n"
   ]
  },
  {
   "cell_type": "code",
   "execution_count": 2,
   "metadata": {
    "collapsed": false,
    "scrolled": false
   },
   "outputs": [
    {
     "name": "stdout",
     "output_type": "stream",
     "text": [
      "/Users/acodoreanu/Desktop/final_files/correct_precision/paper2/cddfs/cddf_input_tables/c4_full__cddf_input.dat\n",
      "/Users/acodoreanu/Desktop/final_files/correct_precision/paper2/cddfs/cddf_input_tables/si4_full__cddf_input.dat\n"
     ]
    }
   ],
   "source": [
    "for a in range(0, len(atoms)):\n",
    "    comp_input_name = cddf_path + atoms[a] + '_comp_z12.csv'\n",
    "    local_comp = pd.read_csv(comp_input_name)\n",
    "\n",
    "    local_N_name = cddf_path + atoms[a] + '_cddf_input.csv'\n",
    "    local_N = pd.read_csv(local_N_name)\n",
    "    \n",
    "    #output_name = cddf_path + atoms[a] + '_full__cddf_input.csv'\n",
    "    output_name = cddf_path + atoms[a] + '_full__cddf_input.dat'\n",
    "\n",
    "    print(output_name)\n",
    "    temp_file = open(output_name, \"w\")\n",
    "    #temp_file.write(\"sol,z,N,comp \\n\")\n",
    "    temp_file.write(\"sol     z      N     comp  \\n\")\n",
    "    \n",
    "    for n in range(0, len(local_N.z)):\n",
    "        local_z = local_N.loc[n].z\n",
    "        z_index = np.array(np.where((local_comp.zmin < local_z) &\n",
    "                           (local_comp.zmax >= local_z)))\n",
    "        \n",
    "        # get the log of the N systems\n",
    "        local_logn = np.log10(local_N.loc[n].N)\n",
    "        if local_logn > max(local_comp.cd): local_logn = max(local_comp.cd)- 0.005\n",
    "\n",
    "\n",
    "        # now get the appropriate completeness value from  \n",
    "        # local_comp[z_index]\n",
    "        z_logn_index = np.where((local_comp.loc[z_index[0,:]].cd <= local_logn) &\n",
    "                                (local_comp.loc[z_index[0,:]].cd + 0.1 > local_logn))\n",
    "        \n",
    "        local_cbar = np.array(local_comp.loc[z_index[0, z_logn_index[0]]].comp)\n",
    "        local_cd   = np.array(local_comp.loc[z_index[0, z_logn_index[0]]].cd)\n",
    "        local_sol  = local_N.loc[n].sol\n",
    "\n",
    "        #temp_line = local_sol+','+str(local_z)+', '+str(local_N.loc[n].N)+', '+str(local_cbar[0])+\" \\n\"\n",
    "        temp_line = local_sol+' '+str(local_z)+'  '+str(np.log10(local_N.loc[n].N))+' '+str(local_cbar[0]) +\" \\n\"\n",
    "        #print(local_sol, local_z, np.log10(local_N.loc[n].N), local_logn, local_cd, local_cbar)\n",
    "\n",
    "        temp_file.write(temp_line)\n",
    "        \n",
    "    temp_file.close()        \n",
    "\n",
    "\n",
    "    "
   ]
  },
  {
   "cell_type": "code",
   "execution_count": 3,
   "metadata": {
    "collapsed": false
   },
   "outputs": [
    {
     "name": "stdout",
     "output_type": "stream",
     "text": [
      "S0927 4.39526 12.8662873391 12.8662873391 [ 12.8] [ 0.553914]\n",
      "S0927 4.47103 13.3541084391 13.3541084391 [ 13.3] [ 0.86915]\n",
      "S0927 4.51367 13.198657087 13.198657087 [ 13.1] [ 0.782912]\n",
      "S0927 4.60495 13.8662873391 13.8662873391 [ 13.8] [ 0.953527]\n",
      "S0927 4.62376 13.6730209071 13.6730209071 [ 13.6] [ 0.936141]\n",
      "S0927 4.69331 13.2253092817 13.2253092817 [ 13.2] [ 0.831383]\n",
      "S0927 5.01455 13.5943925504 13.5943925504 [ 13.5] [ 0.92025]\n",
      "S0927 5.25675 13.428134794 13.428134794 [ 13.4] [ 0.610297]\n",
      "S0927 5.66382 13.5378190951 13.5378190951 [ 13.5] [ 0.67466]\n",
      "S1306 4.5289 13.3222192947 13.3222192947 [ 13.3] [ 0.86915]\n",
      "S1306 4.61256 14.0128372247 14.0128372247 [ 14.] [ 0.961036]\n",
      "S1306 4.64938 13.2966651903 13.2966651903 [ 13.2] [ 0.831383]\n",
      "S1306 4.66812 14.2504200023 14.2504200023 [ 14.2] [ 0.964651]\n",
      "S1306 4.711 13.2764618042 13.2764618042 [ 13.2] [ 0.831383]\n",
      "S1306 4.72314 13.3891660844 13.3891660844 [ 13.3] [ 0.86915]\n",
      "S1306 4.74582 13.0530784435 13.0530784435 [ 13.] [ 0.720543]\n",
      "S1306 4.85878 14.7395723445 14.395 [ 14.3] [ 0.965102]\n",
      "S1306 4.87703 14.2041199827 14.2041199827 [ 14.2] [ 0.964651]\n",
      "S1306 4.9767 13.1731862684 13.1731862684 [ 13.1] [ 0.782912]\n",
      "S1306 5.02347 12.8830933586 12.8830933586 [ 12.8] [ 0.553914]\n",
      "S1306 5.04281 13.45484486 13.45484486 [ 13.4] [ 0.89804]\n",
      "S1306 5.14296 13.0413926852 13.0413926852 [ 13.] [ 0.720543]\n",
      "S1306 5.24734 13.0374264979 13.0374264979 [ 13.] [ 0.314232]\n",
      "S1306 5.80738 13.1303337685 13.1303337685 [ 13.1] [ 0.411083]\n",
      "U0148 4.47692 14.2380461031 14.2380461031 [ 14.2] [ 0.964651]\n",
      "U0148 4.5712 13.0606978404 13.0606978404 [ 13.] [ 0.720543]\n",
      "U0148 4.89095 13.2455126678 13.2455126678 [ 13.2] [ 0.831383]\n",
      "U0148 4.93212 13.7730546934 13.7730546934 [ 13.7] [ 0.946723]\n",
      "U0148 4.95183 12.5670263662 12.5670263662 [ 12.5] [ 0.400818]\n",
      "U0148 4.95809 12.5658478187 12.5658478187 [ 12.5] [ 0.400818]\n",
      "U0148 5.02327 13.4996870826 13.4996870826 [ 13.4] [ 0.89804]\n",
      "U0148 5.12488 13.8773713459 13.8773713459 [ 13.8] [ 0.953527]\n",
      "U0148 5.13495 13.3344537512 13.3344537512 [ 13.3] [ 0.86915]\n",
      "U1319 4.61269 13.1731862684 13.1731862684 [ 13.1] [ 0.782912]\n",
      "U1319 4.64473 13.1172712957 13.1172712957 [ 13.1] [ 0.782912]\n",
      "U1319 4.66085 13.8585371976 13.8585371976 [ 13.8] [ 0.953527]\n",
      "U1319 4.71658 13.5158738437 13.5158738437 [ 13.5] [ 0.92025]\n",
      "U1319 4.80374 12.8965262175 12.8965262175 [ 12.8] [ 0.553914]\n",
      "U1319 5.26429 13.3031960574 13.3031960574 [ 13.3] [ 0.544309]\n",
      "U1319 5.33535 13.1846914308 13.1846914308 [ 13.1] [ 0.411083]\n",
      "U1319 5.37406 13.551449998 13.551449998 [ 13.5] [ 0.67466]\n",
      "U1319 5.57037 14.2405492483 14.2405492483 [ 14.2] [ 0.829085]\n"
     ]
    }
   ],
   "source": [
    "a = 0\n",
    "comp_input_name = cddf_path + atoms[a] + '_comp_z12.csv'\n",
    "local_comp = pd.read_csv(comp_input_name)\n",
    "\n",
    "local_N_name = cddf_path + atoms[a] + '_cddf_input.csv'\n",
    "local_N = pd.read_csv(local_N_name)\n",
    "\n",
    "for n in range(0, len(local_N.z)):\n",
    "    local_z = local_N.loc[n].z\n",
    "    z_index = np.array(np.where((local_comp.zmin < local_z) &\n",
    "                       (local_comp.zmax >= local_z)))\n",
    "\n",
    "    # get the log of the N systems\n",
    "    local_logn = np.log10(local_N.loc[n].N)\n",
    "    if local_logn > max(local_comp.cd): local_logn = max(local_comp.cd)- 0.005\n",
    "\n",
    "\n",
    "    # now get the appropriate completeness value from  \n",
    "    # local_comp[z_index]\n",
    "    z_logn_index = np.where((local_comp.loc[z_index[0,:]].cd <= local_logn) &\n",
    "                            (local_comp.loc[z_index[0,:]].cd + 0.1 > local_logn))\n",
    "\n",
    "    local_cbar = np.array(local_comp.loc[z_index[0, z_logn_index[0]]].comp)\n",
    "    local_cd   = np.array(local_comp.loc[z_index[0, z_logn_index[0]]].cd)\n",
    "    local_sol  = local_N.loc[n].sol\n",
    "    print(local_sol, local_z, np.log10(local_N.loc[n].N), local_logn, local_cd, local_cbar)\n",
    "\n",
    "\n",
    "\n",
    "\n",
    "\n"
   ]
  },
  {
   "cell_type": "code",
   "execution_count": null,
   "metadata": {
    "collapsed": true
   },
   "outputs": [],
   "source": []
  },
  {
   "cell_type": "code",
   "execution_count": null,
   "metadata": {
    "collapsed": true
   },
   "outputs": [],
   "source": []
  }
 ],
 "metadata": {
  "anaconda-cloud": {},
  "kernelspec": {
   "display_name": "Python 3",
   "language": "python",
   "name": "python3"
  },
  "language_info": {
   "codemirror_mode": {
    "name": "ipython",
    "version": 3
   },
   "file_extension": ".py",
   "mimetype": "text/x-python",
   "name": "python",
   "nbconvert_exporter": "python",
   "pygments_lexer": "ipython3",
   "version": "3.6.0"
  }
 },
 "nbformat": 4,
 "nbformat_minor": 2
}
