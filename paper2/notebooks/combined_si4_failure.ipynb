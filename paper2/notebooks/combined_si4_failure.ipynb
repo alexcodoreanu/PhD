{
 "cells": [
  {
   "cell_type": "code",
   "execution_count": 1,
   "metadata": {
    "collapsed": true
   },
   "outputs": [],
   "source": [
    "import pandas as pd\n",
    "import numpy as np\n",
    "import matplotlib.pyplot as plt\n",
    "import matplotlib.mlab as mlab\n",
    "%matplotlib inline  \n",
    "import emcee\n",
    "import math\n",
    "import matplotlib\n",
    "import scipy.optimize as op\n",
    "\n",
    "hfont = {'fontname':'Times New roman'}"
   ]
  },
  {
   "cell_type": "code",
   "execution_count": null,
   "metadata": {
    "collapsed": true
   },
   "outputs": [],
   "source": []
  },
  {
   "cell_type": "code",
   "execution_count": 4,
   "metadata": {},
   "outputs": [
    {
     "name": "stdout",
     "output_type": "stream",
     "text": [
      "4.421052631578948 0.08626315789473685\n",
      "4.435897435897436 0.11233333333333333\n"
     ]
    },
    {
     "data": {
      "image/png": "[encoded data removed]",
      "text/plain": [
       "<matplotlib.figure.Figure at 0x113d6f588>"
      ]
     },
     "metadata": {},
     "output_type": "display_data"
    }
   ],
   "source": [
    "# plot the data\n",
    "# x, y labels and title\n",
    "plt.ylabel('Fraction', **hfont,  fontsize=25)\n",
    "plt.xlabel('SNR', **hfont,  fontsize=25)\n",
    "\n",
    "\n",
    "# x and y ranges and scale\n",
    "plt.xlim([0.0, 12])\n",
    "plt.ylim([0.0, 0.20])\n",
    "\n",
    "# x and y ticks\n",
    "xlabels = ['0', '2', '4', '6', '8', '10']\n",
    "plt.xticks([0, 2, 4, 6, 8, 10], \n",
    "            xlabels, **hfont, fontsize = 20)\n",
    "ylabels = ['0.05', '0.1', '0.15']\n",
    "plt.yticks([0.05, 0.1, 0.15], \n",
    "            ylabels, **hfont, fontsize = 20)\n",
    "\n",
    "plt.grid(True)\n",
    "\n",
    "z = 1.96\n",
    "\n",
    "min_sn = np.array([1.00, 2.00, 3.00, 4.00, 5.00, 6.00, 8.00])\n",
    "max_sn = np.array([2.00, 3.00, 4.00, 5.00, 6.00, 8.00, 10.0])\n",
    "mid_sn = 0.5*(max_sn - min_sn) + min_sn\n",
    "value = np.array([0.0206186,  0.0515464,  0.0606061,  0.0910811,  0.0622581,  0.0466667,  0.0140741])\n",
    "\n",
    "\n",
    "\n",
    "n = np.array([97, 97, 66, 74, 62, 90, 81])\n",
    "ns = value*n\n",
    "nf = n - ns\n",
    "error = z*pow(ns*nf/n, 0.5)/100.0\n",
    "error[np.where(error < 0.001)] = 0.001\n",
    "upper_bound = value + error\n",
    "lower_bound = value - error\n",
    "upper_bound[np.where(upper_bound > 1.0)] = 1.0\n",
    "common_x = (0.157 + 0.011)/(0.022 + 0.016)\n",
    "print(common_x, 0.022*common_x - 0.011)\n",
    "\n",
    "\n",
    "x = np.array([0, 0.5, 1.5, 2.5, common_x])\n",
    "best_fit = 0.022*x - 0.011\n",
    "plt.plot(x, best_fit, 'k--', lw = 3, alpha = 1)\n",
    "\n",
    "x = np.array([common_x, 5.5, 7.0, 9.0, 14.2])\n",
    "best_fit = -0.016*x + 0.157\n",
    "plt.plot(x, best_fit, 'k--', lw = 3, alpha = 1)\n",
    "\n",
    "\n",
    "# plot the vertical error bounds    \n",
    "for i in range(0, len(min_sn)):\n",
    "    plt.plot([mid_sn[i], mid_sn[i]], [upper_bound[i], lower_bound[i]], 'k-', lw=1.0)\n",
    "# plot the horizontal bounds    \n",
    "for i in range(0, len(min_sn)):\n",
    "    plt.plot([min_sn[i], max_sn[i]], [value[i], value[i]], 'k-', lw=1.0)\n",
    "# plot the results\n",
    "plt.plot(mid_sn, value, 'k^', markersize=12, alpha=1.0)  \n",
    "plt.plot(mid_sn, value, 'g^', markersize=10, alpha=1.0)   \n",
    "\n",
    "\n",
    "min_sn = np.array([0.00, 1.00, 2.00, 3.00, 4.00, 5.00, 6.00, 8.00, 10.0])\n",
    "max_sn = np.array([1.00, 2.00, 3.00, 4.00, 5.00, 6.00, 8.00, 10.0, 12.0])\n",
    "mid_sn = 0.5*(max_sn - min_sn) + min_sn\n",
    "value = np.array([0.0103030, 0.0390476, 0.0533333, 0.0797015, 0.1304350, 0.0885185, 0.0766038, 0.0529412, 0.0268750])\n",
    "\n",
    "\n",
    "n = np.array([132, 105,  90,  67,  69,  54, 106,  85,  64])\n",
    "ns = value*n\n",
    "nf = n - ns\n",
    "error = z*pow(ns*nf/n, 0.5)/100.0\n",
    "error[np.where(error == 0)] = 0.0278\n",
    "upper_bound = value + error\n",
    "lower_bound = value - error\n",
    "upper_bound[np.where(upper_bound > 1.0)] = 1.0\n",
    "common_x = (0.17 + 0.003)/(0.026 + 0.013)\n",
    "print(common_x, 0.026*common_x - 0.003)\n",
    "\n",
    "\n",
    "# above : best_fit = 0.065*x + 0.019\n",
    "x = np.array([0, 0.5, 1.5, 2.5, common_x])\n",
    "best_fit = 0.026*x - 0.003\n",
    "plt.plot(x, best_fit, 'k-', lw = 2, alpha = 1)\n",
    "\n",
    "# below : best_fit = -0.025*x + 0.3\n",
    "x = np.array([common_x, 5.5, 7.0, 9.0, 14.2])\n",
    "best_fit = -0.013*x + 0.17\n",
    "plt.plot(x, best_fit, 'k-', lw = 2, alpha = 1)\n",
    "\n",
    "\n",
    "# plot the vertical error bounds    \n",
    "for i in range(0, len(min_sn)):\n",
    "    plt.plot([mid_sn[i], mid_sn[i]], [upper_bound[i], lower_bound[i]], 'k-', lw=1.0)\n",
    "\n",
    "# plot the horizontal bounds    \n",
    "for i in range(0, len(min_sn)):\n",
    "    plt.plot([min_sn[i], max_sn[i]], [value[i], value[i]], 'k-', lw=1.0)\n",
    "\n",
    "    \n",
    "# plot the results\n",
    "plt.plot(mid_sn, value, 'k^', markersize=12, alpha=1.0)  \n",
    "plt.plot(mid_sn, value, 'b^', markersize=10, alpha=1.0)   \n",
    "\n",
    "txt = plt.text(9.5, 0.148, \"SiIV\", **hfont,  fontsize=22)\n",
    "plt.plot([9, 9], [0.155, 0.155], 'k^', markersize=12, alpha=1.0)  \n",
    "plt.plot([9, 9], [0.155, 0.155], 'b^', markersize=10, alpha=1.0)   \n",
    "\n",
    "txt = plt.text(9.5, 0.126, \"SiIV'\", **hfont,  fontsize=22)\n",
    "plt.plot([9, 9], [0.13, 0.13], 'k^', markersize=12, alpha=1.0)  \n",
    "plt.plot([9, 9], [0.13, 0.13], 'g^', markersize=10, alpha=1.0)   \n",
    "\n",
    "\n",
    "txt = plt.text(7.5, 0.17, \"User failure\", **hfont,  fontsize=25)\n",
    "\n",
    "\n",
    "\n",
    "\n",
    "\n",
    "\n",
    "\n",
    "plt.savefig('si4_user_failure.png', bbox_inches='tight', figsize=[24,12], dpi=500)"
   ]
  },
  {
   "cell_type": "code",
   "execution_count": null,
   "metadata": {
    "collapsed": true
   },
   "outputs": [],
   "source": []
  },
  {
   "cell_type": "code",
   "execution_count": null,
   "metadata": {
    "collapsed": true
   },
   "outputs": [],
   "source": []
  },
  {
   "cell_type": "code",
   "execution_count": null,
   "metadata": {
    "collapsed": true
   },
   "outputs": [],
   "source": []
  },
  {
   "cell_type": "code",
   "execution_count": null,
   "metadata": {
    "collapsed": true
   },
   "outputs": [],
   "source": []
  }
 ],
 "metadata": {
  "anaconda-cloud": {},
  "kernelspec": {
   "display_name": "Python [Root]",
   "language": "python",
   "name": "Python [Root]"
  },
  "language_info": {
   "codemirror_mode": {
    "name": "ipython",
    "version": 3
   },
   "file_extension": ".py",
   "mimetype": "text/x-python",
   "name": "python",
   "nbconvert_exporter": "python",
   "pygments_lexer": "ipython3",
   "version": "3.5.2"
  }
 },
 "nbformat": 4,
 "nbformat_minor": 2
}
