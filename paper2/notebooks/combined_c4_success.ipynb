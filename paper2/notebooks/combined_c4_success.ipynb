{
 "cells": [
  {
   "cell_type": "code",
   "execution_count": 2,
   "metadata": {
    "collapsed": true
   },
   "outputs": [],
   "source": [
    "import pandas as pd\n",
    "import numpy as np\n",
    "import matplotlib.pyplot as plt\n",
    "import matplotlib.mlab as mlab\n",
    "%matplotlib inline  \n",
    "import emcee\n",
    "import math\n",
    "import matplotlib\n",
    "import scipy.optimize as op\n",
    "\n",
    "hfont = {'fontname':'Times New roman'}"
   ]
  },
  {
   "cell_type": "code",
   "execution_count": 3,
   "metadata": {
    "collapsed": true
   },
   "outputs": [],
   "source": [
    "# real as real\n",
    "min_sn = np.array([ 0.0,  1.0, 2.0, 3.0, 4.0, 5.0, 6.0, 8.0, 10.0, 12.0, 14.0, 18.0, 22.0, 30.0])\n",
    "max_sn = np.array([1.0, 2.0, 3.0, 4.0, 5.0, 6.0, 8.0, 10.0, 12.0, 14.0, 18.0, 22.0, 30.0, 38.0])\n"
   ]
  },
  {
   "cell_type": "code",
   "execution_count": 7,
   "metadata": {},
   "outputs": [
    {
     "data": {
      "image/png": "[encoded data removed]",
      "text/plain": [
       "<matplotlib.figure.Figure at 0x11998cf60>"
      ]
     },
     "metadata": {},
     "output_type": "display_data"
    }
   ],
   "source": [
    "# plot the data\n",
    "# x, y labels and title\n",
    "plt.ylabel('Fraction', **hfont,  fontsize=25)\n",
    "plt.xlabel('SNR', **hfont,  fontsize=25)\n",
    "#plt.title('User success', **hfont,  fontsize=25)\n",
    "\n",
    "# x and y ranges and scale\n",
    "plt.xlim([0, 36])\n",
    "plt.ylim([0,1.2])\n",
    "value = np.array([0.383202,0.804107,0.901429,0.971258,0.981154, 1.0,\n",
    "                  0.978355,0.992481,0.988889, 1.00000,0.997368,0.980000, 1.00000,0.999091])\n",
    "mid_sn = min_sn + (max_sn - min_sn)/2.0\n",
    "fit_mid_sn = mid_sn\n",
    "z = 1.96\n",
    "\n",
    "\n",
    "n = np.array([762, 633, 420, 336, 208, 144, 231, 133,  90,  52,  57,  25,   8,  11])\n",
    "ns = n*value\n",
    "nf = n - ns\n",
    "error = z*pow(ns*nf/n, 0.5)/100.0\n",
    "error[np.where(error < 0.001)] = 0.001\n",
    "upper_bound = value + error\n",
    "lower_bound = value - error\n",
    "upper_bound[np.where(upper_bound > 1.0)] = 1.0\n",
    "\n",
    "f  =  0.97 *(1.0 - np.exp(-fit_mid_sn/0.993))\n",
    "plt.plot(fit_mid_sn, f, 'k--', lw = 3, alpha = 1)\n",
    "\n",
    "f  = 0.988*(1.0 - np.exp(-fit_mid_sn/0.93))\n",
    "plt.plot(fit_mid_sn, f, 'k-', lw = 1, alpha = 1)\n",
    "\n",
    "\n",
    "# x and y ticks\n",
    "xlabels = ['0', ' ', '10', ' ', '20', ' ', '30']\n",
    "plt.xticks([0, 5, 10, 15, 20, 25, 30, 35], \n",
    "            xlabels, **hfont, fontsize = 20)\n",
    "ylabels = [' ', '0.25', '0.5', '0.75', '1']\n",
    "plt.yticks([0, 0.25, 0.5, 0.75, 1.0], \n",
    "            ylabels, **hfont, fontsize = 20)\n",
    "\n",
    "plt.grid(True)\n",
    "\n",
    "\n",
    "# plot the vertical error bounds    \n",
    "for i in range(0, len(min_sn)):\n",
    "    plt.plot([mid_sn[i], mid_sn[i]], [upper_bound[i], lower_bound[i]], 'k-', lw=1.0)\n",
    "\n",
    "# plot the bin boundaries\n",
    "for i in range(0, len(min_sn)):\n",
    "    plt.plot([min_sn[i], max_sn[i]], [value[i], value[i]], 'k-', lw=1.0)\n",
    "\n",
    "    \n",
    "# plot the results\n",
    "plt.plot(mid_sn, value, 'kd', markersize=12, alpha=1.0)  \n",
    "plt.plot(mid_sn, value, 'rd', markersize=10, alpha=1.0)   \n",
    "\n",
    "\n",
    "value = np.array([0.430622,  0.789855,  0.900901,  0.943662,  0.979167,  \n",
    "                  1.00000,   1.00000,  0.971429,  0.952381,   1.00000,   \n",
    "                  1.00000,   1.00000,   1.00000,   1.00000])\n",
    "n = np.array([209, 138, 111,  71,  48,  40,  81,  35,  21,  14,   9,   8,   2,   2])\n",
    "ns = n*value\n",
    "nf = n - ns\n",
    "error = z*pow(ns*nf/n, 0.5)/100.0\n",
    "error[np.where(error < 0.001)] = 0.001\n",
    "upper_bound = value + error\n",
    "lower_bound = value - error\n",
    "upper_bound[np.where(upper_bound > 1.0)] = 1.0\n",
    "\n",
    "# plot the vertical error bounds    \n",
    "for i in range(0, len(min_sn)):\n",
    "    plt.plot([mid_sn[i], mid_sn[i]], [upper_bound[i], lower_bound[i]], 'k-', lw=1.0)\n",
    "\n",
    "# plot the bin boundaries\n",
    "for i in range(0, len(min_sn)):\n",
    "    plt.plot([min_sn[i], max_sn[i]], [value[i], value[i]], 'k-', lw=1.0)\n",
    "\n",
    "    \n",
    "# plot the results\n",
    "plt.plot(mid_sn, value, 'kd', markersize=12, alpha=1.0)  \n",
    "plt.plot(mid_sn, value, 'bd', markersize=10, alpha=1.0)   \n",
    "\n",
    "\n",
    "\n",
    "txt = plt.text(28.5, 0.45, \"CIV\", **hfont,  fontsize=22)\n",
    "plt.plot([27., 27.], [0.49, 0.49], 'kd', markersize=12, alpha=1.0)  \n",
    "plt.plot([27., 27.], [0.49, 0.49], 'rd', markersize=10, alpha=1.0)   \n",
    "\n",
    "txt = plt.text(28.5, 0.30, \"CIV'\", **hfont,  fontsize=22)\n",
    "plt.plot([27., 27.], [0.34, 0.34], 'kd', markersize=12, alpha=1.0)  \n",
    "plt.plot([27., 27.], [0.34, 0.34], 'bd', markersize=10, alpha=1.0)   \n",
    "\n",
    "txt = plt.text(21.5, 0.6, \"User success\", **hfont,  fontsize=25)\n",
    "\n",
    "\n",
    "\n",
    "\n",
    "\n",
    "\n",
    "plt.savefig('c4_all_real_as_real.png', bbox_inches='tight', figsize=[24,12], dpi=500)"
   ]
  },
  {
   "cell_type": "code",
   "execution_count": null,
   "metadata": {
    "collapsed": true
   },
   "outputs": [],
   "source": []
  },
  {
   "cell_type": "code",
   "execution_count": null,
   "metadata": {
    "collapsed": true
   },
   "outputs": [],
   "source": []
  },
  {
   "cell_type": "code",
   "execution_count": null,
   "metadata": {
    "collapsed": true
   },
   "outputs": [],
   "source": []
  },
  {
   "cell_type": "code",
   "execution_count": null,
   "metadata": {
    "collapsed": true
   },
   "outputs": [],
   "source": []
  },
  {
   "cell_type": "code",
   "execution_count": null,
   "metadata": {
    "collapsed": true
   },
   "outputs": [],
   "source": []
  }
 ],
 "metadata": {
  "anaconda-cloud": {},
  "kernelspec": {
   "display_name": "Python [Root]",
   "language": "python",
   "name": "Python [Root]"
  },
  "language_info": {
   "codemirror_mode": {
    "name": "ipython",
    "version": 3
   },
   "file_extension": ".py",
   "mimetype": "text/x-python",
   "name": "python",
   "nbconvert_exporter": "python",
   "pygments_lexer": "ipython3",
   "version": "3.5.2"
  }
 },
 "nbformat": 4,
 "nbformat_minor": 2
}
