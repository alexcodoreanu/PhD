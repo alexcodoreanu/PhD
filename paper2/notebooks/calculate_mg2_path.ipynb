{
 "cells": [
  {
   "cell_type": "code",
   "execution_count": 1,
   "metadata": {
    "collapsed": true
   },
   "outputs": [],
   "source": [
    "import pandas as pd\n",
    "import numpy as np\n",
    "import matplotlib.pyplot as plt\n",
    "%matplotlib inline  \n",
    "import emcee\n",
    "import math\n",
    "import matplotlib\n"
   ]
  },
  {
   "cell_type": "code",
   "execution_count": 13,
   "metadata": {
    "collapsed": false
   },
   "outputs": [
    {
     "name": "stdout",
     "output_type": "stream",
     "text": [
      "2.0 3.0 dx =  13.6980979692\n",
      "3.0 4.0 dx =  15.0932703536\n",
      "4.0 5.45 dx =  24.8372040807\n",
      "4.33 5.45 dx =  19.4755618242\n"
     ]
    }
   ],
   "source": [
    "local_sol = ['S0927', 'S1306', 'U0148', 'U1319']\n",
    "sol_redshift = np.array([5.79, 5.99, 5.98, 6.13])\n",
    "mg2_2796 = 2796.3542699\n",
    "lyalpha = 1215.67\n",
    "\n",
    "min_redshift = (1.0 + sol_redshift)*lyalpha/mg2_2796 - 1.0\n",
    "\n",
    "\n",
    "zbin_bound_low = np.array([2, 3, 4, 4.33])\n",
    "zbin_bound_high = np.array([3, 4, 5.45, 5.45])\n",
    "\n",
    "#real = pd.read_csv('/Users/alex/Desktop/final_files/correct_precision/paper2/all_components_file_with_completeness_aug22.csv')\n",
    "real = pd.read_csv('/Users/acodoreanu/Desktop/final_files/correct_precision/paper2/all_components_file_with_completeness_aug22.csv')\n",
    "\n",
    "\n",
    "# calculate redshift path\n",
    "light = 299792.458\n",
    "omega_M = 0.308\n",
    "omega_L = 1.0 - omega_M\n",
    "\n",
    "dx1 = 0.0\n",
    "dz1 = 0.0\n",
    "for b in range(0, len(zbin_bound_low)):\n",
    "    local_dz = 0.0\n",
    "    local_dx = 0.0\n",
    "\n",
    "    for z in range(0, len(min_redshift)):\n",
    "        \n",
    "        Xmax = (2./3./omega_M)*pow((omega_M*pow((1. + zbin_bound_high[b]), 3.) + omega_L), 0.5)\n",
    "        Xmin = (2./3./omega_M)*pow((omega_M*pow((1. + zbin_bound_low[b]), 3.) + omega_L), 0.5)\n",
    "        if b == 0: \n",
    "            Xmin = (2./3./omega_M)*pow((omega_M*pow((1. + min_redshift[b]), 3.) + omega_L), 0.5)\n",
    "\n",
    "        local_dx = local_dx + (Xmax - Xmin)\n",
    "\n",
    "        \n",
    "        \n",
    "    print(zbin_bound_low[b], zbin_bound_high[b], 'dx = ', local_dx)\n",
    "\n"
   ]
  },
  {
   "cell_type": "code",
   "execution_count": 14,
   "metadata": {
    "collapsed": false
   },
   "outputs": [
    {
     "data": {
      "text/plain": [
       "array([ 1.95184319,  2.03878997,  2.03444263,  2.09965271])"
      ]
     },
     "execution_count": 14,
     "metadata": {},
     "output_type": "execute_result"
    }
   ],
   "source": [
    "min_redshift"
   ]
  },
  {
   "cell_type": "code",
   "execution_count": null,
   "metadata": {
    "collapsed": true
   },
   "outputs": [],
   "source": []
  },
  {
   "cell_type": "code",
   "execution_count": null,
   "metadata": {
    "collapsed": true
   },
   "outputs": [],
   "source": []
  },
  {
   "cell_type": "code",
   "execution_count": null,
   "metadata": {
    "collapsed": true
   },
   "outputs": [],
   "source": []
  },
  {
   "cell_type": "code",
   "execution_count": null,
   "metadata": {
    "collapsed": true
   },
   "outputs": [],
   "source": []
  }
 ],
 "metadata": {
  "kernelspec": {
   "display_name": "Python 3",
   "language": "python",
   "name": "python3"
  },
  "language_info": {
   "codemirror_mode": {
    "name": "ipython",
    "version": 3
   },
   "file_extension": ".py",
   "mimetype": "text/x-python",
   "name": "python",
   "nbconvert_exporter": "python",
   "pygments_lexer": "ipython3",
   "version": "3.6.0"
  }
 },
 "nbformat": 4,
 "nbformat_minor": 2
}
