{
 "cells": [
  {
   "cell_type": "code",
   "execution_count": 54,
   "metadata": {
    "collapsed": false
   },
   "outputs": [],
   "source": [
    "import pandas as pd\n",
    "import numpy as np\n",
    "import matplotlib.pyplot as plt\n",
    "%matplotlib inline  \n",
    "import emcee\n",
    "import math\n",
    "\n",
    "local_sol = ['S0927', 'S1306', 'U0148', 'U1319']\n",
    "\n",
    "\n",
    "zbin_bound_low  = np.array([4.35, 5.19])\n",
    "zbin_bound_high = np.array([5.19, 6.13])\n",
    "\n",
    "#real = pd.read_csv('/Users/alex/Desktop/final_files/correct_precision/paper2/all_components_file_with_completeness_aug22.csv')\n",
    "real = pd.read_csv('/Users/acodoreanu/Desktop/final_files/correct_precision/paper2/all_components_file_with_completeness_aug22.csv')\n"
   ]
  },
  {
   "cell_type": "code",
   "execution_count": 61,
   "metadata": {
    "collapsed": true
   },
   "outputs": [],
   "source": [
    "#output_path = '/Users/alex/Desktop/final_files/correct_precision/paper2/cddfs/cddf_input_tables/'\n",
    "output_path = '/Users/acodoreanu/Desktop/final_files/correct_precision/paper2/cddfs/cddf_input_tables/'\n",
    "\n",
    "\n",
    "output_name_5s = output_path + 'c4_cddf_input_5s.dat'\n",
    "output_name_si4 = output_path + 'si4_cddf_input.dat'\n",
    "output_name_mg2 = output_path + 'mg2_cddf_input.dat'"
   ]
  },
  {
   "cell_type": "markdown",
   "metadata": {},
   "source": [
    "# c4_cddf_input.dat\n",
    "\n",
    "The format of this file should be:\n",
    "\n",
    "sol redshift sigma logN completeness\n"
   ]
  },
  {
   "cell_type": "code",
   "execution_count": 62,
   "metadata": {
    "collapsed": false
   },
   "outputs": [
    {
     "name": "stdout",
     "output_type": "stream",
     "text": [
      "S0927 4.34608 12 1 4.0 5.45 9.47763545263e+12\n",
      "S0927 4.39526 13 1 4.0 5.45 7.34683015699e+12\n",
      "S0927 4.47103 14 1 4.0 5.45 2.264122914e+13\n",
      "S0927 4.51367 15 2 4.0 5.45 1.58417885495e+13\n",
      "S0927 4.60495 16 3 4.0 5.45 7.34987423379e+13\n",
      "S0927 4.62376 17 1 4.0 5.45 4.70543739953e+13\n",
      "S0927 4.69331 18 1 4.0 5.45 1.67571439336e+13\n",
      "S0927 5.01455 21 1 4.0 5.45 3.93459467634e+13\n",
      "S0927 5.25675 24 1 4.0 5.45 2.68287229067e+13\n",
      "S0927 4.34608 12 1 4.33 5.45 9.47763545263e+12\n",
      "S0927 4.39526 13 1 4.33 5.45 7.34683015699e+12\n",
      "S0927 4.47103 14 1 4.33 5.45 2.264122914e+13\n",
      "S0927 4.51367 15 2 4.33 5.45 1.58417885495e+13\n",
      "S0927 4.60495 16 3 4.33 5.45 7.34987423379e+13\n",
      "S0927 4.62376 17 1 4.33 5.45 4.70543739953e+13\n",
      "S0927 4.69331 18 1 4.33 5.45 1.67571439336e+13\n",
      "S0927 5.01455 21 1 4.33 5.45 3.93459467634e+13\n",
      "S0927 5.25675 24 1 4.33 5.45 2.68287229067e+13\n",
      "S1306 4.5289 7 2 4.0 5.45 2.10160163793e+13\n",
      "S1306 4.61256 8 3 4.0 5.45 1.03449666627e+14\n",
      "S1306 4.64938 9 2 4.0 5.45 1.98390172881e+13\n",
      "S1306 4.66812 10 2 4.0 5.45 1.78389268235e+14\n",
      "S1306 4.711 11 1 4.0 5.45 1.88668762122e+13\n",
      "S1306 4.72314 12 1 4.0 5.45 2.44906324184e+13\n",
      "S1306 4.74582 13 1 4.0 5.45 1.13448824421e+13\n",
      "S1306 4.85878 14 8 4.0 5.45 5.48734826784e+14\n",
      "S1306 4.87703 15 5 4.0 5.45 1.595058275e+14\n",
      "S1306 4.9767 16 1 4.0 5.45 1.48833261878e+13\n",
      "S1306 5.02347 17 1 4.0 5.45 7.64187623963e+12\n",
      "S1306 5.04281 18 1 4.0 5.45 2.84511614423e+13\n",
      "S1306 5.14296 19 1 4.0 5.45 1.1025543321e+13\n",
      "S1306 5.24734 20 1 4.0 5.45 1.08867938678e+13\n",
      "S1306 4.5289 7 2 4.33 5.45 2.10160163793e+13\n",
      "S1306 4.61256 8 3 4.33 5.45 1.03449666627e+14\n",
      "S1306 4.64938 9 2 4.33 5.45 1.98390172881e+13\n",
      "S1306 4.66812 10 2 4.33 5.45 1.78389268235e+14\n",
      "S1306 4.711 11 1 4.33 5.45 1.88668762122e+13\n",
      "S1306 4.72314 12 1 4.33 5.45 2.44906324184e+13\n",
      "S1306 4.74582 13 1 4.33 5.45 1.13448824421e+13\n",
      "S1306 4.85878 14 8 4.33 5.45 5.48734826784e+14\n",
      "S1306 4.87703 15 5 4.33 5.45 1.595058275e+14\n",
      "S1306 4.9767 16 1 4.33 5.45 1.48833261878e+13\n",
      "S1306 5.02347 17 1 4.33 5.45 7.64187623963e+12\n",
      "S1306 5.04281 18 1 4.33 5.45 2.84511614423e+13\n",
      "S1306 5.14296 19 1 4.33 5.45 1.1025543321e+13\n",
      "S1306 5.24734 20 1 4.33 5.45 1.08867938678e+13\n",
      "U0148 4.47692 8 1 4.0 5.45 1.72663285274e+14\n",
      "U0148 4.5712 9 1 4.0 5.45 1.15027054779e+13\n",
      "U0148 4.89095 10 1 4.0 5.45 1.75670970266e+13\n",
      "U0148 4.93212 11 3 4.0 5.45 5.93377638008e+13\n",
      "U0148 4.95183 12 1 4.0 5.45 3.68892648119e+12\n",
      "U0148 4.95809 13 1 4.0 5.45 3.67790070422e+12\n",
      "U0148 5.02327 14 1 4.0 5.45 3.15863904842e+13\n",
      "U0148 5.12488 15 1 4.0 5.45 7.53876143102e+13\n",
      "U0148 5.13495 16 1 4.0 5.45 2.15873831601e+13\n",
      "U0148 4.47692 8 1 4.33 5.45 1.72663285274e+14\n",
      "U0148 4.5712 9 1 4.33 5.45 1.15027054779e+13\n",
      "U0148 4.89095 10 1 4.33 5.45 1.75670970266e+13\n",
      "U0148 4.93212 11 3 4.33 5.45 5.93377638008e+13\n",
      "U0148 4.95183 12 1 4.33 5.45 3.68892648119e+12\n",
      "U0148 4.95809 13 1 4.33 5.45 3.67790070422e+12\n",
      "U0148 5.02327 14 1 4.33 5.45 3.15863904842e+13\n",
      "U0148 5.12488 15 1 4.33 5.45 7.53876143102e+13\n",
      "U0148 5.13495 16 1 4.33 5.45 2.15873831601e+13\n",
      "U1319 4.61269 9 1 4.0 5.45 1.48798995699e+13\n",
      "U1319 4.64473 10 2 4.0 5.45 1.30863263941e+13\n",
      "U1319 4.66085 11 4 4.0 5.45 7.21671463555e+13\n",
      "U1319 4.71658 12 1 4.0 5.45 3.28322011609e+13\n",
      "U1319 4.80374 13 1 4.0 5.45 7.88496917745e+12\n",
      "U1319 5.26429 14 1 4.0 5.45 2.01001824711e+13\n",
      "U1319 5.33535 15 1 4.0 5.45 1.53144004819e+13\n",
      "U1319 5.37406 16 2 4.0 5.45 3.5588416085e+13\n",
      "U1319 4.61269 9 1 4.33 5.45 1.48798995699e+13\n",
      "U1319 4.64473 10 2 4.33 5.45 1.30863263941e+13\n",
      "U1319 4.66085 11 4 4.33 5.45 7.21671463555e+13\n",
      "U1319 4.71658 12 1 4.33 5.45 3.28322011609e+13\n",
      "U1319 4.80374 13 1 4.33 5.45 7.88496917745e+12\n",
      "U1319 5.26429 14 1 4.33 5.45 2.01001824711e+13\n",
      "U1319 5.33535 15 1 4.33 5.45 1.53144004819e+13\n",
      "U1319 5.37406 16 2 4.33 5.45 3.5588416085e+13\n"
     ]
    }
   ],
   "source": [
    "element = 'CIV'\n",
    "min_rest = 1550.0\n",
    "temp_file = open(output_name_5s, \"w\")\n",
    "temp_file.write(\" \\n\")\n",
    "temp_file.write(\"sol z sigma N comp \\n\")\n",
    "for s in range(0, len(local_sol)):\n",
    "    for z in range(0, len(zbin_bound_low)):\n",
    "        sol = local_sol[s]\n",
    "        local_real = real.loc[(real.sol == sol) & \n",
    "                                         (real.element ==  element) & \n",
    "                                         (real.rest_l < min_rest) & \n",
    "                                         (real.z <= zbin_bound_high[z]) &\n",
    "                                         (real.z >= zbin_bound_low[z])]\n",
    "        sol_systems = np.unique(local_real.system)\n",
    "\n",
    "        for i in range(0, len(sol_systems)):\n",
    "            local_system = sol_systems[i]\n",
    "            sub_local_real = local_real.loc[(real.system == local_system)]\n",
    "            local_z = np.array(local_real.loc[(real.system == local_system)].z)\n",
    "            local_N5 = sum((pow(10,sub_local_real.c_d)))\n",
    "            print(sol, local_z[0], local_system, len(sub_local_real), zbin_bound_low[z], zbin_bound_high[z], local_N5)\n",
    "    \n",
    "            temp_line_5 = \"  \"\n",
    "            temp_line_5 = sol + '  ' + str(local_z[0]) + '   5   '  + str(local_N5) +  '  ' \"\\n\"\n",
    "            temp_file.write(temp_line_5)\n",
    "    \n",
    "temp_file.close()        \n"
   ]
  },
  {
   "cell_type": "markdown",
   "metadata": {},
   "source": [
    "# si4_cddf_input.dat\n",
    "\n",
    "The format of this file should be:\n",
    "\n",
    "sol redshift sigma logN completeness\n",
    "\n"
   ]
  },
  {
   "cell_type": "code",
   "execution_count": 63,
   "metadata": {
    "collapsed": false
   },
   "outputs": [
    {
     "name": "stdout",
     "output_type": "stream",
     "text": [
      "S0927 5.01469 21 1 4.0 5.45 1.61101654274e+13\n",
      "S0927 5.01469 21 1 4.33 5.45 1.61101654274e+13\n",
      "U0148 5.12509 15 1 4.0 5.45 5.65587757089e+12\n",
      "U0148 5.12509 15 1 4.33 5.45 5.65587757089e+12\n",
      "U1319 5.26273 14 2 4.0 5.45 9.17289422145e+12\n",
      "U1319 5.37426 16 2 4.0 5.45 2.03419435417e+13\n",
      "U1319 5.26273 14 2 4.33 5.45 9.17289422145e+12\n",
      "U1319 5.37426 16 2 4.33 5.45 2.03419435417e+13\n"
     ]
    }
   ],
   "source": [
    "element = 'SiIV'\n",
    "min_rest = 1394.0\n",
    "temp_file = open(output_name_si4, \"w\")\n",
    "temp_file.write(\" \\n\")\n",
    "temp_file.write(\"sol z sigma N comp \\n\")\n",
    "for s in range(0, len(local_sol)):\n",
    "    for z in range(0, len(zbin_bound_low)):\n",
    "        sol = local_sol[s]\n",
    "        local_real = real.loc[(real.sol == sol) & \n",
    "                                         (real.element ==  element) & \n",
    "                                         (real.rest_l < min_rest) & \n",
    "                                         (real.z <= zbin_bound_high[z]) &\n",
    "                                         (real.z >= zbin_bound_low[z])]\n",
    "        sol_systems = np.unique(local_real.system)\n",
    "\n",
    "        for i in range(0, len(sol_systems)):\n",
    "            local_system = sol_systems[i]\n",
    "            sub_local_real = local_real.loc[(real.system == local_system)]\n",
    "            local_z = np.array(local_real.loc[(real.system == local_system)].z)\n",
    "            local_N5 = sum((pow(10,sub_local_real.c_d)))\n",
    "            print(sol, local_z[0], local_system, len(sub_local_real), zbin_bound_low[z], zbin_bound_high[z], local_N5)\n",
    "    \n",
    "            temp_line_5 = \"  \"\n",
    "            temp_line_5 = sol + '  ' + str(local_z[0]) + '   5   '  + str(local_N5) +  '  ' \"\\n\"\n",
    "            temp_file.write(temp_line_5)\n",
    "    \n",
    "temp_file.close()  "
   ]
  },
  {
   "cell_type": "markdown",
   "metadata": {
    "collapsed": true
   },
   "source": [
    "# mg2_cddf_input.dat\n",
    "\n",
    "The format of this file should be:\n",
    "\n",
    "sol redshift sigma logN completeness\n",
    "\n"
   ]
  },
  {
   "cell_type": "code",
   "execution_count": 89,
   "metadata": {
    "collapsed": false,
    "scrolled": true
   },
   "outputs": [
    {
     "name": "stdout",
     "output_type": "stream",
     "text": [
      "S0927  1  2.09167 12.809433616  0.897  \n",
      "\n",
      "S0927  3  2.34879 13.5131682707  0.587  \n",
      "\n",
      "S0927  7  2.82038 13.0865  0.794  \n",
      "\n",
      "S1306  2  2.37776 13.4192224871  0.967  \n",
      "\n",
      "S1306  3  2.52974 14.9032815784  0.967  \n",
      "\n",
      "S1306  5  3.48939 14.7251970793  0.967  \n",
      "\n",
      "S1306  6  4.13988 13.7763289925  0.743  \n",
      "\n",
      "S1306  8  4.61458 14.9506618982  0.96  \n",
      "\n",
      "S1306  14  4.86294 15.8107302645  0.967  \n",
      "\n",
      "S1306  15  4.87902 16.4237949287  0.967  \n",
      "\n",
      "U0148  1  2.39557 12.5794  0.621  \n",
      "\n",
      "U0148  2  2.47762 14.6388598869  0.967  \n",
      "\n",
      "U0148  3  2.72177 14.2695068802  0.967  \n",
      "\n",
      "U0148  4  3.01823 14.3039675846  0.967  \n",
      "\n",
      "U0148  5  3.05164 14.5194937849  0.928  \n",
      "\n",
      "U0148  7  4.45996 13.6562  0.967  \n",
      "\n",
      "U0148  10  4.89031 14.4528711551  0.933  \n",
      "\n",
      "U1319  2  2.30368 13.0553905843  0.967  \n",
      "\n",
      "U1319  3  2.40975 13.0607643214  0.967  \n",
      "\n",
      "U1319  4  3.28182 13.5424623241  0.635  \n",
      "\n",
      "U1319  7  4.21618 12.9075058511  0.552  \n",
      "\n",
      "U1319  8  4.56845 12.8281  0.765  \n",
      "\n",
      "U1319  11  4.66297 14.2105330986  0.611  \n",
      "\n"
     ]
    }
   ],
   "source": [
    "element = 'MgII'\n",
    "min_rest = 2799.0\n",
    "\n",
    "\n",
    "zbin_bound_low  = np.array([2, 3, 4, 4.33 ])\n",
    "zbin_bound_high = np.array([3, 4, 5.45, 5.45])\n",
    "zbin_bound_low  = np.array([2])\n",
    "zbin_bound_high = np.array([5.45])\n",
    "\n",
    "temp_file = open(output_name_mg2, \"w\")\n",
    "temp_file.write(\" \\n\")\n",
    "temp_file.write(\"sol z sigma N comp \\n\")\n",
    "for s in range(0, len(local_sol)):\n",
    "    for z in range(0, len(zbin_bound_low)):\n",
    "        sol = local_sol[s]\n",
    "        local_real = real.loc[(real.sol == sol) & \n",
    "                                         (real.element ==  element) & \n",
    "                                         (real.rest_l < min_rest) & \n",
    "                                         (real.z <= zbin_bound_high[z]) &\n",
    "                                         (real.z > zbin_bound_low[z]) &\n",
    "                                         (real.s5 >= 0.50)]\n",
    "        \n",
    "        sol_systems = np.unique(local_real.system)\n",
    "\n",
    "        for i in range(0, len(sol_systems)):\n",
    "            local_system = sol_systems[i]\n",
    "            sub_local_real = local_real.loc[(real.system == local_system)]\n",
    "            local_s5 = max(sub_local_real.s5)\n",
    "            if local_s5 >= 0.50:            \n",
    "                local_z = np.array(local_real.loc[(real.system == local_system)].z)\n",
    "                local_N5 = sum((pow(10,sub_local_real.c_d)))\n",
    "                temp_line_5 = sol + '  ' + str(local_system) + '  '  + str(local_z[0]) + ' ' + str(np.log10(local_N5)) +  '  ' +str(local_s5) +'  ' +\"\\n\"\n",
    "\n",
    "                print(temp_line_5)\n",
    "\n",
    "                temp_file.write(temp_line_5)\n",
    "\n",
    "temp_file.close()  "
   ]
  },
  {
   "cell_type": "code",
   "execution_count": null,
   "metadata": {
    "collapsed": true
   },
   "outputs": [],
   "source": []
  },
  {
   "cell_type": "code",
   "execution_count": null,
   "metadata": {
    "collapsed": true
   },
   "outputs": [],
   "source": []
  }
 ],
 "metadata": {
  "anaconda-cloud": {},
  "kernelspec": {
   "display_name": "Python 3",
   "language": "python",
   "name": "python3"
  },
  "language_info": {
   "codemirror_mode": {
    "name": "ipython",
    "version": 3
   },
   "file_extension": ".py",
   "mimetype": "text/x-python",
   "name": "python",
   "nbconvert_exporter": "python",
   "pygments_lexer": "ipython3",
   "version": "3.6.0"
  }
 },
 "nbformat": 4,
 "nbformat_minor": 1
}
