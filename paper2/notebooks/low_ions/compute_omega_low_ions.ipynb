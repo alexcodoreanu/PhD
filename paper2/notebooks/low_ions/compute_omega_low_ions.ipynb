{
 "cells": [
  {
   "cell_type": "code",
   "execution_count": 70,
   "metadata": {},
   "outputs": [],
   "source": [
    "import pandas as pd\n",
    "import numpy as np\n",
    "import matplotlib.pyplot as plt\n",
    "import matplotlib.mlab as mlab\n",
    "%matplotlib inline  \n",
    "import emcee\n",
    "import math\n",
    "import matplotlib\n",
    "from pylab import *\n",
    "hfont = {'fontname':'Times New roman'}\n",
    "\n",
    "\n",
    "mpl.rcParams['legend.numpoints'] = 1\n",
    "\n"
   ]
  },
  {
   "cell_type": "code",
   "execution_count": 71,
   "metadata": {},
   "outputs": [],
   "source": [
    "c4_norm = 0.77*pow(10, -22)"
   ]
  },
  {
   "cell_type": "code",
   "execution_count": 87,
   "metadata": {
    "collapsed": true
   },
   "outputs": [],
   "source": [
    "local_sol = ['S0927', 'S1306', 'U0148', 'U1319']\n",
    "sol_redshift = np.array([5.79, 5.99, 5.98, 6.13])\n",
    "local_element = np.array(['SiII', 'AlII', 'FeII', 'CII'])\n",
    "symbols = np.array(['ks', 'cs', 'rs', 'gs'])\n",
    "\n",
    "\n",
    "min_redshift = (1.0 + sol_redshift)*lyalpha/c4_1548 - 1.0\n",
    "path = \"/Users/alex/Desktop/final_files/correct_precision/paper2/notebooks/low_ions/\"\n",
    "low_ions = pd.read_csv(path+'low_ions.csv')\n",
    "\n"
   ]
  },
  {
   "cell_type": "code",
   "execution_count": 88,
   "metadata": {},
   "outputs": [
    {
     "data": {
      "text/plain": [
       "<matplotlib.text.Text at 0x119b7f128>"
      ]
     },
     "execution_count": 88,
     "metadata": {},
     "output_type": "execute_result"
    },
    {
     "data": {
      "image/png": "[encoded data removed]",
      "text/plain": [
       "<matplotlib.figure.Figure at 0x119b82c88>"
      ]
     },
     "metadata": {},
     "output_type": "display_data"
    }
   ],
   "source": [
    "plt.grid(True)\n",
    "plt.yscale('log')\n",
    "\n",
    "\n",
    "plt.ylim([10**10, 10**16] )\n",
    "plt.xlim([1.8,6.2])\n",
    "\n",
    "for l in range(0, len(local_element)):\n",
    "    local_df = low_ions.loc[low_ions.element == local_element[l]]\n",
    "    plt.plot(local_df.z, local_df.lowN, symbols[l], label=local_element[l]) \n",
    "    \n",
    "plt.rc('legend',**{'fontsize':14})\n",
    "plt.rc('font',family='Times New Roman')\n",
    "plt.legend(bbox_to_anchor=(0.015, 0.015), loc=3, borderaxespad=0.1, shadow=True)\n",
    "\n",
    "\n",
    "xlabels = ['2.0', ' ', '3.0', ' ', '4.0', ' ', '5.0' , ' ', '6.0']\n",
    "plt.xticks([2, 2.5, 3, 3.5, 4, 4.5, 5 , 5.5, 6], xlabels, **hfont, fontsize = 18)\n",
    "\n",
    "ylabels = ['10$^{11}$', '10$^{12}$', '10$^{13}$', '10$^{14}$', '10$^{15}$']\n",
    "plt.yticks([10**11, 10**12, 10**13, 10**14, 10**15], ylabels, **hfont, fontsize = 18)\n",
    "\n",
    "plt.ylabel('N$_{sys}$', **hfont,  fontsize=24)\n",
    "plt.xlabel(' Redshift', **hfont,  fontsize=24)\n"
   ]
  },
  {
   "cell_type": "code",
   "execution_count": 89,
   "metadata": {},
   "outputs": [
    {
     "name": "stdout",
     "output_type": "stream",
     "text": [
      " \n",
      "SiII\n",
      "4.870655 2.389817496066007e-08 7.536577093758065e-08 2.848138659695106e-08\n",
      "5.77515 6.514134280765659e-12 1.7506735879557707e-11 1.0280118161833304e-11\n",
      " \n",
      "AlII\n",
      "4.60993 7.48792136347174e-10 2.386865026952357e-09 8.023153059332511e-10\n",
      "5.47431 1.1000535149709144e-11 2.4210955582826527e-11 1.8324446996048836e-11\n",
      " \n",
      "FeII\n",
      "2.53106 2.858066104759339e-08 1.1634711537066734e-07 2.4563091531185378e-08\n",
      "4.6142 1.084324738883192e-08 4.514529734537429e-08 3.018853172949772e-08\n",
      " \n",
      "CII\n",
      "5.57374 2.498546091748993e-10 2.909699246087433e-09 3.478988229017584e-10\n"
     ]
    }
   ],
   "source": [
    "l = 0 # si2\n",
    "\n",
    "local_amu = 28.0855\n",
    "dx1 = 7.70\n",
    "dx2 = 17.69\n",
    "\n",
    "local_df = low_ions.loc[low_ions.element == local_element[l]]\n",
    "local_scalar = c4_norm/12.0107*local_amu\n",
    "\n",
    "Nz1      = sum(local_df.loc[local_df.z < 5].N)\n",
    "Nz1_low  = sum(local_df.loc[local_df.z < 5].lowN)\n",
    "Nz1_high = sum(local_df.loc[local_df.z < 5].highN)\n",
    "median_z1 = median(local_df.loc[local_df.z < 5].z)\n",
    "\n",
    "Nz2      = sum(local_df.loc[local_df.z > 5].N)\n",
    "Nz2_low  = sum(local_df.loc[local_df.z > 5].lowN)\n",
    "Nz2_high = sum(local_df.loc[local_df.z > 5].highN)\n",
    "median_z2 = median(local_df.loc[local_df.z > 5].z)\n",
    "\n",
    "omega_z1      = local_scalar/dx1*Nz1      \n",
    "omega_z1_low  = local_scalar/dx1*Nz1_low  \n",
    "omega_z1_high = local_scalar/dx1*Nz1_high \n",
    "omega_z2      = local_scalar/dx2*Nz2      \n",
    "omega_z2_low  = local_scalar/dx2*Nz2_low  \n",
    "omega_z2_high = local_scalar/dx2*Nz2_high \n",
    "\n",
    "print( ' ')\n",
    "print(local_element[l])\n",
    "print(median_z1, omega_z1 - omega_z1_low, omega_z1, omega_z1_high - omega_z1)\n",
    "print(median_z2, omega_z2 - omega_z2_low, omega_z2, omega_z2_high - omega_z2)\n",
    "\n",
    "l = 1# al2\n",
    "local_df = low_ions.loc[low_ions.element == local_element[l]]\n",
    "\n",
    "local_amu = 26.981539\n",
    "dx1 = 15.60\n",
    "dx2 = 17.69\n",
    "\n",
    "local_df = low_ions.loc[low_ions.element == local_element[l]]\n",
    "local_scalar = c4_norm/12.0107*local_amu\n",
    "\n",
    "Nz1      = sum(local_df.loc[local_df.z < 5].N)\n",
    "Nz1_low  = sum(local_df.loc[local_df.z < 5].lowN)\n",
    "Nz1_high = sum(local_df.loc[local_df.z < 5].highN)\n",
    "median_z1 = median(local_df.loc[local_df.z < 5].z)\n",
    "\n",
    "\n",
    "Nz2      = sum(local_df.loc[local_df.z > 5].N)\n",
    "Nz2_low  = sum(local_df.loc[local_df.z > 5].lowN)\n",
    "Nz2_high = sum(local_df.loc[local_df.z > 5].highN)\n",
    "median_z2 = median(local_df.loc[local_df.z > 5].z)\n",
    "\n",
    "\n",
    "\n",
    "omega_z1      = local_scalar/dx1*Nz1      \n",
    "omega_z1_low  = local_scalar/dx1*Nz1_low  \n",
    "omega_z1_high = local_scalar/dx1*Nz1_high \n",
    "omega_z2      = local_scalar/dx2*Nz2      \n",
    "omega_z2_low  = local_scalar/dx2*Nz2_low  \n",
    "omega_z2_high = local_scalar/dx2*Nz2_high \n",
    "\n",
    "print( ' ')\n",
    "print(local_element[l])\n",
    "print(median_z1, omega_z1 - omega_z1_low, omega_z1, omega_z1_high - omega_z1)\n",
    "print(median_z2, omega_z2 - omega_z2_low, omega_z2, omega_z2_high - omega_z2)\n",
    "\n",
    "\n",
    "l = 2# fe2\n",
    "local_df = low_ions.loc[low_ions.element == local_element[l]]\n",
    "\n",
    "local_amu = 55.845\n",
    "dx1 = 3.88\n",
    "dx2 = 9.66\n",
    "\n",
    "local_df = low_ions.loc[low_ions.element == local_element[l]]\n",
    "local_scalar = c4_norm/12.0107*local_amu\n",
    "\n",
    "Nz1      = sum(local_df.loc[local_df.z < 4].N)\n",
    "Nz1_low  = sum(local_df.loc[local_df.z < 4].lowN)\n",
    "Nz1_high = sum(local_df.loc[local_df.z < 4].highN)\n",
    "median_z1 = median(local_df.loc[local_df.z < 4].z)\n",
    "\n",
    "\n",
    "Nz2      = sum(local_df.loc[local_df.z > 4].N)\n",
    "Nz2_low  = sum(local_df.loc[local_df.z > 4].lowN)\n",
    "Nz2_high = sum(local_df.loc[local_df.z > 4].highN)\n",
    "median_z2 = median(local_df.loc[local_df.z > 4].z)\n",
    "\n",
    "\n",
    "\n",
    "omega_z1      = local_scalar/dx1*Nz1      \n",
    "omega_z1_low  = local_scalar/dx1*Nz1_low  \n",
    "omega_z1_high = local_scalar/dx1*Nz1_high \n",
    "omega_z2      = local_scalar/dx2*Nz2      \n",
    "omega_z2_low  = local_scalar/dx2*Nz2_low  \n",
    "omega_z2_high = local_scalar/dx2*Nz2_high \n",
    "\n",
    "print( ' ')\n",
    "print(local_element[l])\n",
    "print(median_z1, omega_z1 - omega_z1_low, omega_z1, omega_z1_high - omega_z1)\n",
    "print(median_z2, omega_z2 - omega_z2_low, omega_z2, omega_z2_high - omega_z2)\n",
    "\n",
    "\n",
    "\n",
    "\n",
    "l = 3# c2\n",
    "local_df = low_ions.loc[low_ions.element == local_element[l]]\n",
    "\n",
    "\n",
    "local_amu = 55.845\n",
    "dx1 =11.32\n",
    "\n",
    "local_df = low_ions.loc[low_ions.element == local_element[l]]\n",
    "local_scalar = c4_norm/12.0107*local_amu\n",
    "\n",
    "Nz1      = sum(local_df.loc[local_df.z > 5].N)\n",
    "Nz1_low  = sum(local_df.loc[local_df.z > 5].lowN)\n",
    "Nz1_high = sum(local_df.loc[local_df.z > 5].highN)\n",
    "median_z1 = median(local_df.loc[local_df.z > 5].z)\n",
    "\n",
    "omega_z1      = local_scalar/dx1*Nz1      \n",
    "omega_z1_low  = local_scalar/dx1*Nz1_low  \n",
    "omega_z1_high = local_scalar/dx1*Nz1_high \n",
    "print( ' ')\n",
    "print(local_element[l])\n",
    "print(median_z1, omega_z1 - omega_z1_low, omega_z1, omega_z1_high - omega_z1)"
   ]
  },
  {
   "cell_type": "code",
   "execution_count": null,
   "metadata": {
    "collapsed": true
   },
   "outputs": [],
   "source": []
  },
  {
   "cell_type": "code",
   "execution_count": null,
   "metadata": {
    "collapsed": true
   },
   "outputs": [],
   "source": []
  },
  {
   "cell_type": "code",
   "execution_count": null,
   "metadata": {
    "collapsed": true
   },
   "outputs": [],
   "source": []
  }
 ],
 "metadata": {
  "anaconda-cloud": {},
  "kernelspec": {
   "display_name": "Python [Root]",
   "language": "python",
   "name": "Python [Root]"
  },
  "language_info": {
   "codemirror_mode": {
    "name": "ipython",
    "version": 3
   },
   "file_extension": ".py",
   "mimetype": "text/x-python",
   "name": "python",
   "nbconvert_exporter": "python",
   "pygments_lexer": "ipython3",
   "version": "3.5.2"
  }
 },
 "nbformat": 4,
 "nbformat_minor": 2
}
