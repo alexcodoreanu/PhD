{
 "cells": [
  {
   "cell_type": "code",
   "execution_count": 1,
   "metadata": {
    "collapsed": true
   },
   "outputs": [],
   "source": [
    "import pandas as pd\n",
    "import numpy as np\n",
    "import matplotlib.pyplot as plt\n",
    "%matplotlib inline  \n",
    "import emcee\n",
    "import math\n",
    "import matplotlib\n",
    "\n"
   ]
  },
  {
   "cell_type": "code",
   "execution_count": 2,
   "metadata": {
    "collapsed": true
   },
   "outputs": [],
   "source": [
    "local_sol = ['S0927', 'S1306', 'U0148', 'U1319']\n",
    "sol_redshift = np.array([5.79, 5.99, 5.98, 6.13])\n",
    "real = pd.read_csv('/Users/alex/Desktop/final_files/correct_precision/paper2/all_components_file_with_completeness_sep11.csv')\n",
    "\n",
    "# redshift path variables\n",
    "light = 299792.458\n",
    "omega_M = 0.308\n",
    "omega_L = 1.0 - omega_M\n",
    "\n"
   ]
  },
  {
   "cell_type": "code",
   "execution_count": 51,
   "metadata": {},
   "outputs": [
    {
     "name": "stdout",
     "output_type": "stream",
     "text": [
      "8.44623132528 1.81260748213\n"
     ]
    }
   ],
   "source": [
    "# OI\n",
    "lambda_location = 1302.1685\n",
    "lyalpha = 1215.67\n",
    "\n",
    "\n",
    "delta_lambda = lyalpha*3000.0/light  \n",
    "max_redshift = ((1.0 + sol_redshift)*lyalpha - delta_lambda)/lyalpha - 1.0\n",
    "\n",
    "min_redshift = (1.0 + sol_redshift)*lyalpha/lambda_location - 1.0\n",
    "\n",
    "\n",
    "# now get the total path\n",
    "dx1 = 0.0\n",
    "dz1 = 0.0\n",
    "for z in range(0, len(min_redshift)):\n",
    "    Xmax = (2./3./omega_M)*pow((omega_M*pow((1. + max_redshift[z]), 3.) + omega_L), 0.5)\n",
    "    Xmin = (2./3./omega_M)*pow((omega_M*pow((1. + min_redshift[z]), 3.) + omega_L), 0.5)\n",
    "    dx1 = dx1 + (Xmax - Xmin)\n",
    "    dz1 = dz1 + (max_redshift[z] - min_redshift[z])\n",
    "\n",
    "print(dx1, dz1)  \n",
    "\n"
   ]
  },
  {
   "cell_type": "code",
   "execution_count": 54,
   "metadata": {},
   "outputs": [
    {
     "data": {
      "text/plain": [
       "11.319587513372273"
      ]
     },
     "execution_count": 54,
     "metadata": {},
     "output_type": "execute_result"
    }
   ],
   "source": [
    "# CII\n",
    "lambda_location = 1334.5323\n",
    "lyalpha = 1215.67\n",
    "\n",
    "\n",
    "delta_lambda = lyalpha*3000.0/light  \n",
    "max_redshift = ((1.0 + sol_redshift)*lyalpha - delta_lambda)/lyalpha - 1.0\n",
    "\n",
    "min_redshift = (1.0 + sol_redshift)*lyalpha/lambda_location - 1.0\n",
    "\n",
    "\n",
    "# now get the total path\n",
    "dx1 = 0.0\n",
    "dz1 = 0.0\n",
    "for z in range(0, len(min_redshift)):\n",
    "    Xmax = (2./3./omega_M)*pow((omega_M*pow((1. + max_redshift[z]), 3.) + omega_L), 0.5)\n",
    "    Xmin = (2./3./omega_M)*pow((omega_M*pow((1. + min_redshift[z]), 3.) + omega_L), 0.5)\n",
    "    dx1 = dx1 + (Xmax - Xmin)\n",
    "    dz1 = dz1 + (max_redshift[z] - min_redshift[z])\n",
    "\n",
    "dx1"
   ]
  },
  {
   "cell_type": "code",
   "execution_count": 52,
   "metadata": {},
   "outputs": [
    {
     "name": "stdout",
     "output_type": "stream",
     "text": [
      "[ 4.406669    4.56592287  4.55796018  4.67740058]\n",
      "[ 5.77999308  5.97999308  5.96999308  6.11999308]\n",
      "7.70770499603 17.5939435277\n"
     ]
    }
   ],
   "source": [
    "# SiII\n",
    "lambda_location = 1526.70698\n",
    "lyalpha = 1215.67\n",
    "\n",
    "\n",
    "delta_lambda = lyalpha*3000.0/light  \n",
    "max_redshift = ((1.0 + sol_redshift)*lyalpha - delta_lambda)/lyalpha - 1.0\n",
    "\n",
    "min_redshift = (1.0 + sol_redshift)*lyalpha/lambda_location - 1.0\n",
    "\n",
    "print(min_redshift)\n",
    "print(max_redshift)\n",
    "# now get the total path\n",
    "dx1 = 0.0\n",
    "dx2 = 0.0\n",
    "for z in range(0, len(min_redshift)):\n",
    "    Xmax = (2./3./omega_M)*pow((omega_M*pow((1. + 5.0), 3.) + omega_L), 0.5)\n",
    "    Xmin = (2./3./omega_M)*pow((omega_M*pow((1. + min_redshift[z]), 3.) + omega_L), 0.5)\n",
    "    dx1 = dx1 + (Xmax - Xmin)\n",
    "\n",
    "    Xmax = (2./3./omega_M)*pow((omega_M*pow((1. + max_redshift[z]), 3.) + omega_L), 0.5)\n",
    "    Xmin = (2./3./omega_M)*pow((omega_M*pow((1. + 5.00), 3.) + omega_L), 0.5)\n",
    "    dx2 = dx2 + (Xmax - Xmin)\n",
    "\n",
    "\n",
    "\n",
    "\n",
    "print(dx1, dx2)"
   ]
  },
  {
   "cell_type": "code",
   "execution_count": 53,
   "metadata": {},
   "outputs": [
    {
     "name": "stdout",
     "output_type": "stream",
     "text": [
      "[ 3.94042113  4.08594163  4.07866561  4.18780599]\n",
      "[ 5.77999308  5.97999308  5.96999308  6.11999308]\n",
      "15.6025827843 17.5939435277\n"
     ]
    }
   ],
   "source": [
    "# AlII\n",
    "lambda_location = 1670.7886\n",
    "lyalpha = 1215.67\n",
    "\n",
    "\n",
    "delta_lambda = lyalpha*3000.0/light  \n",
    "max_redshift = ((1.0 + sol_redshift)*lyalpha - delta_lambda)/lyalpha - 1.0\n",
    "\n",
    "min_redshift = (1.0 + sol_redshift)*lyalpha/lambda_location - 1.0\n",
    "\n",
    "print(min_redshift)\n",
    "print(max_redshift)\n",
    "# now get the total path\n",
    "dx1 = 0.0\n",
    "dx2 = 0.0\n",
    "for z in range(0, len(min_redshift)):\n",
    "    Xmax = (2./3./omega_M)*pow((omega_M*pow((1. + 5.0), 3.) + omega_L), 0.5)\n",
    "    Xmin = (2./3./omega_M)*pow((omega_M*pow((1. + min_redshift[z]), 3.) + omega_L), 0.5)\n",
    "    dx1 = dx1 + (Xmax - Xmin)\n",
    "\n",
    "    Xmax = (2./3./omega_M)*pow((omega_M*pow((1. + max_redshift[z]), 3.) + omega_L), 0.5)\n",
    "    Xmin = (2./3./omega_M)*pow((omega_M*pow((1. + 5.00), 3.) + omega_L), 0.5)\n",
    "    dx2 = dx2 + (Xmax - Xmin)\n",
    "\n",
    "\n",
    "print(dx1, dx2)"
   ]
  },
  {
   "cell_type": "code",
   "execution_count": 48,
   "metadata": {},
   "outputs": [
    {
     "name": "stdout",
     "output_type": "stream",
     "text": [
      "[ 5.55022679  5.74316426  5.73351738  5.87822048]\n",
      "[ 5.77999308  5.97999308  5.96999308  6.11999308]\n"
     ]
    }
   ],
   "source": [
    "# Fe2\n",
    "lambda_location = 1260.17\n",
    "lyalpha = 1215.67\n",
    "\n",
    "\n",
    "delta_lambda = lyalpha*3000.0/light  \n",
    "max_redshift = ((1.0 + sol_redshift)*lyalpha - delta_lambda)/lyalpha - 1.0\n",
    "\n",
    "min_redshift = (1.0 + sol_redshift)*lyalpha/lambda_location - 1.0\n",
    "print(min_redshift)\n",
    "print(max_redshift)\n",
    "# now get the total path\n",
    "dx1 = 0.0\n",
    "dz1 = 0.0\n",
    "for z in range(0, len(min_redshift)):\n",
    "    Xmax = (2./3./omega_M)*pow((omega_M*pow((1. + max_redshift[z]), 3.) + omega_L), 0.5)\n",
    "    Xmin = (2./3./omega_M)*pow((omega_M*pow((1. + min_redshift[z]), 3.) + omega_L), 0.5)\n",
    "    dx1 = dx1 + (Xmax - Xmin)\n",
    "    dz1 = dz1 + (max_redshift[z] - min_redshift[z])\n",
    "\n"
   ]
  },
  {
   "cell_type": "code",
   "execution_count": 90,
   "metadata": {},
   "outputs": [
    {
     "name": "stdout",
     "output_type": "stream",
     "text": [
      "[ 0.41001524] [ 0.40944917] [ 0.41266725]\n"
     ]
    },
    {
     "data": {
      "text/plain": [
       "array([  1.98198334e+13])"
      ]
     },
     "execution_count": 90,
     "metadata": {},
     "output_type": "execute_result"
    }
   ],
   "source": [
    "# S0927\n",
    "# this is not one of Valentina's objects\n",
    "S0927 = real.loc[(real.system == 21) & (real.sol == 'S0927')]\n",
    "\n",
    "c4 = S0927.loc[(S0927.rest_l < 1550) & (S0927.element == 'CIV')]\n",
    "si4 = S0927.loc[(S0927.rest_l < 1400) & (S0927.element == 'SiIV')]\n",
    "\n",
    "a = [c4, si4]\n",
    "S0 = pd.concat(a)\n",
    "print(pow(10, np.array(si4.cd_high))/pow(10, np.array(c4.cd_high)),  \n",
    "      pow(10, np.array(si4.c_d))/pow(10, np.array(c4.c_d)), \n",
    "      pow(10, np.array(si4.cd_low))/pow(10, np.array(c4.cd_low)))\n",
    "\n",
    "pow(10, np.array(si4.cd_high))"
   ]
  },
  {
   "cell_type": "code",
   "execution_count": 13,
   "metadata": {},
   "outputs": [
    {
     "data": {
      "text/plain": [
       "(0.12674271229404308, 0.08962063132909348)"
      ]
     },
     "execution_count": 13,
     "metadata": {},
     "output_type": "execute_result"
    }
   ],
   "source": [
    "2/(4.46+11.32), 2**0.5/(4.46+11.32)"
   ]
  },
  {
   "cell_type": "code",
   "execution_count": 92,
   "metadata": {},
   "outputs": [
    {
     "name": "stdout",
     "output_type": "stream",
     "text": [
      "[ 0.1157444] [ 0.07502396] [ 0.05385177]\n"
     ]
    }
   ],
   "source": [
    "# U0148\n",
    "# this is not one of Valentina's objects\n",
    "U0148 = real.loc[(real.system == 15)]\n",
    "\n",
    "c4 = U0148.loc[(U0148.rest_l < 1550) & (U0148.element == 'CIV') & (U0148.sol == 'U0148')]\n",
    "si4 = U0148.loc[(U0148.rest_l < 1400) & (U0148.element == 'SiIV') & (U0148.sol == 'U0148')]\n",
    "\n",
    "a = [c4, si4]\n",
    "U0 = pd.concat(a)\n",
    "print(pow(10, np.array(si4.cd_high))/pow(10, np.array(c4.cd_high)),  \n",
    "      pow(10, np.array(si4.c_d))/pow(10, np.array(c4.c_d)), \n",
    "      pow(10, np.array(si4.cd_low))/pow(10, np.array(c4.cd_low)))\n",
    "\n",
    "\n"
   ]
  },
  {
   "cell_type": "code",
   "execution_count": 93,
   "metadata": {
    "collapsed": true
   },
   "outputs": [],
   "source": [
    "# U1319\n",
    "U1319 = real.loc[(real.system == 14) |\n",
    "                 (real.system == 16) |\n",
    "                 (real.system == 18) ]\n",
    "\n",
    "c4 = U1319.loc[(U1319.rest_l < 1550) & (U1319.element == 'CIV') & (U1319.sol == 'U1319')]\n",
    "si4 = U1319.loc[(U1319.rest_l < 1400) & (U1319.element == 'SiIV') & (U1319.sol == 'U1319')]\n",
    "\n",
    "a = [c4, si4]\n",
    "U1 = pd.concat(a)"
   ]
  },
  {
   "cell_type": "code",
   "execution_count": null,
   "metadata": {
    "collapsed": true
   },
   "outputs": [],
   "source": []
  }
 ],
 "metadata": {
  "anaconda-cloud": {},
  "kernelspec": {
   "display_name": "Python [Root]",
   "language": "python",
   "name": "Python [Root]"
  },
  "language_info": {
   "codemirror_mode": {
    "name": "ipython",
    "version": 3
   },
   "file_extension": ".py",
   "mimetype": "text/x-python",
   "name": "python",
   "nbconvert_exporter": "python",
   "pygments_lexer": "ipython3",
   "version": "3.5.2"
  }
 },
 "nbformat": 4,
 "nbformat_minor": 2
}
