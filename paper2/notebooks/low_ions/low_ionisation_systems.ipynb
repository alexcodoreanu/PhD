{
 "cells": [
  {
   "cell_type": "code",
   "execution_count": 2,
   "metadata": {
    "collapsed": true
   },
   "outputs": [],
   "source": [
    "import pandas as pd\n",
    "import numpy as np\n",
    "import matplotlib.pyplot as plt\n",
    "%matplotlib inline  \n",
    "import emcee\n",
    "import math\n",
    "import matplotlib\n",
    "\n"
   ]
  },
  {
   "cell_type": "code",
   "execution_count": 74,
   "metadata": {},
   "outputs": [],
   "source": [
    "local_sol = ['S0927', 'S1306', 'U0148', 'U1319']\n",
    "sol_redshift = np.array([5.79, 5.99, 5.98, 6.13])\n",
    "c4_1548 = 1548.2049\n",
    "lyalpha = 1215.67\n",
    "\n",
    "min_redshift = (1.0 + sol_redshift)*lyalpha/c4_1548 - 1.0\n",
    "real = pd.read_csv('/Users/alex/Desktop/final_files/correct_precision/paper2/all_components_file_with_completeness_sep11.csv')\n"
   ]
  },
  {
   "cell_type": "code",
   "execution_count": 90,
   "metadata": {
    "collapsed": true
   },
   "outputs": [],
   "source": [
    "def get_subdf(local_element, local_lambda, dataframe):\n",
    "    local_dataframe = dataframe.loc[(dataframe.element == local_element) & \n",
    "                                    (dataframe.rest_l < local_lambda) &\n",
    "                                    (dataframe.rest_l > local_lambda - 5)] \n",
    "    return(local_dataframe)\n",
    "\n",
    "def get_subdf_sol(sol, dataframe):\n",
    "    local_dataframe = dataframe.loc[(dataframe.sol == sol)] \n",
    "    return(local_dataframe)"
   ]
  },
  {
   "cell_type": "code",
   "execution_count": 166,
   "metadata": {},
   "outputs": [
    {
     "name": "stdout",
     "output_type": "stream",
     "text": [
      "S1306 8 4.61426 0.969994 SiII 4.2074897462e+14 6.29117291887e+14 8.0916261268e+14\n",
      "S1306 14 4.86271 0.969914 SiII 7.35929126658e+14 1.31987512929e+15 2.0815703117e+15\n",
      "S1306 15 4.8786 0.97 SiII 6.467690655e+14 8.01150000188e+14 9.25786580957e+14\n",
      "U0148 10 4.89049 0.962088 SiII 3.96547200912e+14 4.7287049133e+14 6.25551287532e+14\n",
      "U0148 18 5.77515 0.638473 SiII 1.07596959721e+12 1.71790838716e+12 2.73400937851e+12\n",
      "S0927 16 4.60576 0.9278 AlII 480175503014.0 789950721336.0 457298734981.0\n",
      "S1306 6 4.13979 0.743 AlII 5.15703406303e+12 6.02282161015e+12 6.65119989031e+12\n",
      "S1306 8 4.6141 0.969994 AlII 1.28989214895e+13 1.98031949388e+13 2.63916918391e+13\n",
      "S1306 14 4.86258 0.969914 AlII 2.71070791147e+13 3.20628412632e+13 3.56947741911e+13\n",
      "S1306 15 4.87872 0.97 AlII 7.74692201562e+13 1.25942410953e+14 1.74283156599e+14\n",
      "U0148 7 4.45996 0.967 AlII 5.3653739952e+12 6.30086246566e+12 7.01132340687e+12\n",
      "U0148 10 4.89054 0.962088 AlII 1.88557303862e+13 2.18923533408e+13 2.53715902024e+13\n",
      "U1319 7 4.21626 0.552 AlII 320405527691.0 2.34855102406e+12 1.20226443462e+13\n",
      "U1319 16 5.37497 0.963876 AlII 300953916887.0 926189813096.0 1.95974696256e+12\n",
      "U1319 17 5.44057 0.0 AlII 949365260178.0 2.24520334744e+12 4.35273915477e+12\n",
      "U1319 18 5.57365 0.969605 AlII 1.04905920778e+12 1.55060078679e+12 2.38561303993e+12\n",
      "S0927 6 2.57903 0.31 FeII 2.18122265608e+13 2.69339469261e+13 3.25761682966e+13\n",
      "S1306 2 2.3778 0.967 FeII 9.5558022005e+12 1.89264268066e+13 3.18266495642e+13\n",
      "S1306 3 2.53106 0.967 FeII 5.52484066016e+14 7.57422578298e+14 9.01363291838e+14\n",
      "S1306 6 4.13985 0.743 FeII 5.40380912079e+13 6.26469598108e+13 7.23269247777e+13\n",
      "S1306 8 4.6142 0.969994 FeII 6.11211896721e+13 7.44905094792e+13 8.80515672983e+13\n",
      "S1306 14 4.86234 0.969914 FeII 1.53846647394e+14 1.92126407306e+14 2.29370545657e+14\n",
      "S1306 15 4.87921 0.97 FeII 3.49622975761e+14 5.10176272468e+14 7.14710836572e+14\n",
      "U0148 2 2.47759 0.967 FeII 2.11358391222e+14 2.55059864278e+14 3.12573601688e+14\n",
      "U0148 3 2.72196 0.967 FeII 3.15791054522e+13 3.99890474728e+13 5.42787785146e+13\n",
      "U0148 4 3.01843 0.967 FeII 1.46755600881e+14 1.89940175474e+14 2.27070239485e+14\n",
      "U0148 7 4.45992 0.967 FeII 3.79926861476e+13 5.26380751775e+13 7.48514124645e+13\n",
      "U0148 10 4.89056 0.962088 FeII 2.6646980002e+14 3.22183944049e+14 8.44887010678e+14\n",
      "U1319 8 4.56848 0.765 FeII 2.43052448222e+12 4.39744078447e+12 8.33873168909e+12\n",
      "U1319 18 5.57374 0.969605 CII 8.40620544851e+13 9.1981396727e+13 1.02943753666e+14\n"
     ]
    }
   ],
   "source": [
    "local_element = np.array(['SiII', 'AlII', 'FeII', 'CII'])\n",
    "local_lambda = np.array([1305, 1671, 2601, 1335])\n",
    "\n",
    "for l in range(0, len(local_element)):\n",
    "    local_df = get_subdf(local_element[l], local_lambda[l], real)\n",
    "    \n",
    "    # get all of the sightlines in the local_df\n",
    "    local_sol = np.unique(local_df.sol)\n",
    "    \n",
    "    # now cycle through each sightline and the highest recovery rate\n",
    "    for s in range(0, len(local_sol)):\n",
    "        # get local_sol_dataframe\n",
    "        local_df_sol = get_subdf_sol(local_sol[s], local_df)\n",
    "        \n",
    "        # get all individual system ids\n",
    "        local_sol_ids = np.array(np.unique(local_df_sol.system))\n",
    "\n",
    "        # now get the recovery rate of each local_sol_ids[i]\n",
    "        # in local_sol[s] in the original dataframe, real\n",
    "        for i in range(0, len(local_sol_ids)):\n",
    "            local_sol_ids_dataframe = local_df_sol.loc[local_df_sol.system ==  local_sol_ids[i]] \n",
    "            local_recovery = max(real.loc[(real.sol == local_sol[s]) &\n",
    "                 (real.system == local_sol_ids[i])].s5)\n",
    "            print(local_sol[s],\n",
    "                  local_sol_ids[i], \n",
    "                  min(local_sol_ids_dataframe.z),\n",
    "                  local_recovery, \n",
    "                  local_element[l], \n",
    "                  sum(pow(10, local_sol_ids_dataframe.cd_low)),\n",
    "                  sum(pow(10, local_sol_ids_dataframe.c_d)),\n",
    "                  sum(pow(10, local_sol_ids_dataframe.cd_high)))\n",
    "        \n",
    "\n"
   ]
  },
  {
   "cell_type": "code",
   "execution_count": 153,
   "metadata": {},
   "outputs": [
    {
     "data": {
      "text/plain": [
       "'S1306,8,4.61426'"
      ]
     },
     "execution_count": 153,
     "metadata": {},
     "output_type": "execute_result"
    }
   ],
   "source": [
    "str(local_sol[s]) + \",\" + str(local_sol_ids[i])+ \",\" + str(min(local_sol_ids_dataframe.z))"
   ]
  },
  {
   "cell_type": "code",
   "execution_count": 164,
   "metadata": {},
   "outputs": [
    {
     "name": "stdout",
     "output_type": "stream",
     "text": [
      "My name is Emerson and I am 32 years old.\n"
     ]
    }
   ],
   "source": [
    "c = 'Emerson'\n",
    "d = 32\n",
    "print(\"My name is %s and I am %d years old.\" %(c,d))"
   ]
  },
  {
   "cell_type": "code",
   "execution_count": null,
   "metadata": {
    "collapsed": true
   },
   "outputs": [],
   "source": [
    "            line = \n",
    "\n"
   ]
  }
 ],
 "metadata": {
  "anaconda-cloud": {},
  "kernelspec": {
   "display_name": "Python [Root]",
   "language": "python",
   "name": "Python [Root]"
  },
  "language_info": {
   "codemirror_mode": {
    "name": "ipython",
    "version": 3
   },
   "file_extension": ".py",
   "mimetype": "text/x-python",
   "name": "python",
   "nbconvert_exporter": "python",
   "pygments_lexer": "ipython3",
   "version": "3.5.2"
  }
 },
 "nbformat": 4,
 "nbformat_minor": 2
}
