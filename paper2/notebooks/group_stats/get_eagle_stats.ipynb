{
 "cells": [
  {
   "cell_type": "code",
   "execution_count": 149,
   "metadata": {
    "collapsed": true
   },
   "outputs": [],
   "source": [
    "import pandas as pd\n",
    "import numpy as np\n",
    "import matplotlib.pyplot as plt\n",
    "%matplotlib inline  \n",
    "from scipy.special import gammainc\n",
    "from scipy.special import gamma\n",
    "import mpmath\n",
    "import scipy as sp\n",
    "\n",
    "\n",
    "hfont = {'fontname':'Times New roman'}"
   ]
  },
  {
   "cell_type": "code",
   "execution_count": 150,
   "metadata": {},
   "outputs": [
    {
     "data": {
      "text/plain": [
       "StellarMass    2.520000e+10\n",
       "SFR            8.007828e+01\n",
       "X              1.840920e+01\n",
       "Y              8.012645e+01\n",
       "Z              6.377878e+01\n",
       "id             0.000000e+00\n",
       "Name: 0, dtype: float64"
      ]
     },
     "execution_count": 150,
     "metadata": {},
     "output_type": "execute_result"
    }
   ],
   "source": [
    "data = pd.read_csv('eagle_data.csv')\n",
    "data.loc[0]"
   ]
  },
  {
   "cell_type": "code",
   "execution_count": 160,
   "metadata": {},
   "outputs": [
    {
     "name": "stdout",
     "output_type": "stream",
     "text": [
      "0 [3] [ 11.33932693]\n",
      "3 [0 6] [ 11.33932693   8.99891175]\n",
      "6 [3] [ 8.99891175]\n"
     ]
    }
   ],
   "source": [
    "for d in range(0, len(data.X)):\n",
    "    reference_data = data.loc[d:d]\n",
    "    x = np.array(reference_data.X)\n",
    "    y = np.array(reference_data.Y)\n",
    "    z = np.array(reference_data.Z)\n",
    "\n",
    "    comparison_data1 = data.loc[0:d-1]\n",
    "    comparison_data2 = data.loc[d+1:len(data.X)]\n",
    "    if d == len(data.X)-1:     comparison_data2 = data.loc[d:len(data.X)]\n",
    "    \n",
    "    id1 = np.array(comparison_data1.id)\n",
    "    id2 = np.array(comparison_data2.id)\n",
    "    ids = np.concatenate((id1, id2))\n",
    "    \n",
    "    dx1 = np.array((comparison_data1.X - x[0])**2)\n",
    "    dx2 = np.array((comparison_data2.X - x[0])**2)\n",
    "    dx = np.concatenate((dx1, dx2))\n",
    "    \n",
    "    dy1 = np.array((comparison_data1.Y - y[0])**2)\n",
    "    dy2 = np.array((comparison_data2.Y - y[0])**2)\n",
    "    dy = np.concatenate((dy1, dy2))\n",
    "    \n",
    "    dz1 = np.array((comparison_data1.Z - z[0])**2)\n",
    "    dz2 = np.array((comparison_data2.Z - z[0])**2)\n",
    "    dz = np.concatenate((dz1, dz2))\n",
    "    \n",
    "    distance = (dx + dy + dz)**0.5\n",
    "    distance_non_zero = distance[np.where((distance > 0) & (distance <12.53))]\n",
    "    if len(distance_non_zero)> 0: \n",
    "        print(d, ids[np.where((distance > 0) & (distance <12.53))], distance_non_zero)"
   ]
  },
  {
   "cell_type": "code",
   "execution_count": 152,
   "metadata": {},
   "outputs": [
    {
     "data": {
      "text/plain": [
       "'/Users/alex/Desktop/final_files/correct_precision/paper2/notebooks/group_stats'"
      ]
     },
     "execution_count": 152,
     "metadata": {},
     "output_type": "execute_result"
    }
   ],
   "source": [
    "pwd"
   ]
  },
  {
   "cell_type": "code",
   "execution_count": null,
   "metadata": {
    "collapsed": true
   },
   "outputs": [],
   "source": []
  }
 ],
 "metadata": {
  "kernelspec": {
   "display_name": "Python [Root]",
   "language": "python",
   "name": "Python [Root]"
  },
  "language_info": {
   "codemirror_mode": {
    "name": "ipython",
    "version": 3
   },
   "file_extension": ".py",
   "mimetype": "text/x-python",
   "name": "python",
   "nbconvert_exporter": "python",
   "pygments_lexer": "ipython3",
   "version": "3.5.2"
  }
 },
 "nbformat": 4,
 "nbformat_minor": 2
}
