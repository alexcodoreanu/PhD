{
 "cells": [
  {
   "cell_type": "code",
   "execution_count": 18,
   "metadata": {
    "collapsed": true
   },
   "outputs": [],
   "source": [
    "import pandas as pd\n",
    "import numpy as np\n",
    "import matplotlib.pyplot as plt\n",
    "%matplotlib inline  \n",
    "from scipy.special import gammainc\n",
    "from scipy.special import gamma\n",
    "import mpmath\n",
    "import scipy as sp\n",
    "\n",
    "\n",
    "hfont = {'fontname':'Times New roman'}"
   ]
  },
  {
   "cell_type": "code",
   "execution_count": 19,
   "metadata": {
    "collapsed": true
   },
   "outputs": [],
   "source": [
    "lstar_ratio = np.array(range(0,3000))/1000 + 0.001\n",
    "colorchoice = ['r', 'c', 'g', 'k']\n",
    "\n",
    "light = 299792.458\n",
    "H0 = 67.8#/3.08567758e24 ; centimeters  \n",
    "little_h = H0/100.0\n",
    "om = 0.308\n",
    "dh = light/H0 # it's in Mpc\n",
    "\n"
   ]
  },
  {
   "cell_type": "code",
   "execution_count": 20,
   "metadata": {
    "collapsed": true
   },
   "outputs": [],
   "source": [
    "# Nielsen2013B, Table 3 values, b-band \n",
    "b_wcut        = np.array([0.1, 0.3, 0.6, 1.0])\n",
    "\n",
    "b_rstar       = np.array([80, 79, 75, 74])/1000\n",
    "b_rstar_plus  = np.array([130, 131, 111, 100])/1000\n",
    "b_rstar_minus = np.array([72, 69, 70, 71])/1000\n",
    "\n",
    "b_beta       = np.array([0.30, 0.38, 0.39, 0.38])\n",
    "b_beta_plus  = np.array([0.33, 0.39, 0.40, 0.39])\n",
    "b_beta_minus = np.array([0.29, 0.32, 0.35, 0.31])\n",
    "\n",
    "b_frl       = np.array([0.85, 0.81, 0.59, 0.34])\n",
    "b_frl_plus  = np.array([0.88, 0.85, 0.64, 0.39])\n",
    "b_frl_minus = np.array([0.81, 0.79, 0.55, 0.30])\n"
   ]
  },
  {
   "cell_type": "code",
   "execution_count": 21,
   "metadata": {
    "collapsed": true
   },
   "outputs": [],
   "source": [
    "# calculate cross-section of strong absorbers\n",
    "b = 3\n",
    "halo_radius = b_rstar[b]*lstar_ratio**b_beta[b]\n",
    "halo_radius_plus = b_rstar_plus[b]*lstar_ratio**b_beta_plus[b]\n",
    "halo_radius_minus = b_rstar_minus[b]*lstar_ratio**b_beta_minus[b]\n",
    "\n",
    "halo_crossection = b_frl[b]*halo_radius**2\n",
    "halo_crossection_plus  = b_frl[b]*halo_radius_plus**2\n",
    "halo_crossection_minus = b_frl[b]*halo_radius_minus**2\n",
    "\n",
    "# number density\n",
    "# for redshift <z> ~ 5\n",
    "# mason2015b\n",
    "mstar   = -21.2\n",
    "mplus   = -21.0\n",
    "mminus  = -21.4\n",
    "\n",
    "phistar   = pow(10, -3.12) \n",
    "phiplus   = pow(10, -2.88) \n",
    "phiminus  = pow(10, -3.27) \n",
    "\n",
    "alpha=-1.75\n",
    "alphaplus = alpha + 0.13\n",
    "alphaminus = alpha - 0.13\n",
    "\n",
    "\n",
    "N       = np.zeros(len(lstar_ratio)) \n",
    "N_minus = np.zeros(len(lstar_ratio)) \n",
    "N_plus  = np.zeros(len(lstar_ratio)) \n",
    "\n",
    "\n",
    "for l in range(0, len(lstar_ratio)):\n",
    "    N[l]        =  phistar*float(mpmath.gammainc(alpha       + 1, lstar_ratio[l]))\n",
    "    N_plus[l]   =  phiplus*float(mpmath.gammainc(alphaplus   + 1, lstar_ratio[l]))\n",
    "    N_minus[l]  = phiminus*float(mpmath.gammainc(alphaminus  + 1, lstar_ratio[l]))\n"
   ]
  },
  {
   "cell_type": "code",
   "execution_count": 22,
   "metadata": {
    "scrolled": true
   },
   "outputs": [
    {
     "data": {
      "text/plain": [
       "([<matplotlib.axis.YTick at 0x116334cf8>,\n",
       "  <matplotlib.axis.YTick at 0x11633f4a8>,\n",
       "  <matplotlib.axis.YTick at 0x115b3f860>],\n",
       " <a list of 3 Text yticklabel objects>)"
      ]
     },
     "execution_count": 22,
     "metadata": {},
     "output_type": "execute_result"
    },
    {
     "data": {
      "image/png": "[encoded data removed]",
      "text/plain": [
       "<matplotlib.figure.Figure at 0x1169b5828>"
      ]
     },
     "metadata": {},
     "output_type": "display_data"
    }
   ],
   "source": [
    "plt.plot(lstar_ratio, N, '-', color = colorchoice[0])\n",
    "plt.plot(lstar_ratio, N_minus, '--', color = colorchoice[0], alpha=10)\n",
    "plt.plot(lstar_ratio, N_plus, '--', color = colorchoice[0], alpha=10)\n",
    "\n",
    "\n",
    "plt.fill_between(lstar_ratio, N_minus, N_plus, color = colorchoice[0], alpha = 0.2)\n",
    "\n",
    "\n",
    "plt.yscale('log')\n",
    "plt.xscale('log')\n",
    "\n",
    "\n",
    "\n",
    "plt.grid(True)\n",
    "plt.ylim([0, 0.1] )\n",
    "plt.xlim([0.001, 1.7])\n",
    "plt.ylabel('# of galaxies/mag/mpc$^3$', **hfont,  fontsize=25)\n",
    "plt.xlabel(' L/L*', **hfont,  fontsize=25)\n",
    "\n",
    "\n",
    "plt.xticks([0.001, 0.05, 0.1, 0.5, 1.0, 1.5], **hfont, fontsize = 25)\n",
    "\n",
    "plt.yticks([pow(10, -4), pow(10, -3), pow(10, -2)], **hfont, fontsize = 25)\n",
    "\n",
    "\n"
   ]
  },
  {
   "cell_type": "code",
   "execution_count": 23,
   "metadata": {
    "collapsed": true
   },
   "outputs": [],
   "source": [
    "# define E(z) function\n",
    "def get_ez(om, redshift):\n",
    "    ol = 1.0 - om\n",
    "    a = om*(1.0 + redshift)**3\n",
    "    ez = (a + ol)**0.5\n",
    "    return(ez)\n",
    "    \n",
    "# get the comoving distance between two redshift points    \n",
    "def get_comoving_distance(om, H0, zmin, zmax):\n",
    "    light = 299792.458 # it's in km/s\n",
    "    dh = light/H0 # it's in Mpc/h\n",
    "\n",
    "    step_size = 0.0001\n",
    "    num_steps = (zmax-zmin)/step_size\n",
    "    redshift_array = zmin + np.array(range(0, int(num_steps) + 1))*0.0001\n",
    "    temp_dc = 0.0\n",
    "    for n in range(0, int(num_steps)):\n",
    "        local_ez = get_ez(om, redshift_array[n])\n",
    "        temp_dc = temp_dc + 1./local_ez*step_size\n",
    "\n",
    "    dc = temp_dc*dh\n",
    "    print('the comoving distance between', zmin, ' and ', zmax, ' is', dc , ' comoving Mpc/h')\n",
    "    return(dc)\n",
    "\n",
    "# get the angular diameter distance between two redshift points    \n",
    "def get_angular_diameter_distance(om, H0, zmax):\n",
    "    light = 299792.458 # it's in km/s\n",
    "    dh = light/H0 # it's in Mpc/h\n",
    "    dc = get_comoving_distance(om, H0, 0, zmax)\n",
    "    da = dc/(1.0 + zmax)\n",
    "    return(da)\n",
    "\n",
    "# get delta_z from a velocity offset\n",
    "def get_dz_from_dv(redshift, dv):\n",
    "    # dv/c = dz/(1.+z)\n",
    "    light = 299792.458 # in kms^-1\n",
    "    dz = dv/light*(1. + redshift)\n",
    "    return(dz)\n",
    "\n",
    "\n",
    "# probability of intersecting 1 object\n",
    "def get_probability_of_intersection(n, cross_section, dh, redshift):\n",
    "    dpoverdz = n*cross_section*dh*(1+redshift)**2/get_ez(om, redshift)\n",
    "    return(dpoverdz)"
   ]
  },
  {
   "cell_type": "code",
   "execution_count": 38,
   "metadata": {},
   "outputs": [
    {
     "name": "stdout",
     "output_type": "stream",
     "text": [
      "the comoving distance between 4.856825721350336  and  4.890048458394641  is 18.481170356  comoving Mpc/h\n",
      "physical distance between  4.856825721350336  and  4.890048458394641  is  2.13871036314  Mpc\n",
      "\n",
      "the physical volume is  23.0381092224  physical Mpc^3\n",
      "the volume density is  0.0868126798383  per Mpc^3\n",
      "\n",
      "the comoving physical volume is  14865.4931919  comoving h^-1 Mpc^3\n",
      "the comoving volume density is  0.000134539767647  (comoving h^-1 Mpc^3)^-1\n",
      "\n",
      "comoving*h distance between  4.856825721350336  and  4.890048458394641  is  12.5302335014  Mpc\n",
      "the comoving physical volume is  4633.06511452  comoving  h*Mpc^3\n",
      "the comoving volume density is  0.000431679665743  (comoving h*Mpc^3)^-1\n"
     ]
    }
   ],
   "source": [
    "# get redshift boundary from dv = [-100, 1600]\n",
    "redshift = 4.85878\n",
    "dz1 = get_dz_from_dv(redshift, 100)\n",
    "dz2 = get_dz_from_dv(redshift, 1600)\n",
    "comoving_dcz12 = get_comoving_distance(om, H0, redshift - dz1, redshift + dz2)\n",
    "physical_dcz12 = comoving_dcz12*little_h/(1. + redshift)\n",
    "little_h_comoving_dcz12 = comoving_dcz12*little_h\n",
    "\n",
    "\n",
    "print('physical distance between ', redshift - dz1 , \n",
    "      ' and ', redshift + dz2, ' is ', physical_dcz12, ' Mpc')\n",
    "volume = 3.14*0.75*physical_dcz12**3\n",
    "print()\n",
    "print('the physical volume is ', volume, ' physical Mpc^3')\n",
    "\n",
    "volume_density = 2/volume\n",
    "print('the volume density is ', volume_density, ' per Mpc^3')\n",
    "\n",
    "print()\n",
    "comoving_volume = 3.14*0.75*comoving_dcz12**3\n",
    "comoving_volume_density = 2/comoving_volume\n",
    "print('the comoving physical volume is ', comoving_volume, ' comoving h^-1 Mpc^3')\n",
    "print('the comoving volume density is ', comoving_volume_density, ' (comoving h^-1 Mpc^3)^-1')\n",
    "\n",
    "\n",
    "print()\n",
    "little_h_comoving_volume = 3.14*0.75*little_h_comoving_dcz12**3\n",
    "little_h_comoving_volume_density = 2/little_h_comoving_volume\n",
    "print('comoving*h distance between ', redshift - dz1 , \n",
    "      ' and ', redshift + dz2, ' is ', little_h_comoving_dcz12, ' Mpc')\n",
    "print('the comoving physical volume is ', little_h_comoving_volume, ' comoving  h*Mpc^3')\n",
    "print('the comoving volume density is ', little_h_comoving_volume_density, ' (comoving h*Mpc^3)^-1')\n",
    "\n"
   ]
  },
  {
   "cell_type": "code",
   "execution_count": 25,
   "metadata": {},
   "outputs": [
    {
     "name": "stdout",
     "output_type": "stream",
     "text": [
      "while we expect (from luminosity function) 0.00105775293705  + 0.000636611001024  - 0.00024204153092\n",
      "\n",
      "this means that we identify an overdensity of  82.0727381581  + 30.836591137  - 24.3529893555\n",
      "this means that we identify a comoving overdensity of  0.127193943817  + 0.0477896525522  - 0.0377415549837\n",
      "this means that we identify a comoving*h overdensity of  0.187601687045  + 0.0704862132038  - 0.0556660103004\n",
      "\n",
      "when considering galaxies with L/L* =  0.29\n"
     ]
    }
   ],
   "source": [
    "l_index = 289 # corresponds to minimum lstar ration = 0.29\n",
    "print('while we expect (from luminosity function)' , N[l_index], \n",
    "      ' +', N_plus[l_index]-N[l_index], \n",
    "      ' -', N[l_index] - N_minus[l_index])\n",
    "print()\n",
    "\n",
    "\n",
    "print('this means that we identify an overdensity of ', volume_density/N[l_index], \n",
    "      ' +', volume_density/N[l_index] - volume_density/N_plus[l_index], \n",
    "      ' -', volume_density/N_minus[l_index] - volume_density/N[l_index])\n",
    "\n",
    "print('this means that we identify a comoving overdensity of ', comoving_volume_density/N[l_index], \n",
    "      ' +', comoving_volume_density/N[l_index] - comoving_volume_density/N_plus[l_index], \n",
    "      ' -', comoving_volume_density/N_minus[l_index] - comoving_volume_density/N[l_index])\n",
    "\n",
    "print('this means that we identify a comoving*h overdensity of ', little_h_comoving_volume_density/N[l_index], \n",
    "      ' +', little_h_comoving_volume_density/N[l_index] - little_h_comoving_volume_density/N_plus[l_index], \n",
    "      ' -', little_h_comoving_volume_density/N_minus[l_index] - little_h_comoving_volume_density/N[l_index])\n",
    "\n",
    "\n",
    "print()\n",
    "print('when considering galaxies with L/L* = ', lstar_ratio[l_index])\n"
   ]
  },
  {
   "cell_type": "code",
   "execution_count": 26,
   "metadata": {},
   "outputs": [
    {
     "name": "stdout",
     "output_type": "stream",
     "text": [
      "while we expect (from luminosity function) 0.000123014896285  + 0.00010129480153  - 3.98836829008e-05\n",
      "\n",
      "this means that we identify an overdensity of  705.708678054  + 318.687159663  - 338.576329997\n",
      "this means that we identify a comoving overdensity of  1.09368679493  + 0.493892096096  - 0.524715754121\n",
      "this means that we identify a comoving*h overdensity of  1.61310736716  + 0.728454419021  - 0.773917041476\n",
      "\n",
      "when considering galaxies with L/L* =  1.0\n"
     ]
    }
   ],
   "source": [
    "l_index = 999 # corresponds to minimum lstar ration = 1.0\n",
    "print('while we expect (from luminosity function)' , N[l_index], \n",
    "      ' +', N_plus[l_index]-N[l_index], \n",
    "      ' -', N[l_index] - N_minus[l_index])\n",
    "print()\n",
    "\n",
    "\n",
    "print('this means that we identify an overdensity of ', volume_density/N[l_index], \n",
    "      ' +', volume_density/N[l_index] - volume_density/N_plus[l_index], \n",
    "      ' -', volume_density/N_minus[l_index] - volume_density/N[l_index])\n",
    "print('this means that we identify a comoving overdensity of ', comoving_volume_density/N[l_index], \n",
    "      ' +', comoving_volume_density/N[l_index] - comoving_volume_density/N_plus[l_index], \n",
    "      ' -', comoving_volume_density/N_minus[l_index] - comoving_volume_density/N[l_index])\n",
    "print('this means that we identify a comoving*h overdensity of ', little_h_comoving_volume_density/N[l_index], \n",
    "      ' +', little_h_comoving_volume_density/N[l_index] - little_h_comoving_volume_density/N_plus[l_index], \n",
    "      ' -', little_h_comoving_volume_density/N_minus[l_index] - little_h_comoving_volume_density/N[l_index])\n",
    "\n",
    "\n",
    "print()\n",
    "print('when considering galaxies with L/L* = ', lstar_ratio[l_index])\n"
   ]
  },
  {
   "cell_type": "code",
   "execution_count": 27,
   "metadata": {
    "collapsed": true
   },
   "outputs": [],
   "source": [
    "# now make a plot of volume density ratio as a function of luminosity ratio\n",
    "volume_density_ratio = np.array(range(0, len(N)))\n",
    "volume_density_ratio_low = np.array(range(0, len(N)))\n",
    "volume_density_ratio_high = np.array(range(0, len(N)))\n",
    "\n",
    "\n",
    "comoving_volume_density_ratio = np.array(range(0, len(N)))\n",
    "comoving_volume_density_ratio_low = np.array(range(0, len(N)))\n",
    "comoving_volume_density_ratio_high = np.array(range(0, len(N)))\n",
    "\n",
    "little_h_comoving_volume_density_ratio = np.array(range(0, len(N)))\n",
    "little_h_comoving_volume_density_ratio_low = np.array(range(0, len(N)))\n",
    "little_h_comoving_volume_density_ratio_high = np.array(range(0, len(N)))\n",
    "\n",
    "\n",
    "\n",
    "\n",
    "for l in range(0, len(volume_density_ratio)):\n",
    "    l_index = l\n",
    "     \n",
    "    volume_density_ratio[l]      = volume_density/N[l_index]\n",
    "    volume_density_ratio_high[l] = volume_density/N_minus[l_index]\n",
    "    volume_density_ratio_low[l]  = volume_density/N_plus[l_index] \n",
    "\n",
    "    comoving_volume_density_ratio[l]      = comoving_volume_density/N[l_index]\n",
    "    comoving_volume_density_ratio_high[l] = comoving_volume_density/N_minus[l_index] \n",
    "    comoving_volume_density_ratio_low[l]  = comoving_volume_density/N_plus[l_index] \n",
    "\n",
    "    little_h_comoving_volume_density_ratio[l]      = little_h_comoving_volume_density/N[l_index]\n",
    "    little_h_comoving_volume_density_ratio_high[l] = little_h_comoving_volume_density/N_minus[l_index] \n",
    "    little_h_comoving_volume_density_ratio_low[l]  = little_h_comoving_volume_density/N_plus[l_index] \n",
    "\n",
    "\n",
    "\n",
    "    "
   ]
  },
  {
   "cell_type": "code",
   "execution_count": 28,
   "metadata": {},
   "outputs": [
    {
     "data": {
      "text/plain": [
       "<matplotlib.collections.PolyCollection at 0x116d9c0b8>"
      ]
     },
     "execution_count": 28,
     "metadata": {},
     "output_type": "execute_result"
    },
    {
     "data": {
      "image/png": "[encoded data removed]",
      "text/plain": [
       "<matplotlib.figure.Figure at 0x115bb9390>"
      ]
     },
     "metadata": {},
     "output_type": "display_data"
    }
   ],
   "source": [
    "plt.yscale('log')\n",
    "plt.xlim([0, 1.2])\n",
    "plt.ylim([1, 5000])\n",
    "plt.grid(True)\n",
    "hfont = {'fontname':'Times New roman'}\n",
    "# x and y ticks\n",
    "xlabels = ['0.2', '0.4',  '0.6', '0.8', '1.0']\n",
    "plt.xticks([0.2, 0.4, 0.6, 0.8, 1.0], \n",
    "            xlabels, **hfont, fontsize = 18)\n",
    "ylabels = ['10', '100', '1000']\n",
    "plt.yticks([10, 100, 1000], \n",
    "            ylabels, **hfont, fontsize = 18)\n",
    "\n",
    "# x, y labels and title\n",
    "plt.xlabel('L/L*', **hfont,  fontsize=24)\n",
    "ylabel='R(abs/LF)'\n",
    "plt.ylabel(ylabel, **hfont,  fontsize=24)\n",
    "plt.title(' ', **hfont,  fontsize=24)\n",
    "\n",
    "\n",
    "plt.plot(lstar_ratio, volume_density_ratio, 'k--', lw=1)\n",
    "plt.fill_between(lstar_ratio, volume_density_ratio_low, volume_density_ratio_high, color = 'k', alpha = 0.4)\n",
    "\n",
    "plt.fill_between([0.29, 2], [0., 0.], [10**6, 10**6], color = 'b', alpha = 0.2)\n",
    "plt.fill_between([0., 0.29], [0., 0.], [10**6, 10**6], color = 'y', alpha = 0.2)\n",
    "\n"
   ]
  },
  {
   "cell_type": "code",
   "execution_count": 29,
   "metadata": {},
   "outputs": [
    {
     "data": {
      "text/plain": [
       "<matplotlib.collections.PolyCollection at 0x116d84080>"
      ]
     },
     "execution_count": 29,
     "metadata": {},
     "output_type": "execute_result"
    },
    {
     "data": {
      "image/png": "[encoded data removed]",
      "text/plain": [
       "<matplotlib.figure.Figure at 0x116f04f60>"
      ]
     },
     "metadata": {},
     "output_type": "display_data"
    }
   ],
   "source": [
    "plt.yscale('log')\n",
    "plt.xlim([0.29, 2.11])\n",
    "plt.ylim([30, 15000])\n",
    "plt.grid(True)\n",
    "hfont = {'fontname':'Times New roman'}\n",
    "# x and y ticks\n",
    "xlabels = ['0.5', '1.0', '1.5', '2.0']\n",
    "plt.xticks([0.5, 1.0, 1.5, 2.0], \n",
    "            xlabels, **hfont, fontsize = 18)\n",
    "ylabels = [ '100', '1000', '10000']\n",
    "plt.yticks([100, 1000, 10000], \n",
    "            ylabels, **hfont, fontsize = 18)\n",
    "\n",
    "# x, y labels and title\n",
    "plt.xlabel('L/L*', **hfont,  fontsize=24)\n",
    "ylabel='R(abs/LF)'\n",
    "plt.ylabel(ylabel, **hfont,  fontsize=24)\n",
    "plt.title(' ', **hfont,  fontsize=24)\n",
    "\n",
    "\n",
    "plt.plot(lstar_ratio, volume_density_ratio, 'k--', lw=2)\n",
    "plt.fill_between(lstar_ratio, volume_density_ratio_low, volume_density_ratio_high, color = 'k', alpha = 0.4)\n",
    "#plt.fill_between(lstar_ratio, volume_density_ratio_low, volume_density_ratio_high, color = 'b', alpha = 0.2)\n",
    "\n",
    "\n",
    "# plt.fill_between([0.29, 2], [0., 0.], [10**6, 10**6], color = 'b', alpha = 0.2)\n",
    "# plt.fill_between([0., 0.29], [0., 0.], [10**6, 10**6], color = 'y', alpha = 0.2)\n",
    "\n",
    "\n"
   ]
  },
  {
   "cell_type": "code",
   "execution_count": 30,
   "metadata": {},
   "outputs": [
    {
     "data": {
      "text/plain": [
       "<matplotlib.collections.PolyCollection at 0x116fdc780>"
      ]
     },
     "execution_count": 30,
     "metadata": {},
     "output_type": "execute_result"
    },
    {
     "data": {
      "image/png": "[encoded data removed]",
      "text/plain": [
       "<matplotlib.figure.Figure at 0x115bbdcc0>"
      ]
     },
     "metadata": {},
     "output_type": "display_data"
    }
   ],
   "source": [
    "# if units of luminosity function are comoving\n",
    "plt.xlim([0.29, 2.2])\n",
    "plt.ylim([0, 17])\n",
    "plt.grid(True)\n",
    "hfont = {'fontname':'Times New roman'}\n",
    "# x and y ticks\n",
    "xlabels = ['0.5', '1.0', '1.5', '2.0']\n",
    "plt.xticks([0.5, 1.0, 1.5, 2.0], \n",
    "            xlabels, **hfont, fontsize = 18)\n",
    "ylabels = [ '5', '10', '15', ' ']\n",
    "plt.yticks([ 5, 10, 15, 20], \n",
    "            ylabels, **hfont, fontsize = 18)\n",
    "\n",
    "# x, y labels and title\n",
    "plt.xlabel('L/L*', **hfont,  fontsize=24)\n",
    "ylabel='R(abs/LF)'\n",
    "plt.ylabel(ylabel, **hfont,  fontsize=24)\n",
    "plt.title(' ', **hfont,  fontsize=24)\n",
    "\n",
    "\n",
    "plt.plot(lstar_ratio, comoving_volume_density_ratio, 'k--', lw=2)\n",
    "plt.fill_between(lstar_ratio, comoving_volume_density_ratio_low, \n",
    "                 comoving_volume_density_ratio_high, color = 'k', alpha = 0.4)\n",
    "#plt.fill_between(lstar_ratio, comoving_volume_density_ratio_low, \n",
    "#                 comoving_volume_density_ratio_high, color = 'b', alpha = 0.2)\n",
    "\n",
    "#plt.fill_between([0.29, 4], [0., 0.], [10**6, 10**6], color = 'b', alpha = 0.2)\n",
    "#plt.fill_between([0., 0.29], [0., 0.], [10**6, 10**6], color = 'y', alpha = 0.2)\n"
   ]
  },
  {
   "cell_type": "code",
   "execution_count": 31,
   "metadata": {},
   "outputs": [
    {
     "data": {
      "text/plain": [
       "<matplotlib.collections.PolyCollection at 0x116aa7588>"
      ]
     },
     "execution_count": 31,
     "metadata": {},
     "output_type": "execute_result"
    },
    {
     "data": {
      "image/png": "[encoded data removed]",
      "text/plain": [
       "<matplotlib.figure.Figure at 0x116f97240>"
      ]
     },
     "metadata": {},
     "output_type": "display_data"
    }
   ],
   "source": [
    "# if units of luminosity function are comoving*h\n",
    "plt.xlim([0.29, 2.2])\n",
    "plt.ylim([0, 17])\n",
    "plt.grid(True)\n",
    "hfont = {'fontname':'Times New roman'}\n",
    "# x and y ticks\n",
    "xlabels = ['0.5', '1.0', '1.5', '2.0']\n",
    "plt.xticks([0.5, 1.0, 1.5, 2.0], \n",
    "            xlabels, **hfont, fontsize = 18)\n",
    "ylabels = [ '5', '10', '15', ' ']\n",
    "plt.yticks([ 5, 10, 15, 20], \n",
    "            ylabels, **hfont, fontsize = 18)\n",
    "\n",
    "# x, y labels and title\n",
    "plt.xlabel('L/L*', **hfont,  fontsize=24)\n",
    "ylabel='R(abs/LF)'\n",
    "plt.ylabel(ylabel, **hfont,  fontsize=24)\n",
    "plt.title(' ', **hfont,  fontsize=24)\n",
    "\n",
    "\n",
    "plt.plot(lstar_ratio, little_h_comoving_volume_density_ratio, 'k--', lw=2)\n",
    "plt.fill_between(lstar_ratio, little_h_comoving_volume_density_ratio_low, \n",
    "                 little_h_comoving_volume_density_ratio_high, color = 'k', alpha = 0.4)\n",
    "#plt.fill_between(lstar_ratio, comoving_volume_density_ratio_low, \n",
    "#                 comoving_volume_density_ratio_high, color = 'b', alpha = 0.2)\n",
    "\n",
    "#plt.fill_between([0.29, 4], [0., 0.], [10**6, 10**6], color = 'b', alpha = 0.2)\n",
    "#plt.fill_between([0., 0.29], [0., 0.], [10**6, 10**6], color = 'y', alpha = 0.2)\n",
    "\n"
   ]
  },
  {
   "cell_type": "code",
   "execution_count": 32,
   "metadata": {},
   "outputs": [
    {
     "name": "stdout",
     "output_type": "stream",
     "text": [
      "the comoving distance between 5.7242  and  5.746629516889314  is 10.1726305445  comoving Mpc/h\n"
     ]
    }
   ],
   "source": [
    "# check to see if I get Gonzalo's number\n",
    "dz = get_dz_from_dv(5.7242, 1000)\n",
    "dc5d7 = get_comoving_distance(om, H0, 5.7242, 5.7242 + dz)\n",
    "\n"
   ]
  },
  {
   "cell_type": "code",
   "execution_count": 33,
   "metadata": {},
   "outputs": [
    {
     "name": "stdout",
     "output_type": "stream",
     "text": [
      "the comoving distance between 4.870498338279608  and  4.876375841465368  is 3.22864537549  comoving Mpc/h\n",
      "physical distance between  4.870498338279608  and  4.876375841465368  is  0.372698563225  physical Mpc\n"
     ]
    }
   ],
   "source": [
    "# get the physical distance between two MgII components +/-150 at +750 from 4.856825721350336\n",
    "redshift = 4.85878\n",
    "z_center = redshift + get_dz_from_dv(redshift, 750)\n",
    "z1 = z_center - get_dz_from_dv(z_center, 150)\n",
    "z2 = z_center + get_dz_from_dv(z_center, 150)\n",
    "\n",
    "comoving_dc_z12 = get_comoving_distance(om, H0, z1, z2)\n",
    "physical_dc_z12 = comoving_dc_z12*little_h/(1.0 + z_center)\n",
    "\n",
    "print('physical distance between ', z1, \n",
    "      ' and ', z2, ' is ', physical_dc_z12, ' physical Mpc')\n",
    "\n",
    "\n"
   ]
  },
  {
   "cell_type": "markdown",
   "metadata": {},
   "source": [
    "get"
   ]
  },
  {
   "cell_type": "code",
   "execution_count": 34,
   "metadata": {},
   "outputs": [
    {
     "name": "stdout",
     "output_type": "stream",
     "text": [
      "the comoving distance between 4.61  and  4.86  is 144.216415805  comoving Mpc/h\n"
     ]
    },
    {
     "data": {
      "text/plain": [
       "144.21641580470913"
      ]
     },
     "execution_count": 34,
     "metadata": {},
     "output_type": "execute_result"
    }
   ],
   "source": [
    "get_comoving_distance(om, H0, 4.61, 4.86)"
   ]
  },
  {
   "cell_type": "code",
   "execution_count": null,
   "metadata": {
    "collapsed": true
   },
   "outputs": [],
   "source": []
  },
  {
   "cell_type": "code",
   "execution_count": null,
   "metadata": {
    "collapsed": true
   },
   "outputs": [],
   "source": []
  },
  {
   "cell_type": "code",
   "execution_count": null,
   "metadata": {
    "collapsed": true
   },
   "outputs": [],
   "source": []
  },
  {
   "cell_type": "code",
   "execution_count": null,
   "metadata": {
    "collapsed": true
   },
   "outputs": [],
   "source": []
  },
  {
   "cell_type": "code",
   "execution_count": null,
   "metadata": {
    "collapsed": true
   },
   "outputs": [],
   "source": []
  },
  {
   "cell_type": "code",
   "execution_count": null,
   "metadata": {
    "collapsed": true
   },
   "outputs": [],
   "source": []
  },
  {
   "cell_type": "code",
   "execution_count": null,
   "metadata": {
    "collapsed": true
   },
   "outputs": [],
   "source": []
  }
 ],
 "metadata": {
  "anaconda-cloud": {},
  "kernelspec": {
   "display_name": "Python [Root]",
   "language": "python",
   "name": "Python [Root]"
  },
  "language_info": {
   "codemirror_mode": {
    "name": "ipython",
    "version": 3
   },
   "file_extension": ".py",
   "mimetype": "text/x-python",
   "name": "python",
   "nbconvert_exporter": "python",
   "pygments_lexer": "ipython3",
   "version": "3.5.2"
  }
 },
 "nbformat": 4,
 "nbformat_minor": 2
}
