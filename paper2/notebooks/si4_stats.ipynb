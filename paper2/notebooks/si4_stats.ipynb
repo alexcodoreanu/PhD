{
 "cells": [
  {
   "cell_type": "code",
   "execution_count": 1,
   "metadata": {
    "collapsed": true
   },
   "outputs": [],
   "source": [
    "import pandas as pd\n",
    "import numpy as np\n",
    "import matplotlib.pyplot as plt\n",
    "%matplotlib inline  \n",
    "import emcee\n",
    "import math\n",
    "import matplotlib\n"
   ]
  },
  {
   "cell_type": "code",
   "execution_count": 5,
   "metadata": {},
   "outputs": [
    {
     "name": "stdout",
     "output_type": "stream",
     "text": [
      "dz_z1 =  0.433694236264\n",
      "dx_z1 =  1.91803671035\n",
      "dz_z2 =  3.13\n",
      "dx_z2 =  14.4195335701\n"
     ]
    },
    {
     "data": {
      "text/plain": [
       "array([ 4.9223957 ,  5.09684035,  5.08811812,  5.2189516 ])"
      ]
     },
     "execution_count": 5,
     "metadata": {},
     "output_type": "execute_result"
    }
   ],
   "source": [
    "local_sol = ['S0927', 'S1306', 'U0148', 'U1319']\n",
    "sol_redshift = np.array([5.79, 5.99, 5.98, 6.13])\n",
    "si4_1393 = 1393.76018\n",
    "lyalpha = 1215.67\n",
    "\n",
    "min_redshift = (1.0 + sol_redshift)*lyalpha/si4_1393 - 1.0\n",
    "\n",
    "zbin_bound_s3 = 5.22\n",
    "zbin_bound_s5 = 5.19\n",
    "\n",
    "#real = pd.read_csv('/Users/acodoreanu/Desktop/final_files/correct_precision/pros/all_components_file_with_completeness_aug22.csv')\n",
    "real = pd.read_csv('/Users/alex/Desktop/final_files/correct_precision/pros/all_components_file_with_completeness_aug22.csv')\n",
    "\n",
    "\n",
    "# calculate redshift path\n",
    "light = 299792.458\n",
    "omega_M = 0.308\n",
    "omega_L = 1.0 - omega_M\n",
    "\n",
    "dx1 = 0.0\n",
    "dz1 = 0.0\n",
    "for z in range(0, len(min_redshift)):\n",
    "    Xmax = (2./3./omega_M)*pow((omega_M*pow((1. + 5.19), 3.) + omega_L), 0.5)\n",
    "    Xmin = (2./3./omega_M)*pow((omega_M*pow((1. + min_redshift[z]), 3.) + omega_L), 0.5)\n",
    "    dx1 = dx1 + (Xmax - Xmin)\n",
    "    dz1 = dz1 + (5.19 - min_redshift[z])\n",
    "    \n",
    "dx2 = 0.0\n",
    "dz2 = 0.0\n",
    "for z in range(0, len(min_redshift)):\n",
    "    Xmax = (2./3./omega_M)*pow((omega_M*pow((1. + sol_redshift[z]), 3.) + omega_L), 0.5)\n",
    "    Xmin = (2./3./omega_M)*pow((omega_M*pow((1. + 5.19), 3.) + omega_L), 0.5)\n",
    "    dx2 = dx2 + (Xmax - Xmin)\n",
    "    dz2 = dz2 + (sol_redshift[z] - 5.19)\n",
    "    \n",
    "print('dz_z1 = ', dz1)\n",
    "print('dx_z1 = ', dx1)\n",
    "\n",
    "print('dz_z2 = ', dz2)\n",
    "print('dx_z2 = ', dx2)\n",
    "min_redshift"
   ]
  },
  {
   "cell_type": "code",
   "execution_count": 6,
   "metadata": {
    "collapsed": true
   },
   "outputs": [],
   "source": [
    "element = 'SiIV'\n",
    "min_rest = 1395.0\n",
    "\n",
    "s = 0\n",
    "sol = local_sol[s]\n",
    "sol_systems = real.loc[(real.sol == sol) &\n",
    "                       (real.element ==  element) & \n",
    "                       (real.rest_l < min_rest)]"
   ]
  },
  {
   "cell_type": "code",
   "execution_count": 7,
   "metadata": {},
   "outputs": [
    {
     "name": "stdout",
     "output_type": "stream",
     "text": [
      "above,  5.19 S0927 0 0\n",
      "above,  5.19 S1306 0 0\n",
      "above,  5.19 U0148 2 9.46055534341e+12\n",
      "above,  5.19 U1319 3 8.60129933909e+13\n"
     ]
    }
   ],
   "source": [
    "\n",
    "for s in range(0, len(local_sol)):\n",
    "    sol = local_sol[s]\n",
    "    sol_systems = np.unique(real.loc[(real.sol == sol) & \n",
    "                                     (real.element ==  element) & \n",
    "                                     (real.rest_l < min_rest) & \n",
    "                                     (real.z > zbin_bound_s5)].system)\n",
    "    total_N = 0\n",
    "    N = 0\n",
    "    for i in range(0, len(sol_systems)):\n",
    "        local_system = sol_systems[i]\n",
    "        cds = real.loc[(real.sol == sol) & \n",
    "                       (real.element ==  element) & \n",
    "                       (real.system == local_system) &\n",
    "                       (real.rest_l > min_rest)].c_d\n",
    "\n",
    "        comp = max(real.loc[(real.sol == sol) & \n",
    "                            (real.element ==  element) & \n",
    "                            (real.system == local_system) &\n",
    "                            (real.rest_l < min_rest)].s5)\n",
    "\n",
    "        if comp >= 0.50:\n",
    "            total_N = total_N + sum(pow(10, cds))\n",
    "            N = N + 1\n",
    "    print('above, ', zbin_bound_s5, sol, N, total_N)\n"
   ]
  },
  {
   "cell_type": "markdown",
   "metadata": {},
   "source": [
    "below,  5.19 S0927 1 1.61101654274e+13\n",
    "\n",
    "below,  5.19 S1306 0 0\n",
    "\n",
    "below,  5.19 U0148 1 5.65587757089e+12\n",
    "\n",
    "below,  5.19 U1319 0 0\n",
    "\n",
    "above,  5.19 S0927 0 0\n",
    "\n",
    "above,  5.19 S1306 0 0\n",
    "\n",
    "above,  5.19 U0148 2 9.46055534341e+12\n",
    "\n",
    "above,  5.19 U1319 3 8.60129933909e+13"
   ]
  },
  {
   "cell_type": "code",
   "execution_count": 8,
   "metadata": {},
   "outputs": [
    {
     "name": "stdout",
     "output_type": "stream",
     "text": [
      "4.245102454222781 0.0 4.245102454222781 2.060364641082442 0.433694236264 2.1225512271113907\n"
     ]
    }
   ],
   "source": [
    "# real number is discovered number*Ascalar\n",
    "# Ascalar = Fbar/(cbar -lbar*abar)\n",
    "# fbar = n'/c'bar-l'bar*a'bar\n",
    "# below 5.19\n",
    "nart_z1      = 0.0\n",
    "cbarart_z1   = 0.735887\n",
    "lbarart_z1   = 0.912672\n",
    "abarart_z1   = 0.0791211\n",
    "nart_true_z1 = nart_z1/(cbarart_z1 - lbarart_z1*abarart_z1)\n",
    "\n",
    "n_z1      = 2.0\n",
    "cbar_z1   =  0.522968\n",
    "lbar_z1   = 0.980826\n",
    "abar_z1   = 0.0528502\n",
    "n_true_z1 = n_z1/(cbar_z1 - lbar_z1*abar_z1)\n",
    "\n",
    "fbar = 1.0 - nart_z1/n_z1\n",
    "ascalar = fbar/(cbar_z1 - lbar_z1*abar_z1)\n",
    "true_n_z1 = n_z1*ascalar\n",
    "true_n_z1_error = pow(true_n_z1, 0.5)\n",
    "\n",
    "print(n_true_z1, nart_true_z1, true_n_z1, true_n_z1_error, dz1, ascalar)"
   ]
  },
  {
   "cell_type": "code",
   "execution_count": 11,
   "metadata": {},
   "outputs": [
    {
     "name": "stdout",
     "output_type": "stream",
     "text": [
      "7.4743635497013745 1.5067607130742597 5.9794908397611 2.445299744358777 3.13 1.19589816795222\n"
     ]
    }
   ],
   "source": [
    "# real number is discovered number*Ascalar\n",
    "# Ascalar = Fbar/(cbar -lbar*abar)\n",
    "# fbar = n'/c'bar-l'bar*a'bar\n",
    "# above 5.19\n",
    "nart_z1      = 1.0\n",
    "cbarart_z1   = 0.735887\n",
    "lbarart_z1   = 0.912672\n",
    "abarart_z1   = 0.0791211\n",
    "nart_true_z1 = nart_z1/(cbarart_z1 - lbarart_z1*abarart_z1)\n",
    "\n",
    "n_z1      = 5.0\n",
    "cbar_z1   =  0.735887\n",
    "lbar_z1   = 0.912672\n",
    "abar_z1   =  0.0733382\n",
    "n_true_z1 = n_z1/(cbar_z1 - lbar_z1*abar_z1)\n",
    "\n",
    "fbar = 1.0 - nart_z1/n_z1\n",
    "ascalar = fbar/(cbar_z1 - lbar_z1*abar_z1)\n",
    "true_n_z1 = n_z1*ascalar\n",
    "true_n_z1_error = pow(true_n_z1, 0.5)\n",
    "print(n_true_z1, nart_true_z1, true_n_z1, true_n_z1_error, dz2, ascalar)"
   ]
  },
  {
   "cell_type": "code",
   "execution_count": 14,
   "metadata": {},
   "outputs": [
    {
     "data": {
      "text/plain": [
       "0.16958244401395148"
      ]
     },
     "execution_count": 14,
     "metadata": {},
     "output_type": "execute_result"
    }
   ],
   "source": [
    "2.445299744358777/14.4195335701"
   ]
  },
  {
   "cell_type": "code",
   "execution_count": 15,
   "metadata": {},
   "outputs": [
    {
     "data": {
      "text/plain": [
       "0.7812459247152643"
      ]
     },
     "execution_count": 15,
     "metadata": {},
     "output_type": "execute_result"
    }
   ],
   "source": [
    "2.445299744358777/3.13"
   ]
  },
  {
   "cell_type": "code",
   "execution_count": null,
   "metadata": {
    "collapsed": true
   },
   "outputs": [],
   "source": []
  },
  {
   "cell_type": "code",
   "execution_count": null,
   "metadata": {
    "collapsed": true
   },
   "outputs": [],
   "source": []
  },
  {
   "cell_type": "code",
   "execution_count": null,
   "metadata": {
    "collapsed": true
   },
   "outputs": [],
   "source": []
  },
  {
   "cell_type": "code",
   "execution_count": null,
   "metadata": {
    "collapsed": true
   },
   "outputs": [],
   "source": []
  },
  {
   "cell_type": "code",
   "execution_count": null,
   "metadata": {
    "collapsed": true
   },
   "outputs": [],
   "source": []
  }
 ],
 "metadata": {
  "anaconda-cloud": {},
  "kernelspec": {
   "display_name": "Python [Root]",
   "language": "python",
   "name": "Python [Root]"
  }
 },
 "nbformat": 4,
 "nbformat_minor": 2
}
