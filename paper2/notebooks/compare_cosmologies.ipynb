{
 "cells": [
  {
   "cell_type": "code",
   "execution_count": 10,
   "metadata": {
    "collapsed": true
   },
   "outputs": [],
   "source": [
    "import pandas as pd\n",
    "import numpy as np\n",
    "import matplotlib.pyplot as plt\n",
    "%matplotlib inline  \n",
    "import emcee\n",
    "import math\n",
    "import matplotlib\n",
    "\n"
   ]
  },
  {
   "cell_type": "code",
   "execution_count": 11,
   "metadata": {
    "collapsed": true
   },
   "outputs": [],
   "source": [
    "light = 299792.458\n",
    "omega_M = 0.308\n",
    "omega_L = 1.0 - omega_M\n",
    "H0 = 67.8\n",
    "\n",
    "d14_omega_M = 0.26\n",
    "d14_omega_L = 1.0 - omega_M\n",
    "d14_H0 = 70.0\n",
    "\n"
   ]
  },
  {
   "cell_type": "code",
   "execution_count": 12,
   "metadata": {},
   "outputs": [
    {
     "name": "stdout",
     "output_type": "stream",
     "text": [
      "0 4.106738789112262 4.465101532453858 0.9879369301280384\n",
      "1 4.197082596081636 4.565031395847043 0.9883055047265199\n"
     ]
    }
   ],
   "source": [
    "# adjust D14 omega values\n",
    "# table 3\n",
    "# column density range: 13.4 <= log(N) <= 15\n",
    "\n",
    "zmin = [4.35, 5.30]\n",
    "zmax = [5.30, 6.20]\n",
    "H0_scalar = H0/d14_H0\n",
    "for z in range(0, len(zmin)):\n",
    "    Xmax = (2./3./omega_M)*pow((omega_M*pow((1. + zmax[z]), 3.) + omega_L), 0.5)\n",
    "    Xmin = (2./3./omega_M)*pow((omega_M*pow((1. + zmin[z]), 3.) + omega_L), 0.5)\n",
    "    dx = (Xmax - Xmin)\n",
    "    #print(dx, Xmax, Xmin)\n",
    "    # calculate D14 path\n",
    "    d14Xmax = (2./3./d14_omega_M)*pow((d14_omega_M*pow((1. + zmax[z]), 3.) + d14_omega_L), 0.5)\n",
    "    d14Xmin = (2./3./d14_omega_M)*pow((d14_omega_M*pow((1. + zmin[z]), 3.) + d14_omega_L), 0.5)\n",
    "    d14dx = (d14Xmax - d14Xmin)\n",
    "    #print(d14dx, d14Xmax, d14Xmin)\n",
    "\n",
    "\n",
    "    print(z, dx, d14dx, H0_scalar**3*d14dx/dx )"
   ]
  },
  {
   "cell_type": "code",
   "execution_count": 14,
   "metadata": {},
   "outputs": [
    {
     "name": "stdout",
     "output_type": "stream",
     "text": [
      "0 1.5727317058508374 1.7020734821595038 0.9833737814016648\n",
      "1 1.7081030664965322 1.85208824723893 0.985241201220799\n",
      "2 1.8303387790015222 1.98690911668616 0.9863736975302944\n",
      "3 1.9429788094015183 2.1107267722799694 0.987094918479093\n"
     ]
    }
   ],
   "source": [
    "# adjust D10 omega values\n",
    "zmin=[2, 2.5, 3.0, 3.5]\n",
    "zmax=[2.5, 3.0, 3.5, 4.0]\n",
    "H0_scalar = H0/d14_H0\n",
    "for z in range(0, len(zmin)):\n",
    "    Xmax = (2./3./omega_M)*pow((omega_M*pow((1. + zmax[z]), 3.) + omega_L), 0.5)\n",
    "    Xmin = (2./3./omega_M)*pow((omega_M*pow((1. + zmin[z]), 3.) + omega_L), 0.5)\n",
    "    dx = (Xmax - Xmin)\n",
    "    #print(dx, Xmax, Xmin)\n",
    "    # calculate D14 path\n",
    "    d14Xmax = (2./3./d14_omega_M)*pow((d14_omega_M*pow((1. + zmax[z]), 3.) + d14_omega_L), 0.5)\n",
    "    d14Xmin = (2./3./d14_omega_M)*pow((d14_omega_M*pow((1. + zmin[z]), 3.) + d14_omega_L), 0.5)\n",
    "    d14dx = (d14Xmax - d14Xmin)\n",
    "    #print(d14dx, d14Xmax, d14Xmin)\n",
    "\n",
    "\n",
    "    print(z, dx, d14dx, H0_scalar**3*d14dx/dx )"
   ]
  },
  {
   "cell_type": "code",
   "execution_count": 16,
   "metadata": {},
   "outputs": [
    {
     "name": "stdout",
     "output_type": "stream",
     "text": [
      "0 1.3417344515937017 1.3580750869455729 0.8451792058741548\n",
      "1 2.6690384294644174 2.7027109778395824 0.8455443094236037\n",
      "2 2.788251415396303 2.8241899817172254 0.8457725174955721\n",
      "3 3.2436571795878653 3.2859064425281126 0.8458860028128725\n"
     ]
    }
   ],
   "source": [
    "# adjust B14 omega values\n",
    "zmin=[1.75, 2.2, 3.0, 3.75]\n",
    "zmax=[2.2, 3.0, 3.75, 4.55]\n",
    "H0_scalar = H0/b14_H0\n",
    "b14_omega_M = 0.30\n",
    "b14_omega_L = 1.0 - omega_M\n",
    "b14_H0 = 72.0\n",
    "for z in range(0, len(zmin)):\n",
    "    Xmax = (2./3./omega_M)*pow((omega_M*pow((1. + zmax[z]), 3.) + omega_L), 0.5)\n",
    "    Xmin = (2./3./omega_M)*pow((omega_M*pow((1. + zmin[z]), 3.) + omega_L), 0.5)\n",
    "    dx = (Xmax - Xmin)\n",
    "    #print(dx, Xmax, Xmin)\n",
    "    # calculate D14 path\n",
    "    b14Xmax = (2./3./b14_omega_M)*pow((b14_omega_M*pow((1. + zmax[z]), 3.) + b14_omega_L), 0.5)\n",
    "    b14Xmin = (2./3./b14_omega_M)*pow((b14_omega_M*pow((1. + zmin[z]), 3.) + b14_omega_L), 0.5)\n",
    "    b14dx = (b14Xmax - b14Xmin)\n",
    "    #print(d14dx, d14Xmax, d14Xmin)\n",
    "\n",
    "\n",
    "    print(z, dx, b14dx, H0_scalar**3*b14dx/dx )"
   ]
  },
  {
   "cell_type": "code",
   "execution_count": null,
   "metadata": {
    "collapsed": true
   },
   "outputs": [],
   "source": []
  }
 ],
 "metadata": {
  "anaconda-cloud": {},
  "kernelspec": {
   "display_name": "Python [Root]",
   "language": "python",
   "name": "Python [Root]"
  },
  "language_info": {
   "codemirror_mode": {
    "name": "ipython",
    "version": 3
   },
   "file_extension": ".py",
   "mimetype": "text/x-python",
   "name": "python",
   "nbconvert_exporter": "python",
   "pygments_lexer": "ipython3",
   "version": "3.5.2"
  }
 },
 "nbformat": 4,
 "nbformat_minor": 2
}
