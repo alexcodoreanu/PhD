{
 "cells": [
  {
   "cell_type": "code",
   "execution_count": 1,
   "metadata": {
    "collapsed": true
   },
   "outputs": [],
   "source": [
    "import pandas as pd\n",
    "import numpy as np\n",
    "import matplotlib.pyplot as plt\n",
    "import matplotlib.mlab as mlab\n",
    "%matplotlib inline  \n",
    "import emcee\n",
    "import math\n",
    "import matplotlib\n",
    "from pylab import *\n",
    "hfont = {'fontname':'Times New roman'}\n",
    "\n",
    "\n",
    "mpl.rcParams['legend.numpoints'] = 1\n",
    "\n",
    "\n",
    "\n",
    "\n",
    "plot_path = '/Users/acodoreanu/Desktop/final_files/correct_precision/paper2/plots/'\n",
    "plot_path = '/Users/alex/Desktop/final_files/correct_precision/paper2/plots/'"
   ]
  },
  {
   "cell_type": "markdown",
   "metadata": {},
   "source": [
    " Discovered N\n",
    " \n",
    " - 3s --  4.34  5.20  6.13  37.0  35    9.0  8\n",
    " - 5s --  4.34  5.19  6.13  37.0  31    9.0  7"
   ]
  },
  {
   "cell_type": "code",
   "execution_count": 2,
   "metadata": {},
   "outputs": [
    {
     "data": {
      "image/png": "[encoded data removed]",
      "text/plain": [
       "<matplotlib.figure.Figure at 0x112ae8a58>"
      ]
     },
     "metadata": {},
     "output_type": "display_data"
    }
   ],
   "source": [
    "\n",
    "plt.xticks([4.5, 5 , 5.5, 6], **hfont, fontsize = 18)\n",
    "\n",
    "\n",
    "ylabels = ['10', '20', '30']\n",
    "plt.yticks([10, 20, 30], ylabels, **hfont, fontsize = 18)\n",
    "\n",
    "\n",
    "plt.grid(True)\n",
    "\n",
    "\n",
    "plt.ylim([0.0,40] )\n",
    "plt.xlim([4.1,6.4])\n",
    "\n",
    "plt.text(6.1, 36, \"5$\\sigma$\", **hfont,  fontsize=22, color = 'r')\n",
    "plt.text(6.1, 32, \"3$\\sigma$\", **hfont,  fontsize=22, color = 'b')\n",
    "\n",
    "plt.xlabel('Redshift', **hfont,  fontsize=24)\n",
    "plt.ylabel('Number', **hfont,  fontsize=24)\n",
    "plt.title(' CIV ', **hfont,  fontsize=24)\n",
    "\n",
    "zbin3s = np.array([4.34, 5.22, 6.13])\n",
    "zbin5s = np.array([4.34, 5.19, 6.13])\n",
    "\n",
    "z3s = [4.84, 5.59]\n",
    "z5s = [4.82, 5.53]\n",
    "\n",
    "N = [35, 8]\n",
    "N3 = [33, 7]\n",
    "N5 = [32, 5]\n",
    "\n",
    "\n",
    "plt.plot([zbin3s[0],zbin3s[0]], [0, N[0]], 'k-', lw=1.0)\n",
    "plt.plot([zbin3s[1],zbin3s[1]], [0, N[0]], 'k-', lw=1.0)\n",
    "plt.plot([zbin3s[0],zbin3s[1]], [N[0], N[0]], 'k-', lw=1.0)\n",
    "\n",
    "plt.plot([zbin3s[1],zbin3s[1]], [0, N[1]], 'k-', lw=1.0)\n",
    "plt.plot([zbin3s[2],zbin3s[2]], [0, N[1]], 'k-', lw=1.0)\n",
    "plt.plot([zbin3s[1],zbin3s[2]], [N[1], N[1]], 'k-', lw=1.0)\n",
    "\n",
    "\n",
    "# plot the completeness selected histogram bands\n",
    "plt.fill_between([zbin3s[0],zbin3s[1] ], \n",
    "                 [0, 0], \n",
    "                 [N5[0], N5[0]], \n",
    "                 color = 'r', alpha = 0.3)\n",
    "\n",
    "plt.fill_between([zbin3s[1],zbin3s[2] ], \n",
    "                 [0, 0], \n",
    "                 [N5[1], N5[1]], \n",
    "                 color = 'r', alpha = 0.3)\n",
    "\n",
    "plt.fill_between([zbin3s[0],zbin3s[1] ], \n",
    "                 [0, 0], \n",
    "                 [N3[0], N3[0]], \n",
    "                 color = 'b', alpha = 0.3)\n",
    "\n",
    "plt.fill_between([zbin3s[1],zbin3s[2] ], \n",
    "                 [0, 0], \n",
    "                 [N3[1], N3[1]], \n",
    "                 color = 'b', alpha = 0.3)\n",
    "\n",
    "plot_name = plot_path + 'c4histo.png'\n",
    "plt.savefig(plot_name, bbox_inches='tight', figsize=[12,9], dpi=500)\n",
    "\n",
    "\n",
    "\n"
   ]
  },
  {
   "cell_type": "code",
   "execution_count": null,
   "metadata": {
    "collapsed": true
   },
   "outputs": [],
   "source": []
  },
  {
   "cell_type": "code",
   "execution_count": 3,
   "metadata": {},
   "outputs": [
    {
     "data": {
      "image/png": "[encoded data removed]",
      "text/plain": [
       "<matplotlib.figure.Figure at 0x112b01be0>"
      ]
     },
     "metadata": {},
     "output_type": "display_data"
    }
   ],
   "source": [
    "\n",
    "plt.xticks([4.5, 5 , 5.5, 6], **hfont, fontsize = 18)\n",
    "\n",
    "\n",
    "ylabels = ['2', '5']\n",
    "plt.yticks([2, 5], ylabels, **hfont, fontsize = 18)\n",
    "\n",
    "\n",
    "plt.grid(True)\n",
    "\n",
    "\n",
    "plt.ylim([0.0, 7] )\n",
    "plt.xlim([4.1,6.4])\n",
    "\n",
    "plt.text(4.2, 6, \"5$\\sigma$\", **hfont,  fontsize=22, color = 'r')\n",
    "plt.text(4.2, 5.3, \"3$\\sigma$\", **hfont,  fontsize=22, color = 'b')\n",
    "\n",
    "plt.xlabel('Redshift', **hfont,  fontsize=24)\n",
    "plt.ylabel('Number', **hfont,  fontsize=24)\n",
    "plt.title(' SiIV ', **hfont,  fontsize=24)\n",
    "\n",
    "zbin3s = np.array([4.92, 5.22, 6.13])\n",
    "zbin5s = np.array([4.92, 5.19, 6.13])\n",
    "\n",
    "z3s = [5.13, 5.58]\n",
    "z5s = [5.11, 5.56]\n",
    "\n",
    "N = [2, 5]\n",
    "N3 = [2, 5]\n",
    "N5 = [2, 5]\n",
    "\n",
    "\n",
    "# plot the discovered numbers as black lines\n",
    "plt.plot([zbin5s[0],zbin5s[0]], [0, N[0]], 'k-', lw=1.0)\n",
    "plt.plot([zbin5s[1],zbin5s[1]], [0, N[0]], 'k-', lw=1.0)\n",
    "plt.plot([zbin5s[0],zbin5s[1]], [N[0], N[0]], 'k-', lw=1.0)\n",
    "\n",
    "plt.plot([zbin5s[1],zbin5s[1]], [0, N[1]], 'k-', lw=1.0)\n",
    "plt.plot([zbin3s[2],zbin3s[2]], [0, N[1]], 'k-', lw=1.0)\n",
    "plt.plot([zbin5s[1],zbin3s[2]], [N[1], N[1]], 'k-', lw=1.0)\n",
    "\n",
    "\n",
    "# plot the completeness selected histogram bands\n",
    "plt.fill_between([zbin5s[0],zbin5s[1] ], \n",
    "                 [0, 0], \n",
    "                 [N5[0], N5[0]], \n",
    "                 color = 'r', alpha = 0.3)\n",
    "\n",
    "plt.fill_between([zbin5s[1],zbin5s[2] ], \n",
    "                 [0, 0], \n",
    "                 [N5[1], N5[1]], \n",
    "                 color = 'r', alpha = 0.3)\n",
    "\n",
    "plt.fill_between([zbin5s[0],zbin5s[1] ], \n",
    "                 [0, 0], \n",
    "                 [N3[0], N3[0]], \n",
    "                 color = 'b', alpha = 0.3)\n",
    "\n",
    "plt.fill_between([zbin5s[1],zbin5s[2] ], \n",
    "                 [0, 0], \n",
    "                 [N3[1], N3[1]], \n",
    "                 color = 'b', alpha = 0.3)\n",
    "\n",
    "\n",
    "\n",
    "plot_name = plot_path + 'si4histo.png'\n",
    "plt.savefig(plot_name, bbox_inches='tight', figsize=[12,9], dpi=500)\n",
    "\n",
    "\n",
    "\n",
    "\n"
   ]
  },
  {
   "cell_type": "code",
   "execution_count": null,
   "metadata": {
    "collapsed": true
   },
   "outputs": [],
   "source": []
  },
  {
   "cell_type": "code",
   "execution_count": null,
   "metadata": {
    "collapsed": true
   },
   "outputs": [],
   "source": []
  },
  {
   "cell_type": "code",
   "execution_count": 5,
   "metadata": {},
   "outputs": [
    {
     "data": {
      "image/png": "[encoded data removed]",
      "text/plain": [
       "<matplotlib.figure.Figure at 0x116d08320>"
      ]
     },
     "metadata": {},
     "output_type": "display_data"
    }
   ],
   "source": [
    "\n",
    "plt.xticks([4.5, 5 , 5.5, 6.], **hfont, fontsize = 18)\n",
    "\n",
    "\n",
    "ylabels = ['10', '20', '30']\n",
    "plt.yticks([10, 20, 30], ylabels, **hfont, fontsize = 18)\n",
    "\n",
    "\n",
    "plt.grid(True)\n",
    "\n",
    "plt.xlabel('Redshift', **hfont,  fontsize=24)\n",
    "plt.ylabel('Number', **hfont,  fontsize=24)\n",
    "\n",
    "zbin3s = np.array([4.34, 5.19, 6.13])\n",
    "zbin5s = np.array([4.34, 5.19, 6.13])\n",
    "\n",
    "z3s = [4.84, 5.59]\n",
    "z5s = [4.82, 5.53]\n",
    "\n",
    "N = [35, 8]\n",
    "N3 = [33, 7]\n",
    "N5 = [32, 5]\n",
    "\n",
    "\n",
    "plt.plot([zbin3s[0],zbin3s[0]], [0, N[0]], 'k-', lw=1.0)\n",
    "plt.plot([zbin3s[1],zbin3s[1]], [0, N[0]], 'k-', lw=1.0)\n",
    "plt.plot([zbin3s[0],zbin3s[1]], [N[0], N[0]], 'k-', lw=1.0)\n",
    "\n",
    "plt.plot([zbin3s[1],zbin3s[1]], [0, N[1]], 'k-', lw=1.0)\n",
    "plt.plot([zbin3s[2],zbin3s[2]], [0, N[1]], 'k-', lw=1.0)\n",
    "plt.plot([zbin3s[1],zbin3s[2]], [N[1], N[1]], 'k-', lw=1.0)\n",
    "\n",
    "\n",
    "# plot the completeness selected histogram bands\n",
    "plt.fill_between([zbin3s[0],zbin3s[1] ], \n",
    "                 [0, 0], \n",
    "                 [N5[0], N5[0]], \n",
    "                 color = 'r', alpha = 0.3, label = 'CIV  5$\\sigma$')\n",
    "\n",
    "plt.fill_between([zbin3s[1],zbin3s[2] ], \n",
    "                 [0, 0], \n",
    "                 [N5[1], N5[1]], \n",
    "                 color = 'r', alpha = 0.3)\n",
    "\n",
    "plt.fill_between([zbin3s[0],zbin3s[1] ], \n",
    "                 [0, 0], \n",
    "                 [N3[0], N3[0]], \n",
    "                 color = 'm', alpha = 0.3, label = '         3$\\sigma$')\n",
    "\n",
    "plt.fill_between([zbin3s[1],zbin3s[2] ], \n",
    "                 [0, 0], \n",
    "                 [N3[1], N3[1]], \n",
    "                 color = 'm', alpha = 0.3)\n",
    "\n",
    "\n",
    "################### SiIV #######################\n",
    "zbin3s = np.array([4.92, 5.22, 6.13])\n",
    "zbin5s = np.array([4.92, 5.19, 6.13])\n",
    "\n",
    "z3s = [5.13, 5.58]\n",
    "z5s = [5.11, 5.56]\n",
    "\n",
    "N = [2, 5]\n",
    "N3 = [2, 5]\n",
    "N5 = [2, 5]\n",
    "\n",
    "\n",
    "\n",
    "# plot the discovered numbers as black lines\n",
    "plt.plot([zbin5s[0],zbin5s[0]], [0, N[0]], 'k-', lw=1.0)\n",
    "plt.plot([zbin5s[1],zbin5s[1]], [0, N[0]], 'k-', lw=1.0)\n",
    "plt.plot([zbin5s[0],zbin5s[1]], [N[0], N[0]], 'k-', lw=1.0)\n",
    "\n",
    "plt.plot([zbin5s[1],zbin5s[1]], [0, N[1]], 'k-', lw=1.0)\n",
    "plt.plot([zbin3s[2],zbin3s[2]], [0, N[1]], 'k-', lw=1.0)\n",
    "plt.plot([zbin5s[1],zbin3s[2]], [N[1], N[1]], 'k-', lw=1.0)\n",
    "\n",
    "\n",
    "# plot the completeness selected histogram bands\n",
    "plt.fill_between([zbin5s[0],zbin5s[1] ], \n",
    "                 [0, 0], \n",
    "                 [N5[0], N5[0]], \n",
    "                 color = 'b', alpha = 0.3, label = 'SiIV 5$\\sigma$')\n",
    "\n",
    "plt.fill_between([zbin5s[1],zbin5s[2] ], \n",
    "                 [0, 0], \n",
    "                 [N5[1], N5[1]], \n",
    "                 color = 'b', alpha = 0.3)\n",
    "\n",
    "plt.fill_between([zbin5s[0],zbin5s[1] ], \n",
    "                 [0, 0], \n",
    "                 [N3[0], N3[0]], \n",
    "                 color = 'g', alpha = 0.3, label = '         3$\\sigma$')\n",
    "\n",
    "plt.fill_between([zbin5s[1],zbin5s[2] ], \n",
    "                 [0, 0], \n",
    "                 [N3[1], N3[1]], \n",
    "                 color = 'g', alpha = 0.3)\n",
    "\n",
    "\n",
    "plt.rc('legend',**{'fontsize':15})\n",
    "plt.rc('font',family='Times New Roman')\n",
    "plt.legend(bbox_to_anchor=(0.98, 0.98), loc=1, borderaxespad=0.1, shadow=True)\n",
    "\n",
    "\n",
    "plt.ylim([0.0,39] )\n",
    "plt.xlim([4.25,6.2])\n",
    "\n",
    "\n",
    "\n",
    "\n",
    "\n",
    "plot_name = plot_path + 'discoveryhisto.png'\n",
    "plt.savefig(plot_name, bbox_inches='tight', figsize=[12,9], dpi=500)\n",
    "\n",
    "\n",
    "\n",
    "\n"
   ]
  },
  {
   "cell_type": "code",
   "execution_count": 7,
   "metadata": {},
   "outputs": [
    {
     "data": {
      "text/plain": [
       "444288.0"
      ]
     },
     "execution_count": 7,
     "metadata": {},
     "output_type": "execute_result"
    }
   ],
   "source": [
    "356.*13.*6.*1.6/0.1"
   ]
  },
  {
   "cell_type": "code",
   "execution_count": 9,
   "metadata": {},
   "outputs": [
    {
     "data": {
      "text/plain": [
       "1078200.0"
      ]
     },
     "execution_count": 9,
     "metadata": {},
     "output_type": "execute_result"
    }
   ],
   "source": [
    "599*15*6*2/0.1"
   ]
  },
  {
   "cell_type": "code",
   "execution_count": null,
   "metadata": {
    "collapsed": true
   },
   "outputs": [],
   "source": []
  },
  {
   "cell_type": "code",
   "execution_count": null,
   "metadata": {
    "collapsed": true
   },
   "outputs": [],
   "source": []
  },
  {
   "cell_type": "code",
   "execution_count": null,
   "metadata": {
    "collapsed": true
   },
   "outputs": [],
   "source": []
  },
  {
   "cell_type": "code",
   "execution_count": null,
   "metadata": {
    "collapsed": true
   },
   "outputs": [],
   "source": []
  },
  {
   "cell_type": "code",
   "execution_count": null,
   "metadata": {
    "collapsed": true
   },
   "outputs": [],
   "source": []
  },
  {
   "cell_type": "code",
   "execution_count": null,
   "metadata": {
    "collapsed": true
   },
   "outputs": [],
   "source": []
  },
  {
   "cell_type": "code",
   "execution_count": null,
   "metadata": {
    "collapsed": true
   },
   "outputs": [],
   "source": []
  },
  {
   "cell_type": "code",
   "execution_count": null,
   "metadata": {
    "collapsed": true
   },
   "outputs": [],
   "source": []
  },
  {
   "cell_type": "code",
   "execution_count": null,
   "metadata": {
    "collapsed": true
   },
   "outputs": [],
   "source": []
  },
  {
   "cell_type": "code",
   "execution_count": null,
   "metadata": {
    "collapsed": true
   },
   "outputs": [],
   "source": []
  }
 ],
 "metadata": {
  "anaconda-cloud": {},
  "kernelspec": {
   "display_name": "Python [Root]",
   "language": "python",
   "name": "Python [Root]"
  },
  "language_info": {
   "codemirror_mode": {
    "name": "ipython",
    "version": 3
   },
   "file_extension": ".py",
   "mimetype": "text/x-python",
   "name": "python",
   "nbconvert_exporter": "python",
   "pygments_lexer": "ipython3",
   "version": "3.5.2"
  }
 },
 "nbformat": 4,
 "nbformat_minor": 1
}
