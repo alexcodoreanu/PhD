{
 "cells": [
  {
   "cell_type": "code",
   "execution_count": 4,
   "metadata": {
    "collapsed": true
   },
   "outputs": [],
   "source": [
    "import pandas as pd\n",
    "import numpy as np\n",
    "import matplotlib.pyplot as plt\n",
    "import matplotlib.mlab as mlab\n",
    "%matplotlib inline  \n",
    "import emcee\n",
    "import math\n",
    "import matplotlib\n",
    "import scipy.optimize as op\n",
    "\n",
    "hfont = {'fontname':'Times New roman'}"
   ]
  },
  {
   "cell_type": "code",
   "execution_count": null,
   "metadata": {
    "collapsed": true
   },
   "outputs": [],
   "source": []
  },
  {
   "cell_type": "code",
   "execution_count": 7,
   "metadata": {},
   "outputs": [
    {
     "name": "stdout",
     "output_type": "stream",
     "text": [
      "5.304347826086956 0.21117391304347824\n",
      "3.1222222222222222 0.22194444444444444\n"
     ]
    },
    {
     "data": {
      "image/png": "[encoded data removed]",
      "text/plain": [
       "<matplotlib.figure.Figure at 0x11980c7b8>"
      ]
     },
     "metadata": {},
     "output_type": "display_data"
    }
   ],
   "source": [
    "# plot the data\n",
    "# x, y labels and title\n",
    "plt.ylabel('Fraction', **hfont,  fontsize=25)\n",
    "plt.xlabel('SNR', **hfont,  fontsize=25)\n",
    "# plt.title('User failure', **hfont,  fontsize=25)\n",
    "\n",
    "# x and y ranges and scale\n",
    "plt.xlim([0.0, 12])\n",
    "plt.ylim([0.0, 0.35])\n",
    "\n",
    "# x and y ticks\n",
    "xlabels = ['0', '2', '4', '6', '8', '10']\n",
    "plt.xticks([0, 2, 4, 6, 8, 10], \n",
    "            xlabels, **hfont, fontsize = 20)\n",
    "ylabels = ['0.05', '0.1', '0.15', '0.20', '0.25', '0.30']\n",
    "plt.yticks([0.05, 0.1, 0.15, 0.2, 0.25, 0.3], \n",
    "            ylabels, **hfont, fontsize = 20)\n",
    "\n",
    "plt.grid(True)\n",
    "\n",
    "z = 1.96\n",
    "\n",
    "min_sn = np.array([0.00000, 1.0, 2.0, 3.0, 4.0, 5.0, 6.0, 8.0, 10.0])\n",
    "max_sn = np.array([1.00, 2.00, 3.00, 4.00, 5.00, 6.00, 8.00, 10.0, 12.0])\n",
    "mid_sn = 0.5*(max_sn - min_sn) + min_sn\n",
    "value = np.array([0.0394737, 0.0569565, 0.0785714,  0.108911,  0.184211,  0.245614,  0.135135, 0.0888889, 0.0500000])\n",
    "\n",
    "n = np.array([228, 184, 140, 101,  76,  57,  74,  45,  20])\n",
    "ns = value*n\n",
    "nf = n - ns\n",
    "error = z*pow(ns*nf/n, 0.5)/100.0\n",
    "error[np.where(error < 0.001)] = 0.001\n",
    "upper_bound = value + error\n",
    "lower_bound = value - error\n",
    "upper_bound[np.where(upper_bound > 1.0)] = 1.0\n",
    "common_x = (0.365 + 0.001)/(0.029 + 0.04)\n",
    "print(common_x, 0.04*common_x - 0.001)\n",
    "x = np.array([0, 0.5, 1.5, 2.5, common_x])\n",
    "best_fit = 0.04*x - 0.001\n",
    "plt.plot(x, best_fit, 'k--', lw = 3, alpha = 1)\n",
    "x = np.array([common_x, 5.5, 7.0, 9.0, 14.2])\n",
    "best_fit = -0.029*x + 0.365\n",
    "plt.plot(x, best_fit, 'k--', lw = 3, alpha = 1)\n",
    "\n",
    "\n",
    "# plot the vertical error bounds    \n",
    "for i in range(0, len(min_sn)):\n",
    "    plt.plot([mid_sn[i], mid_sn[i]], [upper_bound[i], lower_bound[i]], 'k-', lw=1.0)\n",
    "# plot the horizontal bounds    \n",
    "for i in range(0, len(min_sn)):\n",
    "    plt.plot([min_sn[i], max_sn[i]], [value[i], value[i]], 'k-', lw=1.0)\n",
    "# plot the results\n",
    "plt.plot(mid_sn, value, 'kd', markersize=12, alpha=1.0)  \n",
    "plt.plot(mid_sn, value, 'bd', markersize=10, alpha=1.0)   \n",
    "\n",
    "\n",
    "min_sn = np.array([0.00, 1.00, 2.00, 3.00, 4.00, 5.00, 6.00, 8.00, 10.0])\n",
    "max_sn = np.array([1.00, 2.00, 3.00, 4.00, 5.00, 6.00, 8.00, 10.0, 12.0])\n",
    "mid_sn = 0.5*(max_sn - min_sn) + min_sn\n",
    "value = np.array([0.054687, 0.109134, 0.181319, 0.248062, 0.192718, 0.150930, 0.118750, 0.062424, 0.029535])\n",
    "\n",
    "n = np.array([384, 277, 182, 129, 103,  86,  96,  66,  43])\n",
    "ns = value*n\n",
    "nf = n - ns\n",
    "error = z*pow(ns*nf/n, 0.5)/100.0\n",
    "error[np.where(error == 0)] = 0.0278\n",
    "upper_bound = value + error\n",
    "lower_bound = value - error\n",
    "upper_bound[np.where(upper_bound > 1.0)] = 1.0\n",
    "common_x = (0.3 - 0.019)/(0.065 + 0.025)\n",
    "print(common_x, 0.065*common_x + 0.019)\n",
    "\n",
    "\n",
    "# above : best_fit = 0.065*x + 0.019\n",
    "x = np.array([0, 0.5, 1.5, 2.5, common_x])\n",
    "best_fit = 0.065*x + 0.019\n",
    "plt.plot(x, best_fit, 'k-', lw = 2, alpha = 1)\n",
    "\n",
    "# below : best_fit = -0.025*x + 0.3\n",
    "x = np.array([common_x, 5.5, 7.0, 9.0, 14.2])\n",
    "best_fit = -0.025*x + 0.3\n",
    "plt.plot(x, best_fit, 'k-', lw = 2, alpha = 1)\n",
    "\n",
    "\n",
    "# plot the vertical error bounds    \n",
    "for i in range(0, len(min_sn)):\n",
    "    plt.plot([mid_sn[i], mid_sn[i]], [upper_bound[i], lower_bound[i]], 'k-', lw=1.0)\n",
    "\n",
    "# plot the horizontal bounds    \n",
    "for i in range(0, len(min_sn)):\n",
    "    plt.plot([min_sn[i], max_sn[i]], [value[i], value[i]], 'k-', lw=1.0)\n",
    "\n",
    "    \n",
    "# plot the results\n",
    "plt.plot(mid_sn, value, 'kd', markersize=12, alpha=1.0)  \n",
    "plt.plot(mid_sn, value, 'rd', markersize=10, alpha=1.0)   \n",
    "\n",
    "txt = plt.text(9.5, 0.27, \"CIV\", **hfont,  fontsize=22)\n",
    "plt.plot([9, 9], [0.28, 0.28], 'kd', markersize=12, alpha=1.0)  \n",
    "plt.plot([9, 9], [0.28, 0.28], 'rd', markersize=10, alpha=1.0)   \n",
    "\n",
    "txt = plt.text(9.5, 0.23, \"CIV'\", **hfont,  fontsize=22)\n",
    "plt.plot([9, 9], [0.24, 0.24], 'kd', markersize=12, alpha=1.0)  \n",
    "plt.plot([9, 9], [0.24, 0.24], 'bd', markersize=10, alpha=1.0)   \n",
    "\n",
    "\n",
    "txt = plt.text(7.5, 0.31, \"User failure\", **hfont,  fontsize=25)\n",
    "\n",
    "\n",
    "\n",
    "\n",
    "\n",
    "\n",
    "\n",
    "plt.savefig('c4_user_failure.png', bbox_inches='tight', figsize=[24,12], dpi=500)"
   ]
  },
  {
   "cell_type": "code",
   "execution_count": null,
   "metadata": {
    "collapsed": true
   },
   "outputs": [],
   "source": []
  },
  {
   "cell_type": "code",
   "execution_count": null,
   "metadata": {
    "collapsed": true
   },
   "outputs": [],
   "source": []
  },
  {
   "cell_type": "code",
   "execution_count": null,
   "metadata": {
    "collapsed": true
   },
   "outputs": [],
   "source": []
  },
  {
   "cell_type": "code",
   "execution_count": null,
   "metadata": {
    "collapsed": true
   },
   "outputs": [],
   "source": []
  },
  {
   "cell_type": "code",
   "execution_count": null,
   "metadata": {
    "collapsed": true
   },
   "outputs": [],
   "source": []
  }
 ],
 "metadata": {
  "anaconda-cloud": {},
  "kernelspec": {
   "display_name": "Python [Root]",
   "language": "python",
   "name": "Python [Root]"
  },
  "language_info": {
   "codemirror_mode": {
    "name": "ipython",
    "version": 3
   },
   "file_extension": ".py",
   "mimetype": "text/x-python",
   "name": "python",
   "nbconvert_exporter": "python",
   "pygments_lexer": "ipython3",
   "version": "3.5.2"
  }
 },
 "nbformat": 4,
 "nbformat_minor": 2
}
