{
 "cells": [
  {
   "cell_type": "code",
   "execution_count": 1,
   "metadata": {
    "collapsed": true
   },
   "outputs": [],
   "source": [
    "import pandas as pd\n",
    "import numpy as np\n",
    "import matplotlib.pyplot as plt\n",
    "import matplotlib.mlab as mlab\n",
    "%matplotlib inline  \n",
    "import emcee\n",
    "import math\n",
    "import matplotlib\n",
    "\n",
    "hfont = {'fontname':'Times New roman'}\n",
    "\n"
   ]
  },
  {
   "cell_type": "code",
   "execution_count": 2,
   "metadata": {
    "collapsed": true
   },
   "outputs": [],
   "source": [
    "local_sol = ['S0927', 'S1306', 'U0148', 'U1319']\n",
    "real = pd.read_csv('/Users/alex/Desktop/final_files/correct_precision/paper2/all_components_file_with_completeness_sep11.csv')\n",
    "\n",
    "element = 'CIV'\n",
    "min_rest = 1550.0\n",
    "\n",
    "\n",
    "c4_systems = real.loc[(real.element ==  element) & \n",
    "                      (real.rest_l < min_rest) &\n",
    "                      (real.s5 >= 0.50)]\n",
    "c4_systems = c4_systems.set_index([list(range(len(c4_systems.c_d)))])\n",
    "\n",
    "# c4 norm, path and a norm parameters\n",
    "c4_norm = 0.77*pow(10, -22)\n",
    "\n",
    "dx_z1 =  12.368045564\n",
    "dx_z2 =  14.4195335701\n",
    "\n",
    "a_z1 = 1.4713318177972192\n",
    "a_z2 = 2.291532761137389\n",
    "\n",
    "zmin = [4.35, 5.19]\n",
    "zmax = [5.19, 6.13]\n",
    "\n"
   ]
  },
  {
   "cell_type": "code",
   "execution_count": 29,
   "metadata": {},
   "outputs": [
    {
     "name": "stderr",
     "output_type": "stream",
     "text": [
      "/Users/alex/anaconda3/lib/python3.5/site-packages/ipykernel/__main__.py:18: DeprecationWarning: This function is deprecated. Please call randint(0, 55 + 1) instead\n",
      "/Users/alex/anaconda3/lib/python3.5/site-packages/ipykernel/__main__.py:19: DeprecationWarning: This function is deprecated. Please call randint(0, 3 + 1) instead\n"
     ]
    },
    {
     "name": "stdout",
     "output_type": "stream",
     "text": [
      "1.14185135657e-08 3.32360994015e-08\n"
     ]
    },
    {
     "data": {
      "image/png": "[encoded data removed]",
      "text/plain": [
       "<matplotlib.figure.Figure at 0x1033f37f0>"
      ]
     },
     "metadata": {},
     "output_type": "display_data"
    }
   ],
   "source": [
    "# bootstrap zbin1_c4\n",
    "local_total_N_s5 = np.zeros(50000)\n",
    "\n",
    "z = 0\n",
    "local_c4_systems = c4_systems.loc[(c4_systems.z >= zmin[z]) & (c4_systems.z < zmax[z])]\n",
    "\n",
    "local_c4_systems_cd   = np.array(local_c4_systems.c_d)\n",
    "local_c4_systems_low  = np.array(local_c4_systems.cd_low)\n",
    "local_c4_systems_high = np.array(local_c4_systems.cd_high)\n",
    "\n",
    "\n",
    "\n",
    "len5 = len(local_c4_systems.z)\n",
    "temp_systems = np.zeros(len5)\n",
    "\n",
    "for i in range(0, len(local_total_N_s5)):\n",
    "    for x in range(0, len5):\n",
    "        random_index = np.random.random_integers(0, len5-1)\n",
    "        choice = np.random.random_integers(0, 3)\n",
    "\n",
    "        if choice < 1: \n",
    "            temp_systems[x]= local_c4_systems_cd[random_index]\n",
    "        if (choice >0) & (choice<2): \n",
    "            temp_systems[x] = local_c4_systems_low[random_index]\n",
    "        if choice >1: \n",
    "            temp_systems[x] = local_c4_systems_high[random_index]\n",
    "    local_total_N_s5[i] = sum((pow(10.0, temp_systems)))   \n",
    "\n",
    "\n",
    "# plot and get the omega histogram values\n",
    "local_omega_s5 = local_total_N_s5*a_z1*c4_norm/dx_z1\n",
    "n, bins, patches = plt.hist(local_omega_s5, 50, normed=1, facecolor='blue', alpha=0.75)\n",
    "print(min(local_omega_s5), max(local_omega_s5))"
   ]
  },
  {
   "cell_type": "code",
   "execution_count": 30,
   "metadata": {},
   "outputs": [
    {
     "name": "stdout",
     "output_type": "stream",
     "text": [
      "omega value:  1.72389472744e-08\n",
      "66% boundary is:  1.62183824495e-08 2.23273064836e-08\n"
     ]
    },
    {
     "data": {
      "image/png": "[encoded data removed]",
      "text/plain": [
       "<matplotlib.figure.Figure at 0x1154b1908>"
      ]
     },
     "metadata": {},
     "output_type": "display_data"
    }
   ],
   "source": [
    "# create pdf and get 66% interval\n",
    "pdf = np.zeros(len(bins))\n",
    "for b in range(0, len(bins) - 1):\n",
    "    local_index = np.where((local_omega_s5 >= bins[b]) & (local_omega_s5 < bins[b+1]))\n",
    "    pdf[b] = len(local_omega_s5[local_index])\n",
    "    \n",
    "total_pdf = sum(pdf)\n",
    "for p in range(0, len(pdf) - 1):\n",
    "    pdf[p] = pdf[p]/total_pdf\n",
    "\n",
    "# plot and check the pdf\n",
    "plt.plot(bins, pdf)\n",
    "\n",
    "# get the where the maximum value is located at  \n",
    "# and dereference the np.where call into an array\n",
    "max_index = np.where(pdf == max(pdf))\n",
    "index_array = np.array(list(range(len(pdf))))\n",
    "a = np.array(index_array[max_index])\n",
    "\n",
    "# use a do while loop to calculate the 66% boundary interval\n",
    "step = 1.0\n",
    "boundary = sum(pdf[a])\n",
    "while boundary <= 0.66:\n",
    "    boundary = boundary + pdf[np.int(a[0]-step)]  + pdf[np.int(a[0]+step)] \n",
    "    step = step + 1\n",
    "\n",
    "\n",
    "omega_value = sum(pow(10.0, local_c4_systems.c_d))*a_z1*c4_norm/dx_z1\n",
    "\n",
    "plt.plot([bins[np.int(a[0]-step)], bins[np.int(a[0]-step)]], \n",
    "         [0, max(pdf)], 'r--')\n",
    "plt.plot([bins[np.int(a[0]+step)], bins[np.int(a[0]+step)]], \n",
    "         [0, max(pdf)], 'r--')\n",
    "plt.plot([omega_value, omega_value], \n",
    "         [0, max(pdf)], 'k-')\n",
    "\n",
    "#plot labels\n",
    "plt.ylabel('$\\%$', **hfont,  fontsize=24)\n",
    "plt.xlabel('$\\Omega_{CIV}$ (x$10^8)$', **hfont,  fontsize=24)\n",
    "plt.title('P.D.F.',  **hfont,  fontsize=24)\n",
    "plt.text(0.95*10.0**(-8), 0.096, '4.33 < z < 5.19', **hfont,  fontsize=18)\n",
    "plt.text(0.95*10.0**(-8), 0.088, '$\\Omega_{CIV}$ = 1.72 x 10$^{-8}$', **hfont,  fontsize=18)\n",
    "plt.text(0.95*10.0**(-8), 0.08, '66$\\%$ = [1.66 x 10$^{-8}$, 2.21 x 10$^{-8}$]', **hfont,  fontsize=18)\n",
    "\n",
    "\n",
    "print('omega value: ', omega_value)\n",
    "print('66% boundary is: ', bins[np.int(a[0]-step)], bins[np.int(a[0]+step)])\n",
    "\n",
    "\n",
    "plt.savefig('c4_z1_bootstrap.png', bbox_inches='tight', figsize=[12,9], dpi=500)\n"
   ]
  },
  {
   "cell_type": "code",
   "execution_count": 31,
   "metadata": {
    "scrolled": true
   },
   "outputs": [
    {
     "name": "stderr",
     "output_type": "stream",
     "text": [
      "/Users/alex/anaconda3/lib/python3.5/site-packages/ipykernel/__main__.py:18: DeprecationWarning: This function is deprecated. Please call randint(0, 6 + 1) instead\n",
      "/Users/alex/anaconda3/lib/python3.5/site-packages/ipykernel/__main__.py:19: DeprecationWarning: This function is deprecated. Please call randint(0, 3 + 1) instead\n"
     ]
    },
    {
     "name": "stdout",
     "output_type": "stream",
     "text": [
      "1.14939308305e-09 1.06654245546e-08\n"
     ]
    },
    {
     "data": {
      "image/png": "[encoded data removed]",
      "text/plain": [
       "<matplotlib.figure.Figure at 0x1198582b0>"
      ]
     },
     "metadata": {},
     "output_type": "display_data"
    }
   ],
   "source": [
    "# bootstrap zbin2_c4\n",
    "local_total_N_s5 = np.zeros(50000)\n",
    "\n",
    "z = 1\n",
    "local_c4_systems = c4_systems.loc[(c4_systems.z >= zmin[z]) & (c4_systems.z < zmax[z])]\n",
    "local_c4_systems = local_c4_systems.set_index([list(range(len(local_c4_systems.c_d)))])\n",
    "\n",
    "local_c4_systems_cd   = np.array(local_c4_systems.c_d)\n",
    "local_c4_systems_low  = np.array(local_c4_systems.cd_low)\n",
    "local_c4_systems_high = np.array(local_c4_systems.cd_high)\n",
    "\n",
    "\n",
    "len5 = len(local_c4_systems.z)\n",
    "temp_systems = np.zeros(len5)\n",
    "\n",
    "for i in range(0, len(local_total_N_s5)):\n",
    "    for x in range(0, len5):\n",
    "        random_index = np.random.random_integers(0, len5-1)\n",
    "        choice = np.random.random_integers(0, 3)\n",
    "\n",
    "        if choice < 1: \n",
    "            temp_systems[x]= local_c4_systems_cd[random_index]\n",
    "        if (choice >0) & (choice<2): \n",
    "            temp_systems[x] = local_c4_systems_low[random_index]\n",
    "        if choice >1: \n",
    "            temp_systems[x] = local_c4_systems_high[random_index]\n",
    "    local_total_N_s5[i] = sum((pow(10.0, temp_systems)))   \n",
    "\n",
    "\n",
    "local_omega_s5 = local_total_N_s5*a_z2*c4_norm/dx_z2\n",
    "# the histogram\n",
    "n, bins, patches = plt.hist(local_omega_s5, 50, normed=1, facecolor='blue', alpha=0.75)\n",
    "\n",
    "print(min(local_omega_s5), max(local_omega_s5))\n",
    "\n",
    "\n"
   ]
  },
  {
   "cell_type": "code",
   "execution_count": 32,
   "metadata": {},
   "outputs": [
    {
     "name": "stdout",
     "output_type": "stream",
     "text": [
      "omega value:  3.45360003035e-09\n",
      "66% boundary is:  2.29131685964e-09 4.95580567169e-09\n"
     ]
    },
    {
     "data": {
      "image/png": "[encoded data removed]",
      "text/plain": [
       "<matplotlib.figure.Figure at 0x1173ae898>"
      ]
     },
     "metadata": {},
     "output_type": "display_data"
    }
   ],
   "source": [
    "# create pdf and get 66% interval\n",
    "pdf = np.zeros(len(bins))\n",
    "for b in range(0, len(bins) - 1):\n",
    "    local_index = np.where((local_omega_s5 >= bins[b]) & (local_omega_s5 < bins[b+1]))\n",
    "    pdf[b] = len(local_omega_s5[local_index])\n",
    "    \n",
    "total_pdf = sum(pdf)\n",
    "for p in range(0, len(pdf) - 1):\n",
    "    pdf[p] = pdf[p]/total_pdf\n",
    "\n",
    "# plot and check the pdf\n",
    "plt.plot(bins, pdf)\n",
    "\n",
    "# get the where the maximum value is located at  \n",
    "# and dereference the np.where call into an array\n",
    "max_index = np.where(pdf == max(pdf))\n",
    "index_array = np.array(list(range(len(pdf))))\n",
    "a = np.array(index_array[max_index])\n",
    "\n",
    "# use a do while loop to calculate the 66% boundary interval\n",
    "step = 1.0\n",
    "boundary = sum(pdf[a])\n",
    "while boundary <= 0.66:\n",
    "    boundary = boundary + pdf[np.int(a[0]-step)]  + pdf[np.int(a[0]+step)] \n",
    "    step = step + 1\n",
    "\n",
    "omega_value = sum(pow(10.0, local_c4_systems.c_d))*a_z2*c4_norm/dx_z2\n",
    "    \n",
    "plt.plot([bins[np.int(a[0]-step)], bins[np.int(a[0]-step)]], \n",
    "         [0, max(pdf)], 'r--')\n",
    "plt.plot([bins[np.int(a[0]+step)], bins[np.int(a[0]+step)]], \n",
    "         [0, max(pdf)], 'r--')\n",
    "plt.plot([omega_value, omega_value], \n",
    "         [0, max(pdf)], 'k-')\n",
    "#plot labels\n",
    "plt.ylabel('$\\%$', **hfont,  fontsize=24)\n",
    "plt.xlabel('$\\Omega_{CIV}$ (x$10^8)$', **hfont,  fontsize=24)\n",
    "plt.title('P.D.F.',  **hfont,  fontsize=24)\n",
    "plt.text(0.512*10.0**(-9), 0.096, '5.19 < z < 6.13', **hfont,  fontsize=18)\n",
    "plt.text(0.512*10.0**(-9), 0.088, '$\\Omega_{CIV}$ = 1.32 x 10$^{-9}$', **hfont,  fontsize=18)\n",
    "plt.text(0.512*10.0**(-9), 0.08, '66$\\%$ = [2.29 x 10$^{-9}$, 1.75 x 10$^{-9}$]', **hfont,  fontsize=18)\n",
    "\n",
    "plt.savefig('c4_z2_bootstrap.png', bbox_inches='tight', figsize=[12,9], dpi=500)\n",
    "\n",
    "print('omega value: ', omega_value)\n",
    "print('66% boundary is: ', bins[np.int(a[0]-step)], bins[np.int(a[0]+step)])"
   ]
  },
  {
   "cell_type": "markdown",
   "metadata": {},
   "source": [
    "# SiIV omega bootstrap"
   ]
  },
  {
   "cell_type": "code",
   "execution_count": 3,
   "metadata": {
    "collapsed": true
   },
   "outputs": [],
   "source": [
    "element = 'SiIV'\n",
    "min_rest = 1395.0\n",
    "\n",
    "si4_systems = real.loc[(real.element ==  element) & \n",
    "                      (real.rest_l < min_rest) &\n",
    "                      (real.s5 >= 0.50)]\n",
    "si4_systems = si4_systems.set_index([list(range(len(si4_systems.c_d)))])\n",
    "\n",
    "# si4 norm, path and a norm parameters\n",
    "si4_norm = 0.77*pow(10, -22)*28.0855/12.0107 \n",
    "\n",
    "dx_z1 =  1.91803671035\n",
    "dx_z2 = 14.4195335701\n",
    "\n",
    "a_z1 = 2.1225512271113907\n",
    "a_z2 = 1.19589816795222\n",
    "\n",
    "zmin = [4.93, 5.19]\n",
    "zmax = [5.19, 6.13]"
   ]
  },
  {
   "cell_type": "code",
   "execution_count": 4,
   "metadata": {},
   "outputs": [
    {
     "name": "stderr",
     "output_type": "stream",
     "text": [
      "/Users/alex/anaconda3/lib/python3.5/site-packages/ipykernel/__main__.py:18: DeprecationWarning: This function is deprecated. Please call randint(0, 1 + 1) instead\n",
      "/Users/alex/anaconda3/lib/python3.5/site-packages/ipykernel/__main__.py:19: DeprecationWarning: This function is deprecated. Please call randint(0, 3 + 1) instead\n"
     ]
    },
    {
     "name": "stdout",
     "output_type": "stream",
     "text": [
      "omega value:  4.33695897448e-09\n",
      "1.37637199304e-09 7.89834003557e-09\n"
     ]
    },
    {
     "data": {
      "image/png": "[encoded data removed]",
      "text/plain": [
       "<matplotlib.figure.Figure at 0x1048d3e10>"
      ]
     },
     "metadata": {},
     "output_type": "display_data"
    }
   ],
   "source": [
    "# bootstrap zbin1_si5\n",
    "local_total_N_s5 = np.zeros(10000)\n",
    "\n",
    "z = 0\n",
    "local_si4_systems = si4_systems.loc[(si4_systems.z >= zmin[z]) & (si4_systems.z < zmax[z])]\n",
    "local_si4_systems = local_si4_systems.set_index([list(range(len(local_si4_systems.c_d)))])\n",
    "\n",
    "local_si4_systems_cd   = np.array(local_si4_systems.c_d)\n",
    "local_si4_systems_low  = np.array(local_si4_systems.cd_low)\n",
    "local_si4_systems_high = np.array(local_si4_systems.cd_high)\n",
    "\n",
    "\n",
    "len5 = len(local_si4_systems.z)\n",
    "temp_systems = np.zeros(len5)\n",
    "\n",
    "for i in range(0, len(local_total_N_s5)):\n",
    "    for x in range(0, len5):\n",
    "        random_index = np.random.random_integers(0, len5-1)\n",
    "        choice = np.random.random_integers(0, 3)\n",
    "\n",
    "        if choice < 1: \n",
    "            temp_systems[x]= local_si4_systems_cd[random_index]\n",
    "        if (choice >0) & (choice<2): \n",
    "            temp_systems[x] = local_si4_systems_low[random_index]\n",
    "        if choice >1: \n",
    "            temp_systems[x] = local_si4_systems_high[random_index]\n",
    "    local_total_N_s5[i] = sum((pow(10.0, temp_systems)))   \n",
    "\n",
    "\n",
    "\n",
    "# plot and get the omega histogram values\n",
    "local_omega_s5 = local_total_N_s5*a_z1*si4_norm/dx_z1\n",
    "n, bins, patches = plt.hist(local_omega_s5, 50, normed=1, facecolor='blue', alpha=0.75)\n",
    "omega_value = sum(pow(10.0, local_si4_systems.c_d))*a_z1*si4_norm/dx_z1\n",
    "print('omega value: ', omega_value)\n",
    "\n",
    "print(min(local_omega_s5), max(local_omega_s5))"
   ]
  },
  {
   "cell_type": "code",
   "execution_count": 5,
   "metadata": {},
   "outputs": [
    {
     "name": "stderr",
     "output_type": "stream",
     "text": [
      "/Users/alex/anaconda3/lib/python3.5/site-packages/ipykernel/__main__.py:19: DeprecationWarning: This function is deprecated. Please call randint(0, 8 + 1) instead\n",
      "/Users/alex/anaconda3/lib/python3.5/site-packages/ipykernel/__main__.py:20: DeprecationWarning: This function is deprecated. Please call randint(0, 3 + 1) instead\n"
     ]
    },
    {
     "name": "stdout",
     "output_type": "stream",
     "text": [
      "omega value:  1.4257081076e-09\n",
      "4.08776821256e-10 4.3708040041e-09\n"
     ]
    },
    {
     "data": {
      "image/png": "[encoded data removed]",
      "text/plain": [
       "<matplotlib.figure.Figure at 0x112b0d748>"
      ]
     },
     "metadata": {},
     "output_type": "display_data"
    }
   ],
   "source": [
    "# bootstrap zbin1_si5\n",
    "local_total_N_s5 = np.zeros(50000)\n",
    "\n",
    "z = 1\n",
    "local_si4_systems = si4_systems.loc[(si4_systems.z >= zmin[z]) & (si4_systems.z < zmax[z])]\n",
    "local_si4_systems = local_si4_systems.set_index([list(range(len(local_si4_systems.c_d)))])\n",
    "\n",
    "\n",
    "local_si4_systems_cd   = np.array(local_si4_systems.c_d)\n",
    "local_si4_systems_low  = np.array(local_si4_systems.cd_low)\n",
    "local_si4_systems_high = np.array(local_si4_systems.cd_high)\n",
    "\n",
    "\n",
    "len5 = len(local_si4_systems.z)\n",
    "temp_systems = np.zeros(len5)\n",
    "\n",
    "for i in range(0, len(local_total_N_s5)):\n",
    "    for x in range(0, len5):\n",
    "        random_index = np.random.random_integers(0, len5-1)\n",
    "        choice = np.random.random_integers(0, 3)\n",
    "\n",
    "        if choice < 1: \n",
    "            temp_systems[x]= local_si4_systems_cd[random_index]\n",
    "        if (choice >0) & (choice<2): \n",
    "            temp_systems[x] = local_si4_systems_low[random_index]\n",
    "        if choice >1: \n",
    "            temp_systems[x] = local_si4_systems_high[random_index]\n",
    "    local_total_N_s5[i] = sum((pow(10.0, temp_systems)))   \n",
    "\n",
    "\n",
    "\n",
    "\n",
    "\n",
    "# plot and get the omega histogram values\n",
    "local_omega_s5 = local_total_N_s5*a_z2*si4_norm/dx_z2\n",
    "n, bins, patches = plt.hist(local_omega_s5, 50, normed=1, facecolor='blue', alpha=0.75)\n",
    "omega_value = sum(pow(10.0, local_si4_systems.c_d))*a_z2*si4_norm/dx_z2\n",
    "print('omega value: ', omega_value)\n",
    "\n",
    "print(min(local_omega_s5), max(local_omega_s5))"
   ]
  },
  {
   "cell_type": "code",
   "execution_count": 8,
   "metadata": {},
   "outputs": [
    {
     "name": "stdout",
     "output_type": "stream",
     "text": [
      "omega value:  1.4257081076e-09\n",
      "66% boundary is:  9.63460626854e-10 2.07282823805e-09\n"
     ]
    },
    {
     "data": {
      "image/png": "[encoded data removed]",
      "text/plain": [
       "<matplotlib.figure.Figure at 0x112b191d0>"
      ]
     },
     "metadata": {},
     "output_type": "display_data"
    }
   ],
   "source": [
    "# create pdf and get 66% interval\n",
    "pdf = np.zeros(len(bins))\n",
    "for b in range(0, len(bins) - 1):\n",
    "    local_index = np.where((local_omega_s5 >= bins[b]) & (local_omega_s5 < bins[b+1]))\n",
    "    pdf[b] = len(local_omega_s5[local_index])\n",
    "    \n",
    "total_pdf = sum(pdf)\n",
    "for p in range(0, len(pdf) - 1):\n",
    "    pdf[p] = pdf[p]/total_pdf\n",
    "\n",
    "# plot and check the pdf\n",
    "plt.plot(bins, pdf)\n",
    "\n",
    "# get the where the maximum value is located at  \n",
    "# and dereference the np.where call into an array\n",
    "max_index = np.where(pdf == max(pdf))\n",
    "index_array = np.array(list(range(len(pdf))))\n",
    "a = np.array(index_array[max_index])\n",
    "\n",
    "# use a do while loop to calculate the 66% boundary interval\n",
    "step = 1.0\n",
    "boundary = sum(pdf[a])\n",
    "while boundary <= 0.66:\n",
    "    boundary = boundary + pdf[np.int(a[0]-step)]  + pdf[np.int(a[0]+step)] \n",
    "    step = step + 1\n",
    "\n",
    "omega_value = sum(pow(10.0, local_si4_systems.c_d))*a_z2*si4_norm/dx_z2\n",
    "    \n",
    "plt.plot([bins[np.int(a[0]-step)], bins[np.int(a[0]-step)]], \n",
    "         [0, max(pdf)], 'r--')\n",
    "plt.plot([bins[np.int(a[0]+step)], bins[np.int(a[0]+step)]], \n",
    "         [0, max(pdf)], 'r--')\n",
    "plt.plot([omega_value, omega_value], \n",
    "         [0, max(pdf)], 'k-')\n",
    "#plot labels\n",
    "plt.ylabel('$\\%$', **hfont,  fontsize=24)\n",
    "plt.xlabel('$\\Omega_{SiIV}$', **hfont,  fontsize=24)\n",
    "plt.title('P.D.F.',  **hfont,  fontsize=24)\n",
    "plt.text(0.52*10.0**(-9), 0.1, '5.19 < z < 6.13', **hfont,  fontsize=18)\n",
    "plt.text(0.52*10.0**(-9), 0.091, '$\\Omega_{SiIV}$ = 1.43 x 10$^{-9}$', **hfont,  fontsize=18)\n",
    "plt.text(0.52*10.0**(-9), 0.083, '66$\\%$ = [9.63 x 10$^{-10}$, 2.07 x 10$^{-9}$]', **hfont,  fontsize=18)\n",
    "\n",
    "plt.savefig('si4_z2_bootstrap.png', bbox_inches='tight', figsize=[12,9], dpi=500)\n",
    "\n",
    "print('omega value: ', omega_value)\n",
    "print('66% boundary is: ', bins[np.int(a[0]-step)], bins[np.int(a[0]+step)])"
   ]
  },
  {
   "cell_type": "code",
   "execution_count": null,
   "metadata": {
    "collapsed": true
   },
   "outputs": [],
   "source": []
  },
  {
   "cell_type": "code",
   "execution_count": null,
   "metadata": {
    "collapsed": true
   },
   "outputs": [],
   "source": []
  },
  {
   "cell_type": "code",
   "execution_count": null,
   "metadata": {
    "collapsed": true
   },
   "outputs": [],
   "source": []
  }
 ],
 "metadata": {
  "anaconda-cloud": {},
  "kernelspec": {
   "display_name": "Python [Root]",
   "language": "python",
   "name": "Python [Root]"
  },
  "language_info": {
   "codemirror_mode": {
    "name": "ipython",
    "version": 3
   },
   "file_extension": ".py",
   "mimetype": "text/x-python",
   "name": "python",
   "nbconvert_exporter": "python",
   "pygments_lexer": "ipython3",
   "version": "3.5.2"
  }
 },
 "nbformat": 4,
 "nbformat_minor": 1
}
