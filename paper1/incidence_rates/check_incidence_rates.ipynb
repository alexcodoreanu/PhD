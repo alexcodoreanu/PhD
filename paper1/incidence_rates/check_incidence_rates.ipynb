{
 "cells": [
  {
   "cell_type": "code",
   "execution_count": 1,
   "metadata": {
    "collapsed": true
   },
   "outputs": [],
   "source": [
    "import pandas as pd\n",
    "import numpy as np\n",
    "import matplotlib.pyplot as plt\n",
    "%matplotlib inline  "
   ]
  },
  {
   "cell_type": "code",
   "execution_count": 2,
   "metadata": {
    "collapsed": true
   },
   "outputs": [],
   "source": [
    "# these are the search redshift and equivalent width boundaries\n",
    "zbin_low = [2.00, 3.00, 4.00, 2.00]\n",
    "zbin_high = [3.00, 4.00, 5.45, 5.45]\n",
    "\n",
    "ewbin_low = [0.0, 0.3, 0.6, 1.0, 0.0, 0.3, 0.0]\n",
    "ewbin_high = [0.3, 0.6, 1.0, 120, 1.0, 1.0, 120]\n"
   ]
  },
  {
   "cell_type": "code",
   "execution_count": 4,
   "metadata": {
    "collapsed": true
   },
   "outputs": [],
   "source": [
    "incidence3 = pd.read_csv('incidence_rates_3_sigma.csv')\n",
    "incidence5 = pd.read_csv('incidence_rates_5_sigma.csv')"
   ]
  },
  {
   "cell_type": "code",
   "execution_count": 5,
   "metadata": {
    "collapsed": false
   },
   "outputs": [
    {
     "data": {
      "text/html": [
       "<div>\n",
       "<table border=\"1\" class=\"dataframe\">\n",
       "  <thead>\n",
       "    <tr style=\"text-align: right;\">\n",
       "      <th></th>\n",
       "      <th>lowz</th>\n",
       "      <th>highz</th>\n",
       "      <th>ewlow</th>\n",
       "      <th>ewhigh</th>\n",
       "      <th>dz</th>\n",
       "      <th>dx</th>\n",
       "      <th>N</th>\n",
       "      <th>Nrec</th>\n",
       "      <th>Ncomp</th>\n",
       "      <th>N_fp</th>\n",
       "      <th>...</th>\n",
       "      <th>Ncomp_fp</th>\n",
       "      <th>fp</th>\n",
       "      <th>fp_rec</th>\n",
       "      <th>fp_comp</th>\n",
       "      <th>dndz</th>\n",
       "      <th>dndz_rec</th>\n",
       "      <th>dndz_comp</th>\n",
       "      <th>dndz_fp</th>\n",
       "      <th>dndz_rec_fp</th>\n",
       "      <th>dndz_comp_fp</th>\n",
       "    </tr>\n",
       "  </thead>\n",
       "  <tbody>\n",
       "    <tr>\n",
       "      <th>0</th>\n",
       "      <td>2</td>\n",
       "      <td>3.0</td>\n",
       "      <td>0.0</td>\n",
       "      <td>0.3</td>\n",
       "      <td>4.0</td>\n",
       "      <td>13.12</td>\n",
       "      <td>5</td>\n",
       "      <td>8.36</td>\n",
       "      <td>10.34</td>\n",
       "      <td>3</td>\n",
       "      <td>...</td>\n",
       "      <td>5.25</td>\n",
       "      <td>0.4</td>\n",
       "      <td>0.41</td>\n",
       "      <td>0.49</td>\n",
       "      <td>1.25</td>\n",
       "      <td>2.09</td>\n",
       "      <td>2.58</td>\n",
       "      <td>0.5</td>\n",
       "      <td>0.85</td>\n",
       "      <td>1.26</td>\n",
       "    </tr>\n",
       "    <tr>\n",
       "      <th>1</th>\n",
       "      <td>3</td>\n",
       "      <td>4.0</td>\n",
       "      <td>0.0</td>\n",
       "      <td>0.3</td>\n",
       "      <td>4.0</td>\n",
       "      <td>15.08</td>\n",
       "      <td>2</td>\n",
       "      <td>4.50</td>\n",
       "      <td>7.67</td>\n",
       "      <td>0</td>\n",
       "      <td>...</td>\n",
       "      <td>0.00</td>\n",
       "      <td>1.0</td>\n",
       "      <td>1.00</td>\n",
       "      <td>1.00</td>\n",
       "      <td>0.50</td>\n",
       "      <td>1.12</td>\n",
       "      <td>1.91</td>\n",
       "      <td>0.5</td>\n",
       "      <td>1.12</td>\n",
       "      <td>1.91</td>\n",
       "    </tr>\n",
       "  </tbody>\n",
       "</table>\n",
       "<p>2 rows × 21 columns</p>\n",
       "</div>"
      ],
      "text/plain": [
       "   lowz  highz  ewlow  ewhigh   dz     dx  N  Nrec  Ncomp  N_fp      ...       \\\n",
       "0     2    3.0    0.0     0.3  4.0  13.12  5  8.36  10.34     3      ...        \n",
       "1     3    4.0    0.0     0.3  4.0  15.08  2  4.50   7.67     0      ...        \n",
       "\n",
       "   Ncomp_fp   fp  fp_rec  fp_comp  dndz  dndz_rec  dndz_comp  dndz_fp  \\\n",
       "0      5.25  0.4    0.41     0.49  1.25      2.09       2.58      0.5   \n",
       "1      0.00  1.0    1.00     1.00  0.50      1.12       1.91      0.5   \n",
       "\n",
       "   dndz_rec_fp  dndz_comp_fp  \n",
       "0         0.85          1.26  \n",
       "1         1.12          1.91  \n",
       "\n",
       "[2 rows x 21 columns]"
      ]
     },
     "execution_count": 5,
     "metadata": {},
     "output_type": "execute_result"
    }
   ],
   "source": [
    "incidence3.loc[0:1]"
   ]
  },
  {
   "cell_type": "code",
   "execution_count": 30,
   "metadata": {
    "collapsed": false
   },
   "outputs": [
    {
     "name": "stdout",
     "output_type": "stream",
     "text": [
      "2.0 3.0    0.0 0.3    1.26 0.6502115960341102\n",
      "3.0 4.0    0.0 0.3    1.91 0.8862404990871396\n",
      "4.0 5.45    0.0 0.3    2.57 0.7146687659935232\n",
      "2.0 5.45    0.0 0.3    1.61 0.4261734902385613\n",
      "2.0 3.0    0.3 0.6    0.95 0.8510360127996741\n",
      "3.0 4.0    0.3 0.6    0.34 0.9908470001860922\n",
      "4.0 5.45    0.3 0.6    0.44 1.0476830396416632\n",
      "2.0 5.45    0.3 0.6    0.58 0.551511769917926\n",
      "4.0 5.45    0.6 1.0    0.0 1.8434916702989297\n",
      "2.0 5.45    0.6 1.0    0.0 1.8260174212316567\n",
      "2.0 3.0    1.0 120    0.27 1.0364775512695459\n",
      "3.0 4.0    1.0 120    0.26 1.8614773807961476\n",
      "4.0 5.45    1.0 120    0.34 1.0854185060764965\n",
      "2.0 5.45    1.0 120    0.3 0.7001485873604271\n",
      "2.0 3.0    0.0 1.0    2.06 0.5222222222222221\n",
      "3.0 4.0    0.0 1.0    1.55 0.6929771939280165\n",
      "4.0 5.45    0.0 1.0    1.43 0.6042548857412314\n",
      "2.0 5.45    0.0 1.0    1.7 0.3429537935240146\n",
      "2.0 3.0    0.3 1.0    0.95 0.8510360127996741\n",
      "3.0 4.0    0.3 1.0    0.34 0.9908470001860922\n",
      "4.0 5.45    0.3 1.0    0.44 0.9097957667721552\n",
      "2.0 5.45    0.3 1.0    0.58 0.5281649069210489\n",
      "2.0 3.0    0.0 120    2.26 0.46897523628270804\n",
      "3.0 4.0    0.0 120    1.73 0.6549290334341206\n",
      "4.0 5.45    0.0 120    1.6 0.5328109891892275\n",
      "2.0 5.45    0.0 120    1.88 0.31066954351027487\n"
     ]
    }
   ],
   "source": [
    "a = incidence3\n",
    "for e in range(0, len(ewbin_low)):\n",
    "    ewlow = ewbin_low[e]\n",
    "    ewhigh = ewbin_high[e]\n",
    "\n",
    "    for z in range(0, len(zbin_low)):\n",
    "        lowz = zbin_low[z]\n",
    "        highz = zbin_high[z]\n",
    "        \n",
    "        local_a = a.loc[(a.lowz   == lowz ) & \n",
    "                        (a.highz  == highz ) & \n",
    "                        (a.ewlow  == ewlow ) & \n",
    "                        (a.ewhigh == ewhigh )]        \n",
    "        \n",
    "        if float(local_a.Nrec) > 0.0:\n",
    "            local_dndz = float(local_a.dndz_comp_fp)\n",
    "            local_dndz_err = local_dndx/float(local_a.Nrec**0.5)\n",
    "\n",
    "            print(lowz, highz, '  ',\n",
    "                  ewlow, ewhigh,'  ', local_dndz, local_dndz_err)"
   ]
  },
  {
   "cell_type": "code",
   "execution_count": 31,
   "metadata": {
    "collapsed": false
   },
   "outputs": [
    {
     "name": "stdout",
     "output_type": "stream",
     "text": [
      "2.0 3.0    0.0 0.3    1.26 0.6502115960341102\n",
      "3.0 4.0    0.0 0.3    1.91 0.8862404990871396\n",
      "4.0 5.45    0.0 0.3    2.57 0.7146687659935232\n",
      "2.0 5.45    0.0 0.3    1.61 0.4261734902385613\n",
      "2.0 3.0    0.3 0.6    0.95 0.8510360127996741\n",
      "3.0 4.0    0.3 0.6    0.34 0.9908470001860922\n",
      "4.0 5.45    0.3 0.6    0.44 1.0476830396416632\n",
      "2.0 5.45    0.3 0.6    0.58 0.551511769917926\n",
      "4.0 5.45    0.6 1.0    0.0 1.8434916702989297\n",
      "2.0 5.45    0.6 1.0    0.0 1.8260174212316567\n",
      "2.0 3.0    1.0 120    0.27 1.0364775512695459\n",
      "3.0 4.0    1.0 120    0.26 1.8614773807961476\n",
      "4.0 5.45    1.0 120    0.34 1.0854185060764965\n",
      "2.0 5.45    1.0 120    0.3 0.7001485873604271\n",
      "2.0 3.0    0.0 1.0    2.06 0.5222222222222221\n",
      "3.0 4.0    0.0 1.0    1.55 0.6929771939280165\n",
      "4.0 5.45    0.0 1.0    1.43 0.6042548857412314\n",
      "2.0 5.45    0.0 1.0    1.7 0.3429537935240146\n",
      "2.0 3.0    0.3 1.0    0.95 0.8510360127996741\n",
      "3.0 4.0    0.3 1.0    0.34 0.9908470001860922\n",
      "4.0 5.45    0.3 1.0    0.44 0.9097957667721552\n",
      "2.0 5.45    0.3 1.0    0.58 0.5281649069210489\n",
      "2.0 3.0    0.0 120    2.26 0.46897523628270804\n",
      "3.0 4.0    0.0 120    1.73 0.6549290334341206\n",
      "4.0 5.45    0.0 120    1.6 0.5328109891892275\n",
      "2.0 5.45    0.0 120    1.88 0.31066954351027487\n"
     ]
    }
   ],
   "source": [
    "a = incidence3\n",
    "for e in range(0, len(ewbin_low)):\n",
    "    ewlow = ewbin_low[e]\n",
    "    ewhigh = ewbin_high[e]\n",
    "\n",
    "    for z in range(0, len(zbin_low)):\n",
    "        lowz = zbin_low[z]\n",
    "        highz = zbin_high[z]\n",
    "        \n",
    "        local_a = a.loc[(a.lowz   == lowz ) & \n",
    "                        (a.highz  == highz ) & \n",
    "                        (a.ewlow  == ewlow ) & \n",
    "                        (a.ewhigh == ewhigh )]        \n",
    "        \n",
    "        if float(local_a.Nrec) > 0.0:\n",
    "            local_dndz = float(local_a.dndz_comp_fp)\n",
    "            local_dndz_err = local_dndx/float(local_a.Nrec**0.5)\n",
    "\n",
    "            print(lowz, highz, '  ',\n",
    "                  ewlow, ewhigh,'  ', local_dndz, local_dndz_err)"
   ]
  },
  {
   "cell_type": "code",
   "execution_count": null,
   "metadata": {
    "collapsed": true
   },
   "outputs": [],
   "source": []
  }
 ],
 "metadata": {
  "kernelspec": {
   "display_name": "Python 3",
   "language": "python",
   "name": "python3"
  },
  "language_info": {
   "codemirror_mode": {
    "name": "ipython",
    "version": 3
   },
   "file_extension": ".py",
   "mimetype": "text/x-python",
   "name": "python",
   "nbconvert_exporter": "python",
   "pygments_lexer": "ipython3",
   "version": "3.6.0"
  }
 },
 "nbformat": 4,
 "nbformat_minor": 2
}
