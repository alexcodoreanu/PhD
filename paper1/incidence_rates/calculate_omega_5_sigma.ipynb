{
 "cells": [
  {
   "cell_type": "code",
   "execution_count": 1,
   "metadata": {
    "collapsed": true
   },
   "outputs": [],
   "source": [
    "import pandas as pd\n",
    "import numpy as np\n",
    "import matplotlib.pyplot as plt\n",
    "%matplotlib inline  "
   ]
  },
  {
   "cell_type": "code",
   "execution_count": 2,
   "metadata": {
    "collapsed": true
   },
   "outputs": [],
   "source": [
    "# these are the search redshift and equivalent width boundaries\n",
    "zbin_low = [2.00, 3.00, 4.00, 2.00]\n",
    "zbin_high = [3.00, 4.00, 5.45, 5.45]\n",
    "\n",
    "ewbin_low = [0.0, 0.3, 0.6, 1.0, 0.0, 0.3, 0.0]\n",
    "ewbin_high = [0.3, 0.6, 1.0, 120, 1.0, 1.0, 120]\n",
    "\n",
    "\n",
    "ewbin_low = [0.0, 0.3, 0.3, 1.0, 0.0, 0.0]\n",
    "ewbin_high = [0.3, 0.6, 1.0, 120, 1.0, 120]\n",
    "\n",
    "zbin_low = [2.00, 3.00, 4.00]\n",
    "zbin_high = [3.00, 4.00, 5.45]\n",
    "\n"
   ]
  },
  {
   "cell_type": "code",
   "execution_count": 3,
   "metadata": {
    "collapsed": true
   },
   "outputs": [],
   "source": [
    "mg2_2796 = 2796.3542699\t\n",
    "light = 299792.458\n",
    "norm_factor = 1.9600132\n",
    "omega_M = 0.308\n",
    "omega_L = 1.0 - omega_M\n",
    "H0 = 67.8/3.08567758e24 # centimeters  \n",
    "little_h = 100./H0\n",
    "ro_crit = 1.89000e-29# units are h^2 g cm^(-3)\n",
    "amu = 1.66053892e-27 # 10^-27; kilograms\n",
    "mass_mg2 = 24.30506# * amu ;* 1.e3 ; grams\n",
    "\n",
    "norm = 4.26*pow(10, -22)\n"
   ]
  },
  {
   "cell_type": "code",
   "execution_count": 4,
   "metadata": {
    "collapsed": true
   },
   "outputs": [],
   "source": [
    "logN = pd.read_csv('logN_statistics.csv')\n",
    "bin_stats = pd.read_csv('sigma5_bin_stats.csv')"
   ]
  },
  {
   "cell_type": "code",
   "execution_count": 5,
   "metadata": {},
   "outputs": [
    {
     "data": {
      "text/html": [
       "<div>\n",
       "<table border=\"1\" class=\"dataframe\">\n",
       "  <thead>\n",
       "    <tr style=\"text-align: right;\">\n",
       "      <th></th>\n",
       "      <th>SOL</th>\n",
       "      <th>zbin_low</th>\n",
       "      <th>zbin_high</th>\n",
       "      <th>ew_bin_low</th>\n",
       "      <th>ew_bin_high</th>\n",
       "      <th>lowN3</th>\n",
       "      <th>N3</th>\n",
       "      <th>highN3</th>\n",
       "      <th>lowN5</th>\n",
       "      <th>N5</th>\n",
       "      <th>highN5</th>\n",
       "    </tr>\n",
       "  </thead>\n",
       "  <tbody>\n",
       "  </tbody>\n",
       "</table>\n",
       "</div>"
      ],
      "text/plain": [
       "Empty DataFrame\n",
       "Columns: [SOL, zbin_low, zbin_high, ew_bin_low, ew_bin_high, lowN3, N3, highN3, lowN5, N5, highN5]\n",
       "Index: []"
      ]
     },
     "execution_count": 5,
     "metadata": {},
     "output_type": "execute_result"
    }
   ],
   "source": [
    "logN[0:0]"
   ]
  },
  {
   "cell_type": "code",
   "execution_count": 6,
   "metadata": {},
   "outputs": [
    {
     "data": {
      "text/html": [
       "<div>\n",
       "<table border=\"1\" class=\"dataframe\">\n",
       "  <thead>\n",
       "    <tr style=\"text-align: right;\">\n",
       "      <th></th>\n",
       "      <th>SOL</th>\n",
       "      <th>zbin_low</th>\n",
       "      <th>zbin_high</th>\n",
       "      <th>ew_bin_low</th>\n",
       "      <th>ew_bin_high</th>\n",
       "      <th>lowN3</th>\n",
       "      <th>N3</th>\n",
       "      <th>highN3</th>\n",
       "      <th>lowN5</th>\n",
       "      <th>N5</th>\n",
       "      <th>highN5</th>\n",
       "    </tr>\n",
       "  </thead>\n",
       "  <tbody>\n",
       "    <tr>\n",
       "      <th>68</th>\n",
       "      <td>S0927</td>\n",
       "      <td>4</td>\n",
       "      <td>5.45</td>\n",
       "      <td>1.0</td>\n",
       "      <td>120.0</td>\n",
       "      <td>0.000000e+00</td>\n",
       "      <td>0.000000e+00</td>\n",
       "      <td>0.000000e+00</td>\n",
       "      <td>0.000000e+00</td>\n",
       "      <td>0.000000e+00</td>\n",
       "      <td>0.000000e+00</td>\n",
       "    </tr>\n",
       "    <tr>\n",
       "      <th>69</th>\n",
       "      <td>U0148</td>\n",
       "      <td>4</td>\n",
       "      <td>5.45</td>\n",
       "      <td>1.0</td>\n",
       "      <td>120.0</td>\n",
       "      <td>2.200000e+14</td>\n",
       "      <td>2.840000e+14</td>\n",
       "      <td>4.510000e+14</td>\n",
       "      <td>2.200000e+14</td>\n",
       "      <td>2.840000e+14</td>\n",
       "      <td>4.510000e+14</td>\n",
       "    </tr>\n",
       "    <tr>\n",
       "      <th>70</th>\n",
       "      <td>S1306</td>\n",
       "      <td>4</td>\n",
       "      <td>5.45</td>\n",
       "      <td>1.0</td>\n",
       "      <td>120.0</td>\n",
       "      <td>9.190000e+15</td>\n",
       "      <td>3.300000e+16</td>\n",
       "      <td>1.860000e+17</td>\n",
       "      <td>9.190000e+15</td>\n",
       "      <td>3.300000e+16</td>\n",
       "      <td>1.860000e+17</td>\n",
       "    </tr>\n",
       "    <tr>\n",
       "      <th>71</th>\n",
       "      <td>U1319</td>\n",
       "      <td>4</td>\n",
       "      <td>5.45</td>\n",
       "      <td>1.0</td>\n",
       "      <td>120.0</td>\n",
       "      <td>0.000000e+00</td>\n",
       "      <td>0.000000e+00</td>\n",
       "      <td>0.000000e+00</td>\n",
       "      <td>0.000000e+00</td>\n",
       "      <td>0.000000e+00</td>\n",
       "      <td>0.000000e+00</td>\n",
       "    </tr>\n",
       "  </tbody>\n",
       "</table>\n",
       "</div>"
      ],
      "text/plain": [
       "      SOL  zbin_low  zbin_high  ew_bin_low  ew_bin_high         lowN3  \\\n",
       "68  S0927         4       5.45         1.0        120.0  0.000000e+00   \n",
       "69  U0148         4       5.45         1.0        120.0  2.200000e+14   \n",
       "70  S1306         4       5.45         1.0        120.0  9.190000e+15   \n",
       "71  U1319         4       5.45         1.0        120.0  0.000000e+00   \n",
       "\n",
       "              N3        highN3         lowN5            N5        highN5  \n",
       "68  0.000000e+00  0.000000e+00  0.000000e+00  0.000000e+00  0.000000e+00  \n",
       "69  2.840000e+14  4.510000e+14  2.200000e+14  2.840000e+14  4.510000e+14  \n",
       "70  3.300000e+16  1.860000e+17  9.190000e+15  3.300000e+16  1.860000e+17  \n",
       "71  0.000000e+00  0.000000e+00  0.000000e+00  0.000000e+00  0.000000e+00  "
      ]
     },
     "execution_count": 6,
     "metadata": {},
     "output_type": "execute_result"
    }
   ],
   "source": [
    "logN.loc[(logN.zbin_low == 4)&\n",
    "         (logN.zbin_high == 5.45) &\n",
    "         (logN.ew_bin_low == 1.0)&\n",
    "         (logN.ew_bin_high == 120)]"
   ]
  },
  {
   "cell_type": "code",
   "execution_count": 26,
   "metadata": {},
   "outputs": [
    {
     "name": "stdout",
     "output_type": "stream",
     "text": [
      "2.0 3.0    0.0 0.3    1.959424503269934e-09 2.3758570039648863e-09 3.341103705575713e-09\n",
      "3.0 4.0    0.0 0.3    nan nan nan\n",
      "4.0 5.45    0.0 0.3    1.4586950525985213e-09 1.9105032547308066e-09 2.4913995146151736e-09\n",
      "2.0 3.0    0.3 0.6    1.2754391385515726e-09 1.6607280449890268e-09 1.9729449174469637e-09\n",
      "3.0 4.0    0.3 0.6    6.269633662178994e-09 1.2690666738001217e-08 1.9745596424217526e-08\n",
      "4.0 5.45    0.3 0.6    2.336444424427874e-09 5.1985888443520194e-09 2.1742562406321722e-08\n",
      "2.0 3.0    0.3 1.0    1.2754391385515726e-09 1.6607280449890268e-09 1.9729449174469637e-09\n",
      "3.0 4.0    0.3 1.0    6.269633662178994e-09 1.2690666738001217e-08 1.9745596424217526e-08\n",
      "4.0 5.45    0.3 1.0    5.365149548509896e-09 1.6697497641845698e-08 2.1120685363583655e-08\n",
      "2.0 3.0    1.0 120    1.3826929625701047e-08 1.726543672945623e-08 4.5696908894781756e-08\n",
      "3.0 4.0    1.0 120    4.920456364455516e-09 6.0305593247290166e-09 4.290397927543529e-08\n",
      "4.0 5.45    1.0 120    1.0833726498639138e-07 3.8319846204113184e-07 2.1466090748116532e-06\n",
      "2.0 3.0    0.0 1.0    3.070434687805412e-09 3.8491252943855146e-09 5.009773247836501e-09\n",
      "3.0 4.0    0.0 1.0    6.269633662178994e-09 1.2690666738001217e-08 1.9745596424217526e-08\n",
      "4.0 5.45    0.0 1.0    9.638039927793793e-09 2.9481506348549757e-08 3.736717538038104e-08\n",
      "2.0 3.0    0.0 120    3.391392534755989e-08 4.239171223925886e-08 1.083917831916729e-07\n",
      "3.0 4.0    0.0 120    1.0664138449724045e-08 1.9304464309896173e-08 4.9733743784079905e-08\n",
      "4.0 5.45    0.0 120    1.7562859382323285e-07 6.184612822321356e-07 3.3609945547282294e-06\n"
     ]
    }
   ],
   "source": [
    "#\n",
    "#    5 sigma\n",
    "#\n",
    "#\n",
    "for e in range(0, len(ewbin_low)):\n",
    "    ewlow = ewbin_low[e]\n",
    "    ewhigh = ewbin_high[e]\n",
    "\n",
    "    for z in range(0, len(zbin_low)):\n",
    "        lowz = zbin_low[z]\n",
    "        highz = zbin_high[z]\n",
    "        \n",
    "        Xmax = 2.*((omega_M*((1. + highz)**3.) + omega_L)**0.5)/3./omega_M\n",
    "        Xmin = 2.*((omega_M*((1. + lowz)**3.) + omega_L)**0.5)/3./omega_M\n",
    "        dxbin_size = Xmax - Xmin\n",
    "        dxbin_size = np.floor(dxbin_size*10000.0)/10000.0*4\n",
    "        \n",
    "        \n",
    "        # get real subset\n",
    "        local_logN = logN.loc[(logN.zbin_low    == lowz ) & \n",
    "                              (logN.zbin_high   == highz ) & \n",
    "                              (logN.ew_bin_low  == ewlow ) & \n",
    "                              (logN.ew_bin_high == ewhigh )]\n",
    "        # get bin stats\n",
    "        local_stats = bin_stats.loc[(bin_stats.zbin_low    == lowz ) & \n",
    "                                    (bin_stats.zbin_high   == highz ) & \n",
    "                                    (bin_stats.ew_bin_low  == ewlow ) & \n",
    "                                    (bin_stats.ew_bin_high == ewhigh )]\n",
    "       \n",
    "        local_comp = local_stats.N/local_stats.Ncomp\n",
    "        local_fp = local_stats.fp_com\n",
    "        \n",
    "        totalN_low = sum(local_logN.lowN5)\n",
    "        totalN = sum(local_logN.N5)\n",
    "        totalN_high = sum(local_logN.highN5)\n",
    "        \n",
    "        omega_low  = norm*local_fp/local_comp/dxbin_size*totalN_low\n",
    "        omega      = norm*local_fp/local_comp/dxbin_size*totalN \n",
    "        omega_high = norm*local_fp/local_comp/dxbin_size*totalN_high\n",
    "        \n",
    "   \n",
    "        print(lowz, highz, '  ',\n",
    "              ewlow, ewhigh,'  ',\n",
    "              float(omega_low), float(omega), float(omega_high))\n",
    "    \n",
    "       # print(lowz, highz, '  ',\n",
    "       #       ewlow, ewhigh,'  ',\n",
    "       #       float(np.floor(local_fp/local_comp*100)/100))#, float(omega))"
   ]
  },
  {
   "cell_type": "code",
   "execution_count": 31,
   "metadata": {},
   "outputs": [
    {
     "name": "stdout",
     "output_type": "stream",
     "text": [
      "4.0 5.45    0.0 0.3    1.4586950525985213e-09 1.9105032547308066e-09 2.4913995146151736e-09\n"
     ]
    }
   ],
   "source": [
    "z = 2\n",
    "e = 0\n",
    "ewlow = ewbin_low[e]\n",
    "ewhigh = ewbin_high[e]\n",
    "lowz = zbin_low[z]\n",
    "highz = zbin_high[z]\n",
    "Xmax = 2.*((omega_M*((1. + highz)**3.) + omega_L)**0.5)/3./omega_M\n",
    "Xmin = 2.*((omega_M*((1. + lowz)**3.) + omega_L)**0.5)/3./omega_M\n",
    "dxbin_size = Xmax - Xmin\n",
    "dxbin_size = np.floor(dxbin_size*10000.0)/10000.0*4\n",
    "\n",
    "\n",
    "# get real subset\n",
    "local_logN = logN.loc[(logN.zbin_low    == lowz ) & \n",
    "                      (logN.zbin_high   == highz ) & \n",
    "                      (logN.ew_bin_low  == ewlow ) & \n",
    "                      (logN.ew_bin_high == ewhigh )]\n",
    "# get bin stats\n",
    "local_stats = bin_stats.loc[(bin_stats.zbin_low    == lowz ) & \n",
    "                            (bin_stats.zbin_high   == highz ) & \n",
    "                            (bin_stats.ew_bin_low  == ewlow ) & \n",
    "                            (bin_stats.ew_bin_high == ewhigh )]\n",
    "local_comp = local_stats.N/local_stats.Ncomp\n",
    "local_fp = local_stats.fp_com\n",
    "totalN_low = sum(local_logN.lowN5)\n",
    "totalN = sum(local_logN.N5)\n",
    "totalN_high = sum(local_logN.highN5)\n",
    "omega_low  = norm*local_fp/local_comp/dxbin_size*totalN_low\n",
    "omega      = norm*local_fp/local_comp/dxbin_size*totalN \n",
    "omega_high = norm*local_fp/local_comp/dxbin_size*totalN_high\n",
    "print(lowz, highz, '  ',\n",
    "      ewlow, ewhigh,'  ',\n",
    "      float(omega_low), float(omega), float(omega_high))"
   ]
  },
  {
   "cell_type": "code",
   "execution_count": 32,
   "metadata": {},
   "outputs": [
    {
     "data": {
      "text/html": [
       "<div>\n",
       "<table border=\"1\" class=\"dataframe\">\n",
       "  <thead>\n",
       "    <tr style=\"text-align: right;\">\n",
       "      <th></th>\n",
       "      <th>SOL</th>\n",
       "      <th>zbin_low</th>\n",
       "      <th>zbin_high</th>\n",
       "      <th>ew_bin_low</th>\n",
       "      <th>ew_bin_high</th>\n",
       "      <th>lowN3</th>\n",
       "      <th>N3</th>\n",
       "      <th>highN3</th>\n",
       "      <th>lowN5</th>\n",
       "      <th>N5</th>\n",
       "      <th>highN5</th>\n",
       "    </tr>\n",
       "  </thead>\n",
       "  <tbody>\n",
       "    <tr>\n",
       "      <th>56</th>\n",
       "      <td>S0927</td>\n",
       "      <td>4</td>\n",
       "      <td>5.45</td>\n",
       "      <td>0.0</td>\n",
       "      <td>0.3</td>\n",
       "      <td>2.630000e+12</td>\n",
       "      <td>3.740000e+12</td>\n",
       "      <td>4.860000e+12</td>\n",
       "      <td>0.000000e+00</td>\n",
       "      <td>0.000000e+00</td>\n",
       "      <td>0.000000e+00</td>\n",
       "    </tr>\n",
       "    <tr>\n",
       "      <th>57</th>\n",
       "      <td>U0148</td>\n",
       "      <td>4</td>\n",
       "      <td>5.45</td>\n",
       "      <td>0.0</td>\n",
       "      <td>0.3</td>\n",
       "      <td>0.000000e+00</td>\n",
       "      <td>0.000000e+00</td>\n",
       "      <td>0.000000e+00</td>\n",
       "      <td>0.000000e+00</td>\n",
       "      <td>0.000000e+00</td>\n",
       "      <td>0.000000e+00</td>\n",
       "    </tr>\n",
       "    <tr>\n",
       "      <th>58</th>\n",
       "      <td>S1306</td>\n",
       "      <td>4</td>\n",
       "      <td>5.45</td>\n",
       "      <td>0.0</td>\n",
       "      <td>0.3</td>\n",
       "      <td>0.000000e+00</td>\n",
       "      <td>0.000000e+00</td>\n",
       "      <td>0.000000e+00</td>\n",
       "      <td>0.000000e+00</td>\n",
       "      <td>0.000000e+00</td>\n",
       "      <td>0.000000e+00</td>\n",
       "    </tr>\n",
       "    <tr>\n",
       "      <th>59</th>\n",
       "      <td>U1319</td>\n",
       "      <td>4</td>\n",
       "      <td>5.45</td>\n",
       "      <td>0.0</td>\n",
       "      <td>0.3</td>\n",
       "      <td>1.130000e+13</td>\n",
       "      <td>1.480000e+13</td>\n",
       "      <td>1.930000e+13</td>\n",
       "      <td>1.130000e+13</td>\n",
       "      <td>1.480000e+13</td>\n",
       "      <td>1.930000e+13</td>\n",
       "    </tr>\n",
       "  </tbody>\n",
       "</table>\n",
       "</div>"
      ],
      "text/plain": [
       "      SOL  zbin_low  zbin_high  ew_bin_low  ew_bin_high         lowN3  \\\n",
       "56  S0927         4       5.45         0.0          0.3  2.630000e+12   \n",
       "57  U0148         4       5.45         0.0          0.3  0.000000e+00   \n",
       "58  S1306         4       5.45         0.0          0.3  0.000000e+00   \n",
       "59  U1319         4       5.45         0.0          0.3  1.130000e+13   \n",
       "\n",
       "              N3        highN3         lowN5            N5        highN5  \n",
       "56  3.740000e+12  4.860000e+12  0.000000e+00  0.000000e+00  0.000000e+00  \n",
       "57  0.000000e+00  0.000000e+00  0.000000e+00  0.000000e+00  0.000000e+00  \n",
       "58  0.000000e+00  0.000000e+00  0.000000e+00  0.000000e+00  0.000000e+00  \n",
       "59  1.480000e+13  1.930000e+13  1.130000e+13  1.480000e+13  1.930000e+13  "
      ]
     },
     "execution_count": 32,
     "metadata": {},
     "output_type": "execute_result"
    }
   ],
   "source": [
    "local_logN"
   ]
  },
  {
   "cell_type": "code",
   "execution_count": 33,
   "metadata": {},
   "outputs": [
    {
     "data": {
      "text/plain": [
       "(4.26e-22, 2    7.526258\n",
       " dtype: float64, 14800000000000.0, 24.837199999999999)"
      ]
     },
     "execution_count": 33,
     "metadata": {},
     "output_type": "execute_result"
    }
   ],
   "source": [
    "norm, local_fp/local_comp, totalN, dxbin_size"
   ]
  },
  {
   "cell_type": "code",
   "execution_count": 34,
   "metadata": {},
   "outputs": [
    {
     "data": {
      "text/plain": [
       "(4.26e-22, 2    7.526258\n",
       " dtype: float64, 14800000000000.0, 24.837199999999999)"
      ]
     },
     "execution_count": 34,
     "metadata": {},
     "output_type": "execute_result"
    }
   ],
   "source": [
    "norm, local_fp/local_comp, totalN, dxbin_size"
   ]
  },
  {
   "cell_type": "code",
   "execution_count": null,
   "metadata": {
    "collapsed": true
   },
   "outputs": [],
   "source": []
  },
  {
   "cell_type": "code",
   "execution_count": null,
   "metadata": {
    "collapsed": true
   },
   "outputs": [],
   "source": []
  }
 ],
 "metadata": {
  "anaconda-cloud": {},
  "kernelspec": {
   "display_name": "Python [Root]",
   "language": "python",
   "name": "Python [Root]"
  },
  "language_info": {
   "codemirror_mode": {
    "name": "ipython",
    "version": 3
   },
   "file_extension": ".py",
   "mimetype": "text/x-python",
   "name": "python",
   "nbconvert_exporter": "python",
   "pygments_lexer": "ipython3",
   "version": "3.5.2"
  }
 },
 "nbformat": 4,
 "nbformat_minor": 2
}
