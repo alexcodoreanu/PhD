{
 "cells": [
  {
   "cell_type": "code",
   "execution_count": 17,
   "metadata": {
    "collapsed": true
   },
   "outputs": [],
   "source": [
    "import pandas as pd\n",
    "import numpy as np\n",
    "import matplotlib.pyplot as plt\n",
    "%matplotlib inline  "
   ]
  },
  {
   "cell_type": "code",
   "execution_count": 18,
   "metadata": {
    "collapsed": true
   },
   "outputs": [],
   "source": [
    "# these are the search redshift and equivalent width boundaries\n",
    "zbin_low = [2.00, 3.00, 4.00, 2.00]\n",
    "zbin_high = [3.00, 4.00, 5.45, 5.45]\n",
    "\n",
    "ewbin_low = [0.0, 0.3, 0.6, 1.0, 0.0, 0.3, 0.0]\n",
    "ewbin_high = [0.3, 0.6, 1.0, 120, 1.0, 1.0, 120]\n",
    "\n",
    "\n",
    "ewbin_low = [0.0, 0.3, 0.3, 1.0, 0.0, 0.0]\n",
    "ewbin_high = [0.3, 0.6, 1.0, 120, 1.0, 120]\n",
    "\n",
    "zbin_low = [2.00, 3.00, 4.00]\n",
    "zbin_high = [3.00, 4.00, 5.45]\n",
    "ewbin_low = [0.0, 0.3, 0.6, 1.0 ]\n",
    "ewbin_high = [0.3, 0.6, 1.0, 120]\n",
    "\n",
    "\n",
    "\n",
    "\n"
   ]
  },
  {
   "cell_type": "code",
   "execution_count": 19,
   "metadata": {
    "collapsed": true
   },
   "outputs": [],
   "source": [
    "mg2_2796 = 2796.3542699\t\n",
    "light = 299792.458\n",
    "norm_factor = 1.9600132\n",
    "omega_M = 0.308\n",
    "omega_L = 1.0 - omega_M\n",
    "H0 = 67.8/3.08567758e24 # centimeters  \n",
    "little_h = 100./H0\n",
    "ro_crit = 1.89000e-29# units are h^2 g cm^(-3)\n",
    "amu = 1.66053892e-27 # 10^-27; kilograms\n",
    "mass_mg2 = 24.30506# * amu ;* 1.e3 ; grams\n",
    "\n",
    "norm = 4.26*pow(10, -22)\n"
   ]
  },
  {
   "cell_type": "code",
   "execution_count": 20,
   "metadata": {},
   "outputs": [
    {
     "name": "stdout",
     "output_type": "stream",
     "text": [
      "bin_sizes.csv                     sigma3_artificial_detections.csv\r\n",
      "incidence.csv                     sigma3_bin_stats.csv\r\n",
      "incidence_rates_3_sigma.csv       sigma3_real_detections.csv\r\n",
      "incidence_rates_5_sigma.csv       sigma5_artificial_detections.csv\r\n",
      "initial_stats_d2ndzdw.csv         sigma5_bin_stats.csv\r\n",
      "logN_statistics.csv               sigma5_real_detections.csv\r\n"
     ]
    }
   ],
   "source": [
    "ls *csv"
   ]
  },
  {
   "cell_type": "code",
   "execution_count": 21,
   "metadata": {
    "collapsed": true
   },
   "outputs": [],
   "source": [
    "logN = pd.read_csv('logN_statistics.csv')\n",
    "bin_stats = pd.read_csv('sigma3_bin_stats.csv')"
   ]
  },
  {
   "cell_type": "code",
   "execution_count": 22,
   "metadata": {},
   "outputs": [
    {
     "data": {
      "text/html": [
       "<div>\n",
       "<table border=\"1\" class=\"dataframe\">\n",
       "  <thead>\n",
       "    <tr style=\"text-align: right;\">\n",
       "      <th></th>\n",
       "      <th>SOL</th>\n",
       "      <th>zbin_low</th>\n",
       "      <th>zbin_high</th>\n",
       "      <th>ew_bin_low</th>\n",
       "      <th>ew_bin_high</th>\n",
       "      <th>lowN3</th>\n",
       "      <th>N3</th>\n",
       "      <th>highN3</th>\n",
       "      <th>lowN5</th>\n",
       "      <th>N5</th>\n",
       "      <th>highN5</th>\n",
       "    </tr>\n",
       "  </thead>\n",
       "  <tbody>\n",
       "    <tr>\n",
       "      <th>0</th>\n",
       "      <td>S0927</td>\n",
       "      <td>2</td>\n",
       "      <td>3.0</td>\n",
       "      <td>0.0</td>\n",
       "      <td>0.3</td>\n",
       "      <td>3.280000e+13</td>\n",
       "      <td>3.900000e+13</td>\n",
       "      <td>5.490000e+13</td>\n",
       "      <td>3.280000e+13</td>\n",
       "      <td>3.900000e+13</td>\n",
       "      <td>5.490000e+13</td>\n",
       "    </tr>\n",
       "  </tbody>\n",
       "</table>\n",
       "</div>"
      ],
      "text/plain": [
       "     SOL  zbin_low  zbin_high  ew_bin_low  ew_bin_high         lowN3  \\\n",
       "0  S0927         2        3.0         0.0          0.3  3.280000e+13   \n",
       "\n",
       "             N3        highN3         lowN5            N5        highN5  \n",
       "0  3.900000e+13  5.490000e+13  3.280000e+13  3.900000e+13  5.490000e+13  "
      ]
     },
     "execution_count": 22,
     "metadata": {},
     "output_type": "execute_result"
    }
   ],
   "source": [
    "logN[0:1]"
   ]
  },
  {
   "cell_type": "code",
   "execution_count": 23,
   "metadata": {},
   "outputs": [
    {
     "data": {
      "text/html": [
       "<div>\n",
       "<table border=\"1\" class=\"dataframe\">\n",
       "  <thead>\n",
       "    <tr style=\"text-align: right;\">\n",
       "      <th></th>\n",
       "      <th>zbin_low</th>\n",
       "      <th>zbin_high</th>\n",
       "      <th>ew_bin_low</th>\n",
       "      <th>ew_bin_high</th>\n",
       "      <th>dz</th>\n",
       "      <th>dx</th>\n",
       "      <th>N</th>\n",
       "      <th>Nrec</th>\n",
       "      <th>Ncomp</th>\n",
       "      <th>fN</th>\n",
       "      <th>fNrec</th>\n",
       "      <th>fNcomp</th>\n",
       "      <th>fp_disc</th>\n",
       "      <th>fp_rec</th>\n",
       "      <th>fp_com</th>\n",
       "    </tr>\n",
       "  </thead>\n",
       "  <tbody>\n",
       "    <tr>\n",
       "      <th>0</th>\n",
       "      <td>2</td>\n",
       "      <td>3.0</td>\n",
       "      <td>0.0</td>\n",
       "      <td>0.3</td>\n",
       "      <td>4.0</td>\n",
       "      <td>13.1232</td>\n",
       "      <td>5</td>\n",
       "      <td>8.365</td>\n",
       "      <td>10.349</td>\n",
       "      <td>3</td>\n",
       "      <td>4.864</td>\n",
       "      <td>5.251</td>\n",
       "      <td>0.4</td>\n",
       "      <td>0.4185</td>\n",
       "      <td>0.4926</td>\n",
       "    </tr>\n",
       "  </tbody>\n",
       "</table>\n",
       "</div>"
      ],
      "text/plain": [
       "   zbin_low  zbin_high  ew_bin_low  ew_bin_high   dz       dx  N   Nrec  \\\n",
       "0         2        3.0         0.0          0.3  4.0  13.1232  5  8.365   \n",
       "\n",
       "    Ncomp  fN  fNrec  fNcomp  fp_disc  fp_rec  fp_com  \n",
       "0  10.349   3  4.864   5.251      0.4  0.4185  0.4926  "
      ]
     },
     "execution_count": 23,
     "metadata": {},
     "output_type": "execute_result"
    }
   ],
   "source": [
    "bin_stats[0:1]"
   ]
  },
  {
   "cell_type": "code",
   "execution_count": 25,
   "metadata": {},
   "outputs": [
    {
     "name": "stdout",
     "output_type": "stream",
     "text": [
      "2.0 3.0    0.0 0.3    1.01\n",
      "3.0 4.0    0.0 0.3    3.83\n",
      "4.0 5.45    0.0 0.3    4.78\n",
      "2.0 3.0    0.3 0.6    0.96\n",
      "3.0 4.0    0.3 0.6    0.46\n",
      "4.0 5.45    0.3 0.6    0.87\n",
      "2.0 3.0    0.6 1.0    nan\n",
      "3.0 4.0    0.6 1.0    nan\n",
      "4.0 5.45    0.6 1.0    0.03\n",
      "2.0 3.0    1.0 120    0.37\n",
      "3.0 4.0    1.0 120    1.05\n",
      "4.0 5.45    1.0 120    0.66\n"
     ]
    }
   ],
   "source": [
    "#\n",
    "#    3 sigma\n",
    "#\n",
    "#\n",
    "for e in range(0, len(ewbin_low)):\n",
    "    ewlow = ewbin_low[e]\n",
    "    ewhigh = ewbin_high[e]\n",
    "\n",
    "    for z in range(0, len(zbin_low)):\n",
    "        lowz = zbin_low[z]\n",
    "        highz = zbin_high[z]\n",
    "        \n",
    "        Xmax = 2.*((omega_M*((1. + highz)**3.) + omega_L)**0.5)/3./omega_M\n",
    "        Xmin = 2.*((omega_M*((1. + lowz)**3.) + omega_L)**0.5)/3./omega_M\n",
    "        dxbin_size = Xmax - Xmin\n",
    "        dxbin_size = np.floor(dxbin_size*10000.0)/10000.0*4\n",
    "        \n",
    "        \n",
    "        # get real subset\n",
    "        local_logN = logN.loc[(logN.zbin_low    == lowz ) & \n",
    "                              (logN.zbin_high   == highz ) & \n",
    "                              (logN.ew_bin_low  == ewlow ) & \n",
    "                              (logN.ew_bin_high == ewhigh )]\n",
    "        # get bin stats\n",
    "        local_stats = bin_stats.loc[(bin_stats.zbin_low    == lowz ) & \n",
    "                                    (bin_stats.zbin_high   == highz ) & \n",
    "                                    (bin_stats.ew_bin_low  == ewlow ) & \n",
    "                                    (bin_stats.ew_bin_high == ewhigh )]\n",
    "       \n",
    "        local_comp = local_stats.N/local_stats.Ncomp\n",
    "        local_fp = local_stats.fp_com\n",
    "        \n",
    "        totalN_low = sum(local_logN.lowN3)\n",
    "        totalN = sum(local_logN.N3)\n",
    "        totalN_high = sum(local_logN.highN3)\n",
    "        \n",
    "        omega_low  = norm*local_fp/local_comp/dxbin_size*totalN_low\n",
    "        omega      = norm*local_fp/local_comp/dxbin_size*totalN \n",
    "        omega_high = norm*local_fp/local_comp/dxbin_size*totalN_high\n",
    "        \n",
    "   \n",
    "       # print(lowz, highz, '  ',\n",
    "       #      ewlow, ewhigh,'  ',dxbin_size, '  ', \n",
    "       #      float(np.floor(local_fp/local_comp*100)/100), ' ' ,\n",
    "       #      float(omega_low), float(omega), float(omega_high))\n",
    "    \n",
    "        print(lowz, highz, '  ',\n",
    "               ewlow, ewhigh,'  ',\n",
    "               float(np.floor(local_fp/local_comp*100)/100))#, float(omega))"
   ]
  },
  {
   "cell_type": "code",
   "execution_count": 9,
   "metadata": {},
   "outputs": [
    {
     "data": {
      "text/plain": [
       "1.8622567666422822e-09"
      ]
     },
     "execution_count": 9,
     "metadata": {},
     "output_type": "execute_result"
    }
   ],
   "source": [
    "5.68*pow(10, 13)*1.01/13.1232*norm"
   ]
  },
  {
   "cell_type": "code",
   "execution_count": 26,
   "metadata": {},
   "outputs": [
    {
     "name": "stdout",
     "output_type": "stream",
     "text": [
      "4.0 5.45    0.6 1.0    24.8372    0.03   1.5178102897267e-10 5.357330390221119e-10 2.0997375549578854e-10\n"
     ]
    }
   ],
   "source": [
    "e = 2\n",
    "z = 2\n",
    "ewlow = ewbin_low[e]\n",
    "ewhigh = ewbin_high[e]\n",
    "\n",
    "\n",
    "lowz = zbin_low[z]\n",
    "highz = zbin_high[z]\n",
    "Xmax = 2.*((omega_M*((1. + highz)**3.) + omega_L)**0.5)/3./omega_M\n",
    "Xmin = 2.*((omega_M*((1. + lowz)**3.) + omega_L)**0.5)/3./omega_M\n",
    "dxbin_size = Xmax - Xmin\n",
    "dxbin_size = np.floor(dxbin_size*10000.0)/10000.0*4\n",
    "\n",
    "# get real subset\n",
    "local_logN = logN.loc[(logN.zbin_low    == lowz ) & \n",
    "                      (logN.zbin_high   == highz ) & \n",
    "                      (logN.ew_bin_low  == ewlow ) & \n",
    "                      (logN.ew_bin_high == ewhigh )]\n",
    "# get bin stats\n",
    "local_stats = bin_stats.loc[(bin_stats.zbin_low    == lowz ) & \n",
    "                            (bin_stats.zbin_high   == highz ) & \n",
    "                            (bin_stats.ew_bin_low  == ewlow ) & \n",
    "                            (bin_stats.ew_bin_high == ewhigh )]\n",
    "local_comp = local_stats.N/local_stats.Ncomp\n",
    "local_fp = local_stats.fp_com\n",
    "totalN_low = sum(local_logN.lowN3)\n",
    "totalN = sum(local_logN.N3)\n",
    "totalN_high = sum(local_logN.highN3)\n",
    "omega_low  = norm*local_fp/local_comp/dxbin_size*totalN_low\n",
    "omega      = norm*local_fp/local_comp/dxbin_size*totalN \n",
    "omega_high = norm*local_fp/local_comp/dxbin_size*totalN_high\n",
    "print(lowz, highz, '  ',\n",
    "     ewlow, ewhigh,'  ',dxbin_size, '  ', \n",
    "     float(np.floor(local_fp/local_comp*100)/100), ' ' ,\n",
    "     float(omega_low), float(omega), float(omega_high))"
   ]
  },
  {
   "cell_type": "code",
   "execution_count": 27,
   "metadata": {},
   "outputs": [
    {
     "data": {
      "text/html": [
       "<div>\n",
       "<table border=\"1\" class=\"dataframe\">\n",
       "  <thead>\n",
       "    <tr style=\"text-align: right;\">\n",
       "      <th></th>\n",
       "      <th>SOL</th>\n",
       "      <th>zbin_low</th>\n",
       "      <th>zbin_high</th>\n",
       "      <th>ew_bin_low</th>\n",
       "      <th>ew_bin_high</th>\n",
       "      <th>lowN3</th>\n",
       "      <th>N3</th>\n",
       "      <th>highN3</th>\n",
       "      <th>lowN5</th>\n",
       "      <th>N5</th>\n",
       "      <th>highN5</th>\n",
       "    </tr>\n",
       "  </thead>\n",
       "  <tbody>\n",
       "    <tr>\n",
       "      <th>64</th>\n",
       "      <td>S0927</td>\n",
       "      <td>4</td>\n",
       "      <td>5.45</td>\n",
       "      <td>0.6</td>\n",
       "      <td>1.0</td>\n",
       "      <td>0.000000e+00</td>\n",
       "      <td>0.000000e+00</td>\n",
       "      <td>0.000000e+00</td>\n",
       "      <td>0.000000e+00</td>\n",
       "      <td>0.000000e+00</td>\n",
       "      <td>0.000000e+00</td>\n",
       "    </tr>\n",
       "    <tr>\n",
       "      <th>65</th>\n",
       "      <td>U0148</td>\n",
       "      <td>4</td>\n",
       "      <td>5.45</td>\n",
       "      <td>0.6</td>\n",
       "      <td>1.0</td>\n",
       "      <td>0.000000e+00</td>\n",
       "      <td>0.000000e+00</td>\n",
       "      <td>0.000000e+00</td>\n",
       "      <td>0.000000e+00</td>\n",
       "      <td>0.000000e+00</td>\n",
       "      <td>0.000000e+00</td>\n",
       "    </tr>\n",
       "    <tr>\n",
       "      <th>66</th>\n",
       "      <td>S1306</td>\n",
       "      <td>4</td>\n",
       "      <td>5.45</td>\n",
       "      <td>0.6</td>\n",
       "      <td>1.0</td>\n",
       "      <td>2.530000e+14</td>\n",
       "      <td>8.930000e+14</td>\n",
       "      <td>3.500000e+14</td>\n",
       "      <td>2.530000e+14</td>\n",
       "      <td>8.930000e+14</td>\n",
       "      <td>3.500000e+14</td>\n",
       "    </tr>\n",
       "    <tr>\n",
       "      <th>67</th>\n",
       "      <td>U1319</td>\n",
       "      <td>4</td>\n",
       "      <td>5.45</td>\n",
       "      <td>0.6</td>\n",
       "      <td>1.0</td>\n",
       "      <td>0.000000e+00</td>\n",
       "      <td>0.000000e+00</td>\n",
       "      <td>0.000000e+00</td>\n",
       "      <td>0.000000e+00</td>\n",
       "      <td>0.000000e+00</td>\n",
       "      <td>0.000000e+00</td>\n",
       "    </tr>\n",
       "  </tbody>\n",
       "</table>\n",
       "</div>"
      ],
      "text/plain": [
       "      SOL  zbin_low  zbin_high  ew_bin_low  ew_bin_high         lowN3  \\\n",
       "64  S0927         4       5.45         0.6          1.0  0.000000e+00   \n",
       "65  U0148         4       5.45         0.6          1.0  0.000000e+00   \n",
       "66  S1306         4       5.45         0.6          1.0  2.530000e+14   \n",
       "67  U1319         4       5.45         0.6          1.0  0.000000e+00   \n",
       "\n",
       "              N3        highN3         lowN5            N5        highN5  \n",
       "64  0.000000e+00  0.000000e+00  0.000000e+00  0.000000e+00  0.000000e+00  \n",
       "65  0.000000e+00  0.000000e+00  0.000000e+00  0.000000e+00  0.000000e+00  \n",
       "66  8.930000e+14  3.500000e+14  2.530000e+14  8.930000e+14  3.500000e+14  \n",
       "67  0.000000e+00  0.000000e+00  0.000000e+00  0.000000e+00  0.000000e+00  "
      ]
     },
     "execution_count": 27,
     "metadata": {},
     "output_type": "execute_result"
    }
   ],
   "source": [
    "local_logN"
   ]
  },
  {
   "cell_type": "code",
   "execution_count": null,
   "metadata": {
    "collapsed": true
   },
   "outputs": [],
   "source": []
  }
 ],
 "metadata": {
  "anaconda-cloud": {},
  "kernelspec": {
   "display_name": "Python [Root]",
   "language": "python",
   "name": "Python [Root]"
  },
  "language_info": {
   "codemirror_mode": {
    "name": "ipython",
    "version": 3
   },
   "file_extension": ".py",
   "mimetype": "text/x-python",
   "name": "python",
   "nbconvert_exporter": "python",
   "pygments_lexer": "ipython3",
   "version": "3.5.2"
  }
 },
 "nbformat": 4,
 "nbformat_minor": 2
}
