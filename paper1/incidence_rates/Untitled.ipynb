{
 "cells": [
  {
   "cell_type": "code",
   "execution_count": 1,
   "metadata": {
    "collapsed": true
   },
   "outputs": [],
   "source": [
    "import pandas as pd\n",
    "import numpy as np\n",
    "import matplotlib.pyplot as plt\n",
    "%matplotlib inline  "
   ]
  },
  {
   "cell_type": "code",
   "execution_count": 2,
   "metadata": {
    "collapsed": true
   },
   "outputs": [],
   "source": [
    "# these are the search redshift and equivalent width boundaries\n",
    "zbin_low = [2.00, 3.00, 4.00, 2.00]\n",
    "zbin_high = [3.00, 4.00, 5.45, 5.45]\n",
    "\n",
    "ewbin_low = [0.0, 0.3, 0.6, 1.0, 0.0, 0.3, 0.0]\n",
    "ewbin_high = [0.3, 0.6, 1.0, 120, 1.0, 1.0, 120]\n"
   ]
  },
  {
   "cell_type": "code",
   "execution_count": 6,
   "metadata": {
    "collapsed": true
   },
   "outputs": [],
   "source": [
    "mg2_2796 = 2796.3542699\t\n",
    "light = 299792.458\n",
    "norm_factor = 1.9600132\n",
    "omega_M = 0.308\n",
    "omega_L = 1.0 - omega_M\n",
    "H0 = 67.8/3.08567758e24 # centimeters  \n",
    "little_h = 100./H0\n",
    "ro_crit = 1.89000e-29# units are h^2 g cm^(-3)\n",
    "amu = 1.66053892e-27 # 10^-27; kilograms\n",
    "mass_mg2 = 24.30506# * amu ;* 1.e3 ; grams\n",
    "\n",
    "norm = 4.26*pow(10, -22)\n"
   ]
  },
  {
   "cell_type": "code",
   "execution_count": 7,
   "metadata": {
    "collapsed": true
   },
   "outputs": [],
   "source": [
    "logN = pd.read_csv('logN_statistics.csv')\n",
    "bin_stats = pd.read_csv('sigma5_bin_stats.csv')"
   ]
  },
  {
   "cell_type": "code",
   "execution_count": 8,
   "metadata": {},
   "outputs": [
    {
     "name": "stdout",
     "output_type": "stream",
     "text": [
      "2.0 3.0    0.0 0.3    2.157558703600585e-09 2.4898280041550838e-09 3.4901427058244328e-09\n",
      "3.0 4.0    0.0 0.3    nan nan nan\n",
      "4.0 5.45    0.0 0.3    1.7981966444864959e-09 2.393292590723592e-09 3.11876747529029e-09\n",
      "2.0 5.45    0.0 0.3    2.1234340948957274e-09 2.5733245180975456e-09 3.555291030444681e-09\n",
      "2.0 3.0    0.3 0.6    2.146324925343818e-09 2.6970223450621794e-09 3.2118480390087777e-09\n",
      "3.0 4.0    0.3 0.6    6.269633662178994e-09 1.2690666738001217e-08 1.9745596424217526e-08\n",
      "4.0 5.45    0.3 0.6    2.336444424427874e-09 5.1985888443520194e-09 2.1742562406321722e-08\n",
      "2.0 5.45    0.3 0.6    4.652000144625561e-09 9.219606906614695e-09 1.9385308050153555e-08\n",
      "2.0 3.0    0.6 1.0    nan nan nan\n",
      "3.0 4.0    0.6 1.0    nan nan nan\n",
      "4.0 5.45    0.6 1.0    2.3857245161370844e-10 8.420758865258563e-10 3.3004094096758085e-10\n",
      "2.0 5.45    0.6 1.0    8.731071125804846e-11 3.081757515946137e-10 1.2078556893405912e-10\n",
      "2.0 3.0    1.0 120    1.3826929625701047e-08 1.726543672945623e-08 4.5696908894781756e-08\n",
      "3.0 4.0    1.0 120    4.920456364455516e-09 6.0305593247290166e-09 4.290397927543529e-08\n",
      "4.0 5.45    1.0 120    1.0833726498639138e-07 3.8319846204113184e-07 2.1466090748116532e-06\n",
      "2.0 5.45    1.0 120    5.211994283607521e-08 1.698410533377565e-07 9.329338409638553e-07\n",
      "2.0 3.0    0.0 1.0    4.2118739545665675e-09 5.1013839074341605e-09 6.531692270184709e-09\n",
      "3.0 4.0    0.0 1.0    6.362737226830625e-09 1.2822822861686056e-08 1.9933359996090952e-08\n",
      "4.0 5.45    0.0 1.0    9.704067656395246e-09 2.9575401293405053e-08 3.748918859749247e-08\n",
      "2.0 5.45    0.0 1.0    9.21311267834454e-09 2.1539561929941037e-08 2.9796587739026184e-08\n",
      "2.0 3.0    0.3 1.0    2.146324925343818e-09 2.6970223450621794e-09 3.2118480390087777e-09\n",
      "3.0 4.0    0.3 1.0    6.269633662178994e-09 1.2690666738001217e-08 1.9745596424217526e-08\n",
      "4.0 5.45    0.3 1.0    5.365149548509896e-09 1.6697497641845698e-08 2.1120685363583655e-08\n",
      "2.0 5.45    0.3 1.0    5.856466425104045e-09 1.4208608808080884e-08 1.9724876593560098e-08\n",
      "2.0 3.0    0.0 120    3.477225960363295e-08 4.333337991825164e-08 1.0953622886643698e-07\n",
      "3.0 4.0    0.0 120    1.0776318504644473e-08 1.9468690283713852e-08 4.989673894224799e-08\n",
      "4.0 5.45    0.0 120    1.7567573209403418e-07 6.185283153624765e-07 3.361081661951079e-06\n",
      "2.0 5.45    0.0 120    8.594898513594808e-08 2.728120192749622e-07 1.4286811279436212e-06\n"
     ]
    }
   ],
   "source": [
    "#\n",
    "#    5 sigma\n",
    "#\n",
    "#\n",
    "for e in range(0, len(ewbin_low)):\n",
    "    ewlow = ewbin_low[e]\n",
    "    ewhigh = ewbin_high[e]\n",
    "\n",
    "    for z in range(0, len(zbin_low)):\n",
    "        lowz = zbin_low[z]\n",
    "        highz = zbin_high[z]\n",
    "        \n",
    "        Xmax = 2.*((omega_M*((1. + highz)**3.) + omega_L)**0.5)/3./omega_M\n",
    "        Xmin = 2.*((omega_M*((1. + lowz)**3.) + omega_L)**0.5)/3./omega_M\n",
    "        dxbin_size = Xmax - Xmin\n",
    "        dxbin_size = np.floor(dxbin_size*10000.0)/10000.0*4\n",
    "        \n",
    "        \n",
    "        # get real subset\n",
    "        local_logN = logN.loc[(logN.zbin_low    == lowz ) & \n",
    "                              (logN.zbin_high   == highz ) & \n",
    "                              (logN.ew_bin_low  == ewlow ) & \n",
    "                              (logN.ew_bin_high == ewhigh )]\n",
    "        # get bin stats\n",
    "        local_stats = bin_stats.loc[(bin_stats.zbin_low    == lowz ) & \n",
    "                                    (bin_stats.zbin_high   == highz ) & \n",
    "                                    (bin_stats.ew_bin_low  == ewlow ) & \n",
    "                                    (bin_stats.ew_bin_high == ewhigh )]\n",
    "       \n",
    "        local_comp = local_stats.N/local_stats.Ncomp\n",
    "        local_fp = local_stats.fp_com\n",
    "        \n",
    "        totalN_low = sum(local_logN.lowN3)\n",
    "        totalN = sum(local_logN.N3)\n",
    "        totalN_high = sum(local_logN.highN3)\n",
    "        \n",
    "        omega_low  = norm*local_fp/local_comp/dxbin_size*totalN_low\n",
    "        omega      = norm*local_fp/local_comp/dxbin_size*totalN \n",
    "        omega_high = norm*local_fp/local_comp/dxbin_size*totalN_high\n",
    "        \n",
    "   \n",
    "        print(lowz, highz, '  ',\n",
    "              ewlow, ewhigh,'  ',\n",
    "              float(omega_low), float(omega), float(omega_high))"
   ]
  },
  {
   "cell_type": "code",
   "execution_count": null,
   "metadata": {
    "collapsed": true
   },
   "outputs": [],
   "source": []
  },
  {
   "cell_type": "code",
   "execution_count": null,
   "metadata": {
    "collapsed": true
   },
   "outputs": [],
   "source": []
  },
  {
   "cell_type": "code",
   "execution_count": null,
   "metadata": {
    "collapsed": true
   },
   "outputs": [],
   "source": []
  }
 ],
 "metadata": {
  "kernelspec": {
   "display_name": "Python [Root]",
   "language": "python",
   "name": "Python [Root]"
  },
  "language_info": {
   "codemirror_mode": {
    "name": "ipython",
    "version": 3
   },
   "file_extension": ".py",
   "mimetype": "text/x-python",
   "name": "python",
   "nbconvert_exporter": "python",
   "pygments_lexer": "ipython3",
   "version": "3.5.2"
  }
 },
 "nbformat": 4,
 "nbformat_minor": 2
}
