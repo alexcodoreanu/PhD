{
 "cells": [
  {
   "cell_type": "code",
   "execution_count": 1,
   "metadata": {
    "collapsed": true
   },
   "outputs": [],
   "source": [
    "import pandas as pd\n",
    "import numpy as np\n",
    "import matplotlib.pyplot as plt\n",
    "%matplotlib inline  "
   ]
  },
  {
   "cell_type": "code",
   "execution_count": 2,
   "metadata": {
    "collapsed": true
   },
   "outputs": [],
   "source": [
    "mg2_2796 = 2796.3542699\t\n",
    "light = 299792.458\n",
    "norm_factor = 1.9600132\n",
    "omega_M = 0.308\n",
    "omega_L = 1.0 - omega_M\n",
    "H0 = 67.8/3.08567758e24 # centimeters  \n",
    "little_h = 100./H0\n",
    "ro_crit = 1.89000e-29# units are h^2 g cm^(-3)\n",
    "amu = 1.66053892e-27 # 10^-27; kilograms\n",
    "mass_mg2 = 24.30506# * amu ;* 1.e3 ; grams\n",
    "\n",
    "norm = 4.26*pow(10, -22)\n"
   ]
  },
  {
   "cell_type": "code",
   "execution_count": 21,
   "metadata": {
    "collapsed": true
   },
   "outputs": [],
   "source": [
    "logN_values = np.array([12.8, 12.57, 13.4, 13.1])\n",
    "logN_errors = np.array([0.2, 0.07, 0.6, 0.1])\n",
    "# now exclude the 5.95 system because W2796 > 0.3A\n",
    "logN_values = np.array([12.8, 12.57, 13.4])\n",
    "logN_errors = np.array([0.2, 0.07, 0.6])\n",
    "\n",
    "deltax = 3.9"
   ]
  },
  {
   "cell_type": "code",
   "execution_count": 22,
   "metadata": {
    "collapsed": true
   },
   "outputs": [],
   "source": [
    "totalN = pow(10, logN_values )\n",
    "totalN_plus  = pow(10, logN_values+logN_errors)\n",
    "totalN_minus = pow(10, logN_values-logN_errors)"
   ]
  },
  {
   "cell_type": "code",
   "execution_count": 23,
   "metadata": {},
   "outputs": [
    {
     "data": {
      "text/plain": [
       "(array([  3.98107171e+12,   3.16227766e+12,   6.30957344e+12]),\n",
       " array([  6.30957344e+12,   3.71535229e+12,   2.51188643e+13]),\n",
       " array([  1.00000000e+13,   4.36515832e+12,   1.00000000e+14]))"
      ]
     },
     "execution_count": 23,
     "metadata": {},
     "output_type": "execute_result"
    }
   ],
   "source": [
    "totalN_minus, totalN, totalN_plus"
   ]
  },
  {
   "cell_type": "code",
   "execution_count": 24,
   "metadata": {
    "collapsed": true
   },
   "outputs": [],
   "source": [
    "omega = norm*sum(totalN)/deltax\n",
    "omega_plus = norm*sum(totalN_plus)/deltax\n",
    "omega_minus = norm*sum(totalN_minus)/deltax"
   ]
  },
  {
   "cell_type": "code",
   "execution_count": 25,
   "metadata": {},
   "outputs": [
    {
     "data": {
      "text/plain": [
       "(1.4694731069936566e-09, 3.8387832209411294e-09, 1.2492194216754644e-08)"
      ]
     },
     "execution_count": 25,
     "metadata": {},
     "output_type": "execute_result"
    }
   ],
   "source": [
    "omega_minus, omega, omega_plus"
   ]
  },
  {
   "cell_type": "code",
   "execution_count": 28,
   "metadata": {},
   "outputs": [
    {
     "name": "stdout",
     "output_type": "stream",
     "text": [
      "1.7506874427131074\n"
     ]
    },
    {
     "data": {
      "text/plain": [
       "(2.5725881158184093e-09, 6.7205095801994115e-09, 2.1869927547205657e-08)"
      ]
     },
     "execution_count": 28,
     "metadata": {},
     "output_type": "execute_result"
    }
   ],
   "source": [
    "# now think a bit about completeness (as an average) resulting from d2n/dzdw value\n",
    "cbar = 19.1/10.91\n",
    "print(cbar)\n",
    "# now adjust omega values\n",
    "cbar*omega_minus, cbar*omega, cbar*omega_plus"
   ]
  },
  {
   "cell_type": "code",
   "execution_count": null,
   "metadata": {
    "collapsed": true
   },
   "outputs": [],
   "source": []
  }
 ],
 "metadata": {
  "anaconda-cloud": {},
  "kernelspec": {
   "display_name": "Python [Root]",
   "language": "python",
   "name": "Python [Root]"
  },
  "language_info": {
   "codemirror_mode": {
    "name": "ipython",
    "version": 3
   },
   "file_extension": ".py",
   "mimetype": "text/x-python",
   "name": "python",
   "nbconvert_exporter": "python",
   "pygments_lexer": "ipython3",
   "version": "3.5.2"
  }
 },
 "nbformat": 4,
 "nbformat_minor": 2
}
