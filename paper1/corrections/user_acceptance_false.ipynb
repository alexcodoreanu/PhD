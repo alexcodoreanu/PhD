{
 "cells": [
  {
   "cell_type": "code",
   "execution_count": 1,
   "metadata": {
    "collapsed": true
   },
   "outputs": [],
   "source": [
    "import pandas as pd\n",
    "import numpy as np\n",
    "import matplotlib.pyplot as plt\n",
    "import matplotlib.mlab as mlab\n",
    "%matplotlib inline  \n",
    "import emcee\n",
    "import math\n",
    "import matplotlib\n",
    "import scipy.optimize as op\n",
    "\n",
    "hfont = {'fontname':'Times New roman'}\n",
    "mg2color = [107/256.0, 70/256.0, 177/256.0]\n",
    "\n"
   ]
  },
  {
   "cell_type": "markdown",
   "metadata": {},
   "source": [
    "binning by SN   --- human_acceptance_false_results_final.fits\n",
    "\n",
    "for all equivalent widths inserted   ---\n",
    "\n",
    "    minSN    maxSN  inserted_number discovered_number  RATIO_discovered/inserted\n",
    "    \n",
    "      0.00000      1.00000        1041     24.0000     0.0230548\n",
    "      1.00000      2.00000         160      8.00000    0.0500000      \n",
    "      2.00000      3.00000          61      5.00000    0.0819672\n",
    "      3.00000      4.00000          43      5.00000     0.116279\n",
    "      4.00000      5.00000          25      2.00000    0.0800000\n",
    "      5.00000      6.00000          18      1.00000    0.0555556\n",
    "      6.00000      8.00000          24      1.00000    0.0416666\n",
    "      8.00000      10.0000          35      1.00000    0.0285714\n",
    "\n",
    "\n",
    "\n",
    "\n",
    "  "
   ]
  },
  {
   "cell_type": "code",
   "execution_count": 2,
   "metadata": {},
   "outputs": [
    {
     "name": "stdout",
     "output_type": "stream",
     "text": [
      "[ 0.5  1.5  2.5  3.5  4.5  5.5  7.   9. ]\n"
     ]
    }
   ],
   "source": [
    "# pass the values to arrays\n",
    "min_sn = np.array([0.0, 1.0, 2.0, 3.0, 4.0, 5.0, 6.0, 8.0])\n",
    "max_sn = np.array([1.0, 2.0, 3.0, 4.0, 5.0, 6.0, 8.0, 10.0])\n",
    "value = np.array([0.0230548, 0.0500000, 0.0819672,  0.116279, 0.0800000, 0.0555556, 0.0416666, 0.0285714])\n",
    "\n",
    "mid_sn = 0.5*(max_sn - min_sn) + min_sn\n",
    "\n",
    "print(mid_sn)"
   ]
  },
  {
   "cell_type": "code",
   "execution_count": 3,
   "metadata": {},
   "outputs": [
    {
     "name": "stdout",
     "output_type": "stream",
     "text": [
      "[ 0.09490668  0.0387069   0.0272604   0.04120014  0.02658673  0.01904778\n",
      "  0.01918732  0.01931797]\n"
     ]
    }
   ],
   "source": [
    "n = np.array([1041, 160, 61,  43,  25,  18,  24, 35.0])\n",
    "ns = np.array([24.0, 4.0, 2.0, 5.0, 2.0, 1.0, 1.0, 1.0])\n",
    "\n",
    "nf = n - ns\n",
    "z = 1.96\n",
    "\n",
    "error = z*pow(ns*nf/n, 0.5)/100.0\n",
    "error[np.where(error == 0)] = 0.0278\n",
    "#error[0]=0.023565\n",
    "#error[7]= 0.12\n",
    "print(error)\n",
    "upper_bound = value + error\n",
    "lower_bound = value - error\n",
    "upper_bound[np.where(upper_bound > 1.0)] = 1.0\n"
   ]
  },
  {
   "cell_type": "code",
   "execution_count": 4,
   "metadata": {},
   "outputs": [
    {
     "name": "stderr",
     "output_type": "stream",
     "text": [
      "/Users/acodoreanu/anaconda3/lib/python3.6/site-packages/ipykernel/__main__.py:5: VisibleDeprecationWarning: using a non-integer number instead of an integer will result in an error in the future\n",
      "/Users/acodoreanu/anaconda3/lib/python3.6/site-packages/ipykernel/__main__.py:6: VisibleDeprecationWarning: using a non-integer number instead of an integer will result in an error in the future\n",
      "/Users/acodoreanu/anaconda3/lib/python3.6/site-packages/ipykernel/__main__.py:7: VisibleDeprecationWarning: using a non-integer number instead of an integer will result in an error in the future\n",
      "/Users/acodoreanu/anaconda3/lib/python3.6/site-packages/ipykernel/__main__.py:8: VisibleDeprecationWarning: using a non-integer number instead of an integer will result in an error in the future\n",
      "/Users/acodoreanu/anaconda3/lib/python3.6/site-packages/ipykernel/__main__.py:9: VisibleDeprecationWarning: using a non-integer number instead of an integer will result in an error in the future\n"
     ]
    },
    {
     "name": "stdout",
     "output_type": "stream",
     "text": [
      "36352.9566846\n",
      "-0.002 0.003 0.008\n",
      "0.029 0.032 0.035\n"
     ]
    },
    {
     "data": {
      "text/plain": [
       "[<matplotlib.lines.Line2D at 0x1174e9550>]"
      ]
     },
     "execution_count": 4,
     "metadata": {},
     "output_type": "execute_result"
    },
    {
     "data": {
      "image/png": "[encoded data removed]",
      "text/plain": [
       "<matplotlib.figure.Figure at 0x1174e9438>"
      ]
     },
     "metadata": {},
     "output_type": "display_data"
    }
   ],
   "source": [
    "# leave a cell for the fitting process\n",
    "# m = scalar (0 to 0.15 in 0.001 steps)\n",
    "# sn = is the signal to noise (the x axis)\n",
    "# s = is an exponential scale factor (also to be fit for, (0 to 5, in 0.01 steps), from looking at the distribution)\n",
    "chi2 = np.zeros(300.0*400.0)\n",
    "inv_sigma2 =  np.zeros(300.0*400.0)\n",
    "lnlike =  np.zeros(300.0*400.0)\n",
    "ms = np.zeros(300.0*400.0)\n",
    "bs = np.zeros(300.0*400.0)\n",
    "\n",
    "y = np.array([0.0, 0.0230548, 0.0500000, 0.0819672])\n",
    "x = np.array([0.0, 0.5, 1.5, 2.5])\n",
    "\n",
    "local_counter = 0\n",
    "for b in range(0, 400):\n",
    "    local_b = b/1000.0 - 0.02\n",
    "    for m in range(0, 300): \n",
    "        local_m = m/1000.0\n",
    "\n",
    "        model = local_b + local_m*x\n",
    "        chi2[local_counter] = np.sum((model - y)*(model - y))#/yerr/yerr)\n",
    "        ms[local_counter] = local_m\n",
    "        bs[local_counter] = local_b\n",
    "        local_counter = local_counter + 1\n",
    "       \n",
    "\n",
    "chi2scale = 1./min(chi2)\n",
    "chi2_adjusted = chi2*chi2scale\n",
    "best_ms = ms[np.where((chi2_adjusted < 2.706))]\n",
    "best_bs = bs[np.where((chi2_adjusted < 2.706))]\n",
    "mms = ms[np.where((chi2_adjusted == min(chi2_adjusted)))]\n",
    "bbs = bs[np.where((chi2_adjusted == min(chi2_adjusted)))]\n",
    "\n",
    "\n",
    "print(chi2scale)\n",
    "print(min(best_bs), bbs[0], max(best_bs))\n",
    "print(min(best_ms), mms[0], max(best_ms))\n",
    "\n",
    "#plt.plot(ms, bs)\n",
    "plt.plot(best_ms, best_bs)\n",
    "plt.plot(mms, bbs, 'r*',markersize=15 )"
   ]
  },
  {
   "cell_type": "code",
   "execution_count": 5,
   "metadata": {
    "scrolled": true
   },
   "outputs": [
    {
     "name": "stderr",
     "output_type": "stream",
     "text": [
      "/Users/acodoreanu/anaconda3/lib/python3.6/site-packages/ipykernel/__main__.py:8: VisibleDeprecationWarning: using a non-integer number instead of an integer will result in an error in the future\n",
      "/Users/acodoreanu/anaconda3/lib/python3.6/site-packages/ipykernel/__main__.py:9: VisibleDeprecationWarning: using a non-integer number instead of an integer will result in an error in the future\n",
      "/Users/acodoreanu/anaconda3/lib/python3.6/site-packages/ipykernel/__main__.py:10: VisibleDeprecationWarning: using a non-integer number instead of an integer will result in an error in the future\n",
      "/Users/acodoreanu/anaconda3/lib/python3.6/site-packages/ipykernel/__main__.py:11: VisibleDeprecationWarning: using a non-integer number instead of an integer will result in an error in the future\n",
      "/Users/acodoreanu/anaconda3/lib/python3.6/site-packages/ipykernel/__main__.py:12: VisibleDeprecationWarning: using a non-integer number instead of an integer will result in an error in the future\n"
     ]
    },
    {
     "name": "stdout",
     "output_type": "stream",
     "text": [
      "1528.05107721\n",
      "0.105 0.153 0.2\n",
      "-0.022 -0.015 -0.008\n"
     ]
    },
    {
     "data": {
      "text/plain": [
       "[<matplotlib.lines.Line2D at 0x11ad2a550>]"
      ]
     },
     "execution_count": 5,
     "metadata": {},
     "output_type": "execute_result"
    },
    {
     "data": {
      "image/png": "[encoded data removed]",
      "text/plain": [
       "<matplotlib.figure.Figure at 0x11ad2a748>"
      ]
     },
     "metadata": {},
     "output_type": "display_data"
    }
   ],
   "source": [
    "# leave a cell for the fitting process\n",
    "# triangular function where\n",
    "# fit_function = mx + b\n",
    "# in 2 steps\n",
    "# m = scalar (0 to 0.15 in 0.001 steps)\n",
    "# sn = is the signal to noise (the x axis)\n",
    "# s = is an exponential scale factor (also to be fit for, (0 to 5, in 0.01 steps), from looking at the distribution)\n",
    "chi2 = np.zeros(300.0*400.0)\n",
    "inv_sigma2 =  np.zeros(300.0*400.0)\n",
    "lnlike =  np.zeros(300.0*400.0)\n",
    "ms = np.zeros(300.0*400.0)\n",
    "bs = np.zeros(300.0*400.0)\n",
    "x = np.array([ 3.5, 4.5, 5.5, 7.0, 9.0])\n",
    "y = np.array([ 0.116279, 0.0800000, 0.0555556, 0.0416666, 0.0285714])\n",
    "\n",
    "local_counter = 0\n",
    "for m in range(0, 300): \n",
    "    local_m = m/-1000.0\n",
    "    for b in range(0, 400):\n",
    "        local_b = b/1000.0 - 0.002\n",
    "\n",
    "        model = local_m*x + local_b\n",
    "        chi2[local_counter] = np.sum((model - y)*(model - y))#/yerr/yerr)\n",
    "        ms[local_counter]   = local_m\n",
    "        bs[local_counter]   = local_b\n",
    "        local_counter = local_counter + 1\n",
    "    \n",
    "chi2scale = 1./min(chi2)\n",
    "chi2_adjusted = chi2*chi2scale\n",
    "best_ms = ms[np.where((chi2_adjusted < 2.706))]\n",
    "best_bs = bs[np.where((chi2_adjusted < 2.706))]\n",
    "mms = ms[np.where((chi2_adjusted == min(chi2_adjusted)))]\n",
    "bbs = bs[np.where((chi2_adjusted == min(chi2_adjusted)))]\n",
    "\n",
    "\n",
    "print(chi2scale)\n",
    "print(min(best_bs), bbs[0], max(best_bs))\n",
    "print(min(best_ms), mms[0], max(best_ms))\n",
    "\n",
    "#plt.plot(ms, bs)\n",
    "plt.plot(best_ms, best_bs)\n",
    "plt.plot(mms, bbs, 'r*',markersize=15 )"
   ]
  },
  {
   "cell_type": "code",
   "execution_count": 8,
   "metadata": {},
   "outputs": [
    {
     "name": "stdout",
     "output_type": "stream",
     "text": [
      "3.1914893617021276\n"
     ]
    }
   ],
   "source": [
    "# get where the two fits cross over\n",
    "# above : best_fit = -0.02*x + 0.177\n",
    "# below : best_fit = -0.015*x + 0.153\n",
    "# 0.032*x + 0.003 = -0.015*x + 0.153\n",
    "# x*(0.032 + 0.015) = 0.153 - 0.003\n",
    "common_x = (0.153 - 0.003)/(0.032 + 0.015)\n",
    "print(common_x)"
   ]
  },
  {
   "cell_type": "code",
   "execution_count": 11,
   "metadata": {},
   "outputs": [
    {
     "name": "stdout",
     "output_type": "stream",
     "text": [
      "[ 0.003       0.019       0.051       0.083       0.10512766]\n",
      "[ 0.03478723  0.006      -0.016      -0.049      -0.093      -0.1194    ]\n",
      "[ 0.5  1.5  2.5  3.5  4.5  5.5  7.   9. ] [ 0.0230548  0.05       0.0819672  0.116279   0.08       0.0555556\n",
      "  0.0416666  0.0285714]\n"
     ]
    },
    {
     "data": {
      "image/png": "[encoded data removed]",
      "text/plain": [
       "<matplotlib.figure.Figure at 0x1179cf2b0>"
      ]
     },
     "metadata": {},
     "output_type": "display_data"
    }
   ],
   "source": [
    "# plot the data\n",
    "# x, y labels and title\n",
    "plt.ylabel('Fraction', **hfont,  fontsize=25)\n",
    "plt.xlabel('SNR', **hfont,  fontsize=25)\n",
    "#plt.title(' MgII ', **hfont,  fontsize=25)\n",
    "\n",
    "# x and y ranges and scale\n",
    "plt.xlim([-0.01, 10.5])\n",
    "plt.ylim([-0.01, 0.2])\n",
    "\n",
    "# x and y ticks\n",
    "xlabels = ['0', '2', '4', '6', '8', '10']\n",
    "plt.xticks([0, 2, 4, 6, 8, 10], \n",
    "            xlabels, **hfont, fontsize = 20)\n",
    "ylabels = ['0', '0.05', '0.1', '0.15']\n",
    "plt.yticks([0, 0.05, 0.1, 0.15], \n",
    "            ylabels, **hfont, fontsize = 20)\n",
    "\n",
    "plt.grid(True)\n",
    "\n",
    "\n",
    "# my fits below sn 4\n",
    "# -0.002 0.003 0.008\n",
    "#  0.029 0.032 0.035\n",
    "x = np.array([0, 0.5, 1.5, 2.5, 3.1914893617021276])\n",
    "fit_below = 0.029*x - 0.002\n",
    "fit_above = 0.035*x + 0.008\n",
    "best_fit = 0.032*x + 0.003\n",
    "#plt.fill_between(x, fit_below, fit_above, color = 'r', alpha = 0.2)\n",
    "plt.plot(x, best_fit, 'k--', lw = 2, alpha = 1)\n",
    "print(best_fit)\n",
    "\n",
    "# my fits above sn 4\n",
    "#0.105 0.153 0.2\n",
    "#-0.022 -0.015 -0.008\n",
    "x = np.array([3.1914893617021276, 4.5, 5.5, 7.0, 9.0, 10.2])\n",
    "fit_below = -0.022*x + 0.105\n",
    "fit_above = -0.008*x + 0.2\n",
    "best_fit = -0.015*x + 0.153\n",
    "#plt.fill_between(x, fit_below, fit_above, color = 'r', alpha = 0.2)\n",
    "plt.plot(x, best_fit, 'k--', lw = 2, alpha = 1)\n",
    "print(fit_below)\n",
    "\n",
    "\n",
    "# plot the vertical error bounds    \n",
    "for i in range(0, len(min_sn)):\n",
    "    plt.plot([mid_sn[i], mid_sn[i]], [upper_bound[i], lower_bound[i]], 'k-', lw=1.0)\n",
    "\n",
    "# plot the horizontal bounds    \n",
    "for i in range(0, len(min_sn)):\n",
    "    plt.plot([min_sn[i], max_sn[i]], [value[i], value[i]], 'k-', lw=1.0)\n",
    "\n",
    "    \n",
    "# plot the results\n",
    "plt.plot(mid_sn, value, 'kd', markersize=10, alpha=1.0)  \n",
    "plt.plot(mid_sn, value, 'd', markersize=8, color = mg2color, alpha=1.0)   \n",
    "\n",
    "print(mid_sn, value)\n",
    "# output a label\n",
    "txt = plt.text(1.3, 0.177, \"User acceptance rate of inserted\", **hfont,  fontsize=22)\n",
    "txt = plt.text(1.4, 0.157, \" artificial MgII' doublets as real\", **hfont,  fontsize=22)\n",
    "txt = plt.text(6.5, 0.138, \"(user failure)\", **hfont,  fontsize=22)\n",
    "\n",
    "\n",
    "plt.savefig('mg2_acceptance_artificial_as_real.png', bbox_inches='tight', figsize=[24,12], dpi=500)"
   ]
  },
  {
   "cell_type": "code",
   "execution_count": null,
   "metadata": {
    "collapsed": true
   },
   "outputs": [],
   "source": []
  },
  {
   "cell_type": "code",
   "execution_count": null,
   "metadata": {
    "collapsed": true
   },
   "outputs": [],
   "source": []
  },
  {
   "cell_type": "code",
   "execution_count": null,
   "metadata": {
    "collapsed": true
   },
   "outputs": [],
   "source": []
  }
 ],
 "metadata": {
  "anaconda-cloud": {},
  "kernelspec": {
   "display_name": "Python [Root]",
   "language": "python",
   "name": "Python [Root]"
  },
  "language_info": {
   "codemirror_mode": {
    "name": "ipython",
    "version": 3
   },
   "file_extension": ".py",
   "mimetype": "text/x-python",
   "name": "python",
   "nbconvert_exporter": "python",
   "pygments_lexer": "ipython3",
   "version": "3.5.2"
  }
 },
 "nbformat": 4,
 "nbformat_minor": 2
}
