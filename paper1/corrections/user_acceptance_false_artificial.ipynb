{
 "cells": [
  {
   "cell_type": "code",
   "execution_count": 1,
   "metadata": {
    "collapsed": true
   },
   "outputs": [],
   "source": [
    "import pandas as pd\n",
    "import numpy as np\n",
    "import matplotlib.pyplot as plt\n",
    "import matplotlib.mlab as mlab\n",
    "%matplotlib inline  \n",
    "import emcee\n",
    "import math\n",
    "import matplotlib\n",
    "import scipy.optimize as op\n",
    "\n",
    "hfont = {'fontname':'Times New roman'}\n",
    "mg2color = [107/256.0, 70/256.0, 177/256.0]\n",
    "\n",
    "\n"
   ]
  },
  {
   "cell_type": "markdown",
   "metadata": {},
   "source": [
    "binning by SN   --- human_acceptance_false_results_final.fits\n",
    "\n",
    "for all equivalent widths inserted   ---\n",
    "\n",
    "    minSN    maxSN  inserted_number discovered_number  RATIO_discovered/inserted\n",
    "    \n",
    "      0.00000      1.00000        123.00     \t\t2.000   0.01626016\n",
    "      1.00000      2.00000        167.00     \t\t4.000   0.0239521       \n",
    "      2.00000      3.00000        177.00     \t\t5.000   0.02824859\n",
    "      3.00000      4.00000        185.00     \t\t7.000   0.03783784\n",
    "      4.00000      5.00000        221.00     \t   11.000   0.04977376\n",
    "      5.00000      6.00000        182.00     \t\t7.000   0.03846154\n",
    "      6.00000      8.00000        162.00     \t\t5.000   0.0308642 \n",
    "      8.00000      10.0000        119.00     \t\t1.000   0.00840336\n",
    "\t\t\t\n",
    "\t\t\n",
    "\n",
    "\n",
    "\n",
    "\n",
    "  "
   ]
  },
  {
   "cell_type": "code",
   "execution_count": 2,
   "metadata": {},
   "outputs": [
    {
     "name": "stdout",
     "output_type": "stream",
     "text": [
      "[ 0.5  1.5  2.5  3.5  4.5  5.5  7.   9. ]\n"
     ]
    }
   ],
   "source": [
    "# pass the values to arrays\n",
    "min_sn = np.array([0.0, 1.0, 2.0, 3.0, 4.0, 5.0, 6.0, 8.0])\n",
    "max_sn = np.array([1.0, 2.0, 3.0, 4.0, 5.0, 6.0, 8.0, 10.0])\n",
    "value = np.array([0.01626016, 0.0239521  , 0.02824859, 0.03783784, 0.04977376, 0.03846154, 0.0308642,  0.00840336])\n",
    "\n",
    "mid_sn = 0.5*(max_sn - min_sn) + min_sn\n",
    "\n",
    "print(mid_sn)"
   ]
  },
  {
   "cell_type": "code",
   "execution_count": 3,
   "metadata": {},
   "outputs": [
    {
     "name": "stdout",
     "output_type": "stream",
     "text": [
      "[ 0.01626016  0.0239521   0.02824859  0.03783784  0.49997727  0.03846154\n",
      "  0.0308642   0.00840336]\n",
      "[ 0.02749231  0.03872769  0.04320347  0.05086619  0.04596712  0.0508497\n",
      "  0.04314529  0.01951747]\n"
     ]
    }
   ],
   "source": [
    "n  = np.array([123.00, 167.00, 177.00,  185.00,  22.001,  182.00,  162.00, 119.00])\n",
    "ns = np.array([2.00, 4.00, 5.00,  7.00,  11.00,  7.00,  5.00, 1.00])\n",
    "ratio = ns/n\n",
    "print(ratio)\n",
    "nf = n - ns\n",
    "z = 1.96\n",
    "\n",
    "error = z*pow(ns*nf/n, 0.5)/100.0\n",
    "print(error)\n",
    "\n",
    "upper_bound = value + error\n",
    "lower_bound = value - error\n",
    "upper_bound[np.where(upper_bound > 1.0)] = 1.0\n",
    "\n",
    "\n"
   ]
  },
  {
   "cell_type": "code",
   "execution_count": 4,
   "metadata": {},
   "outputs": [
    {
     "name": "stderr",
     "output_type": "stream",
     "text": [
      "/Users/alex/anaconda3/lib/python3.5/site-packages/ipykernel/__main__.py:5: VisibleDeprecationWarning: using a non-integer number instead of an integer will result in an error in the future\n",
      "/Users/alex/anaconda3/lib/python3.5/site-packages/ipykernel/__main__.py:6: VisibleDeprecationWarning: using a non-integer number instead of an integer will result in an error in the future\n",
      "/Users/alex/anaconda3/lib/python3.5/site-packages/ipykernel/__main__.py:7: VisibleDeprecationWarning: using a non-integer number instead of an integer will result in an error in the future\n",
      "/Users/alex/anaconda3/lib/python3.5/site-packages/ipykernel/__main__.py:8: VisibleDeprecationWarning: using a non-integer number instead of an integer will result in an error in the future\n",
      "/Users/alex/anaconda3/lib/python3.5/site-packages/ipykernel/__main__.py:9: VisibleDeprecationWarning: using a non-integer number instead of an integer will result in an error in the future\n"
     ]
    },
    {
     "name": "stdout",
     "output_type": "stream",
     "text": [
      "9597.39365252\n",
      "-0.003 0.006 0.014\n",
      "0.007 0.01 0.014\n"
     ]
    },
    {
     "data": {
      "text/plain": [
       "[<matplotlib.lines.Line2D at 0x113e6c5c0>]"
      ]
     },
     "execution_count": 4,
     "metadata": {},
     "output_type": "execute_result"
    },
    {
     "data": {
      "image/png": "[encoded data removed]",
      "text/plain": [
       "<matplotlib.figure.Figure at 0x113e6c400>"
      ]
     },
     "metadata": {},
     "output_type": "display_data"
    }
   ],
   "source": [
    "# leave a cell for the fitting process\n",
    "# m = scalar (0 to 0.15 in 0.001 steps)\n",
    "# sn = is the signal to noise (the x axis)\n",
    "# s = is an exponential scale factor (also to be fit for, (0 to 5, in 0.01 steps), from looking at the distribution)\n",
    "chi2 = np.zeros(300.0*400.0)\n",
    "inv_sigma2 =  np.zeros(300.0*400.0)\n",
    "lnlike =  np.zeros(300.0*400.0)\n",
    "ms = np.zeros(300.0*400.0)\n",
    "bs = np.zeros(300.0*400.0)\n",
    "\n",
    "y = np.array([0.0, 0.01626016, 0.0239521  , 0.02824859, 0.03783784, 0.04977376])\n",
    "x = np.array([0.0, 0.5, 1.5, 2.5, 3.5, 4.])\n",
    "\n",
    "local_counter = 0\n",
    "for b in range(0, 400):\n",
    "    local_b = b/1000.0 - 0.02\n",
    "    for m in range(0, 300): \n",
    "        local_m = m/1000.0\n",
    "\n",
    "        model = local_b + local_m*x\n",
    "        chi2[local_counter] = np.sum((model - y)*(model - y))#/yerr/yerr)\n",
    "        ms[local_counter] = local_m\n",
    "        bs[local_counter] = local_b\n",
    "        local_counter = local_counter + 1\n",
    "       \n",
    "\n",
    "chi2scale = 1./min(chi2)\n",
    "chi2_adjusted = chi2*chi2scale\n",
    "best_ms = ms[np.where((chi2_adjusted < 2.706))]\n",
    "best_bs = bs[np.where((chi2_adjusted < 2.706))]\n",
    "mms = ms[np.where((chi2_adjusted == min(chi2_adjusted)))]\n",
    "bbs = bs[np.where((chi2_adjusted == min(chi2_adjusted)))]\n",
    "\n",
    "\n",
    "print(chi2scale)\n",
    "print(min(best_bs), bbs[0], max(best_bs))\n",
    "print(min(best_ms), mms[0], max(best_ms))\n",
    "\n",
    "#plt.plot(ms, bs)\n",
    "plt.plot(best_ms, best_bs)\n",
    "plt.plot(mms, bbs, 'r*',markersize=15 )"
   ]
  },
  {
   "cell_type": "code",
   "execution_count": 5,
   "metadata": {
    "scrolled": true
   },
   "outputs": [
    {
     "name": "stderr",
     "output_type": "stream",
     "text": [
      "/Users/alex/anaconda3/lib/python3.5/site-packages/ipykernel/__main__.py:8: VisibleDeprecationWarning: using a non-integer number instead of an integer will result in an error in the future\n",
      "/Users/alex/anaconda3/lib/python3.5/site-packages/ipykernel/__main__.py:9: VisibleDeprecationWarning: using a non-integer number instead of an integer will result in an error in the future\n",
      "/Users/alex/anaconda3/lib/python3.5/site-packages/ipykernel/__main__.py:10: VisibleDeprecationWarning: using a non-integer number instead of an integer will result in an error in the future\n",
      "/Users/alex/anaconda3/lib/python3.5/site-packages/ipykernel/__main__.py:11: VisibleDeprecationWarning: using a non-integer number instead of an integer will result in an error in the future\n",
      "/Users/alex/anaconda3/lib/python3.5/site-packages/ipykernel/__main__.py:12: VisibleDeprecationWarning: using a non-integer number instead of an integer will result in an error in the future\n"
     ]
    },
    {
     "name": "stdout",
     "output_type": "stream",
     "text": [
      "51234.0104935\n",
      "0.082 0.09 0.099\n",
      "-0.01 -0.009 -0.008\n"
     ]
    },
    {
     "data": {
      "text/plain": [
       "[<matplotlib.lines.Line2D at 0x1049dcd68>]"
      ]
     },
     "execution_count": 5,
     "metadata": {},
     "output_type": "execute_result"
    },
    {
     "data": {
      "image/png": "[encoded data removed]",
      "text/plain": [
       "<matplotlib.figure.Figure at 0x1049dcb00>"
      ]
     },
     "metadata": {},
     "output_type": "display_data"
    }
   ],
   "source": [
    "# leave a cell for the fitting process\n",
    "# triangular function where\n",
    "# fit_function = mx + b\n",
    "# in 2 steps\n",
    "# m = scalar (0 to 0.15 in 0.001 steps)\n",
    "# sn = is the signal to noise (the x axis)\n",
    "# s = is an exponential scale factor (also to be fit for, (0 to 5, in 0.01 steps), from looking at the distribution)\n",
    "chi2 = np.zeros(300.0*400.0)\n",
    "inv_sigma2 =  np.zeros(300.0*400.0)\n",
    "lnlike =  np.zeros(300.0*400.0)\n",
    "ms = np.zeros(300.0*400.0)\n",
    "bs = np.zeros(300.0*400.0)\n",
    "x = np.array([ 4.5, 5.5 , 7.  , 9. ])\n",
    "y = np.array([ 0.04977376, 0.03846154, 0.0308642,  0.00840336])\n",
    "\n",
    "local_counter = 0\n",
    "for m in range(0, 300): \n",
    "    local_m = m/-1000.0\n",
    "    for b in range(0, 400):\n",
    "        local_b = b/1000.0 - 0.002\n",
    "\n",
    "        model = local_m*x + local_b\n",
    "        chi2[local_counter] = np.sum((model - y)*(model - y))#/yerr/yerr)\n",
    "        ms[local_counter]   = local_m\n",
    "        bs[local_counter]   = local_b\n",
    "        local_counter = local_counter + 1\n",
    "    \n",
    "chi2scale = 1./min(chi2)\n",
    "chi2_adjusted = chi2*chi2scale\n",
    "best_ms = ms[np.where((chi2_adjusted < 2.706))]\n",
    "best_bs = bs[np.where((chi2_adjusted < 2.706))]\n",
    "mms = ms[np.where((chi2_adjusted == min(chi2_adjusted)))]\n",
    "bbs = bs[np.where((chi2_adjusted == min(chi2_adjusted)))]\n",
    "\n",
    "\n",
    "print(chi2scale)\n",
    "print(min(best_bs), bbs[0], max(best_bs))\n",
    "print(min(best_ms), mms[0], max(best_ms))\n",
    "\n",
    "#plt.plot(ms, bs)\n",
    "plt.plot(best_ms, best_bs)\n",
    "plt.plot(mms, bbs, 'r*',markersize=15 )"
   ]
  },
  {
   "cell_type": "code",
   "execution_count": null,
   "metadata": {
    "collapsed": true
   },
   "outputs": [],
   "source": []
  },
  {
   "cell_type": "code",
   "execution_count": 6,
   "metadata": {},
   "outputs": [
    {
     "name": "stdout",
     "output_type": "stream",
     "text": [
      "4.421052631578947\n"
     ]
    }
   ],
   "source": [
    "# below best_fit = 0.01*x + 0.006\n",
    "# above best_fit = -0.009*x + 0.09\n",
    "\n",
    "common_x = (0.09 - 0.006)/(0.01 + 0.009)\n",
    "print(common_x)"
   ]
  },
  {
   "cell_type": "code",
   "execution_count": 9,
   "metadata": {
    "scrolled": true
   },
   "outputs": [
    {
     "name": "stdout",
     "output_type": "stream",
     "text": [
      "[ 0.006       0.011       0.021       0.031       0.05021053]\n",
      "[ 0.03778947  0.037       0.027       0.012      -0.008      -0.02      ]\n",
      "[ 0.5  1.5  2.5  3.5  4.5  5.5  7.   9. ] [ 0.01626016  0.0239521   0.02824859  0.03783784  0.04977376  0.03846154\n",
      "  0.0308642   0.00840336]\n"
     ]
    },
    {
     "data": {
      "image/png": "[encoded data removed]",
      "text/plain": [
       "<matplotlib.figure.Figure at 0x118608be0>"
      ]
     },
     "metadata": {},
     "output_type": "display_data"
    }
   ],
   "source": [
    "common_x = 4.421052631578947\n",
    "# plot the data\n",
    "# x, y labels and title\n",
    "plt.ylabel('Fraction', **hfont,  fontsize=25)\n",
    "plt.xlabel('SNR', **hfont,  fontsize=25)\n",
    "plt.title(\" MgII' \", **hfont,  fontsize=25)\n",
    "\n",
    "# x and y ranges and scale\n",
    "plt.xlim([-0.01, 10.5])\n",
    "plt.ylim([-0.01, 0.14])\n",
    "\n",
    "# x and y ticks\n",
    "xlabels = ['0', '2', '4', '6', '8', '10']\n",
    "plt.xticks([0, 2, 4, 6, 8, 10], \n",
    "            xlabels, **hfont, fontsize = 20)\n",
    "ylabels = ['0', '0.05', '0.1']\n",
    "plt.yticks([0, 0.05, 0.1], \n",
    "            ylabels, **hfont, fontsize = 20)\n",
    "\n",
    "plt.grid(True)\n",
    "\n",
    "\n",
    "# my fits below sn 4\n",
    "# -0.003 0.006 0.014\n",
    "# 0.007 0.01 0.014\n",
    "x = np.array([0, 0.5, 1.5, 2.5, common_x])\n",
    "fit_below = 0.007*x - 0.003\n",
    "fit_above = 0.014*x + 0.014\n",
    "best_fit = 0.01*x + 0.006\n",
    "#plt.fill_between(x, fit_below, fit_above, color = 'r', alpha = 0.2)\n",
    "plt.plot(x, best_fit, 'k--', lw = 2, alpha = 1)\n",
    "print(best_fit)\n",
    "\n",
    "# my fits above sn 4\n",
    "#0.082 0.09 0.099\n",
    "# -0.01 -0.009 -0.008\n",
    "x = np.array([common_x, 4.5, 5.5, 7.0, 9.0, 10.2])\n",
    "fit_below = -0.01*x + 0.082\n",
    "fit_above = -0.008*x + 0.099\n",
    "best_fit = -0.009*x + 0.09\n",
    "#plt.fill_between(x, fit_below, fit_above, color = 'r', alpha = 0.2)\n",
    "plt.plot(x, best_fit, 'k--', lw = 2, alpha = 1)\n",
    "print(fit_below)\n",
    "\n",
    "\n",
    "# plot the vertical error bounds    \n",
    "for i in range(0, len(min_sn)):\n",
    "    plt.plot([mid_sn[i], mid_sn[i]], [upper_bound[i], lower_bound[i]], 'k-', lw=1.0)\n",
    "\n",
    "# plot the horizontal bounds    \n",
    "for i in range(0, len(min_sn)):\n",
    "    plt.plot([min_sn[i], max_sn[i]], [value[i], value[i]], 'k-', lw=1.0)\n",
    "\n",
    "    \n",
    "# plot the results\n",
    "plt.plot(mid_sn, value, 'kd', markersize=10, alpha=1.0)  \n",
    "plt.plot(mid_sn, value, 'd', markersize=8, color = 'r', alpha=1.0)   \n",
    "\n",
    "print(mid_sn, value)\n",
    "# output a label\n",
    "txt = plt.text(1.25, 0.12, \"User acceptance rate of inserted\", **hfont,  fontsize=22)\n",
    "txt = plt.text(1.75, 0.105, \"real MgII doublets as artificial\", **hfont,  fontsize=22)\n",
    "txt = plt.text(6.55, 0.09, \"(user failure)\", **hfont,  fontsize=22)\n",
    "\n",
    "\n",
    "plt.savefig('mg2_acceptance_real_as_artificial.png', bbox_inches='tight', figsize=[24,12], dpi=500)"
   ]
  },
  {
   "cell_type": "code",
   "execution_count": 10,
   "metadata": {},
   "outputs": [
    {
     "data": {
      "text/plain": [
       "'/Users/alex/Desktop/final_files/correct_precision/corrections_paper1'"
      ]
     },
     "execution_count": 10,
     "metadata": {},
     "output_type": "execute_result"
    }
   ],
   "source": [
    "pwd\n"
   ]
  },
  {
   "cell_type": "code",
   "execution_count": null,
   "metadata": {
    "collapsed": true
   },
   "outputs": [],
   "source": []
  },
  {
   "cell_type": "code",
   "execution_count": null,
   "metadata": {
    "collapsed": true
   },
   "outputs": [],
   "source": []
  },
  {
   "cell_type": "code",
   "execution_count": null,
   "metadata": {
    "collapsed": true
   },
   "outputs": [],
   "source": []
  },
  {
   "cell_type": "code",
   "execution_count": null,
   "metadata": {
    "collapsed": true
   },
   "outputs": [],
   "source": []
  },
  {
   "cell_type": "code",
   "execution_count": null,
   "metadata": {
    "collapsed": true
   },
   "outputs": [],
   "source": []
  }
 ],
 "metadata": {
  "anaconda-cloud": {},
  "kernelspec": {
   "display_name": "Python [Root]",
   "language": "python",
   "name": "Python [Root]"
  },
  "language_info": {
   "codemirror_mode": {
    "name": "ipython",
    "version": 3
   },
   "file_extension": ".py",
   "mimetype": "text/x-python",
   "name": "python",
   "nbconvert_exporter": "python",
   "pygments_lexer": "ipython3",
   "version": "3.5.2"
  }
 },
 "nbformat": 4,
 "nbformat_minor": 2
}
