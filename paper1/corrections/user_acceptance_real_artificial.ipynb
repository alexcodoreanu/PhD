{
 "cells": [
  {
   "cell_type": "code",
   "execution_count": 1,
   "metadata": {
    "collapsed": true
   },
   "outputs": [],
   "source": [
    "import pandas as pd\n",
    "import numpy as np\n",
    "import matplotlib.pyplot as plt\n",
    "import matplotlib.mlab as mlab\n",
    "%matplotlib inline  \n",
    "import emcee\n",
    "import math\n",
    "import matplotlib\n",
    "hfont = {'fontname':'Times New roman'}\n",
    "mg2color = [107/256.0, 70/256.0, 177/256.0]"
   ]
  },
  {
   "cell_type": "markdown",
   "metadata": {},
   "source": [
    "   binning by SN   --- human_acceptance_results.fits\n",
    "   \n",
    "for all equivalent widths inserted   ---\n",
    "\n",
    "   minSN    maxSN  inserted_number discovered_number  RATIO_discovered/inserted\n",
    "   \n",
    "      0.00000      1.00000         375      173.000     0.461333\n",
    "      1.00000      2.00000         373      206.000     0.552278\n",
    "      2.00000      3.00000         377      297.000     0.787798\n",
    "      3.00000      4.00000         371      349.000     0.940701\n",
    "      4.00000      5.00000         371      337.000     0.908356\n",
    "      5.00000      6.00000         376      355.000     0.944149\n",
    "      6.00000      8.00000         372      352.000     0.946237\n",
    "      8.00000      10.0000         375      365.000     0.973333\n",
    "      10.0000      12.0000         381      369.000     0.968504\n",
    "      12.0000      14.0000         372      363.000     0.975806\n",
    "      14.0000      18.0000         377      353.000     0.936339\n",
    "      18.0000      22.0000         372      352.000     0.938666\n",
    "      22.0000      30.0000         381      361.000     0.947506\n",
    "      30.0000      38.0000         374      358.000     0.957219"
   ]
  },
  {
   "cell_type": "code",
   "execution_count": 2,
   "metadata": {},
   "outputs": [
    {
     "name": "stdout",
     "output_type": "stream",
     "text": [
      "15\n"
     ]
    }
   ],
   "source": [
    "# pass the values to arrays\n",
    "min_sn = np.array([0.00000, 1.00000, 2.00000, 3.00000, \n",
    "          4.00000, 5.00000, 6.00000, 8.00000, \n",
    "          10.0000, 12.0000, 14.0000, 18.0000, 22.0000, 30.0000])\n",
    "\n",
    "max_sn = np.array([1.00000, 2.00000, 3.00000, 4.00000, \n",
    "          5.00000, 6.00000, 8.00000, 10.0000, \n",
    "          12.0000, 14.0000, 18.0000, 22.0000, 30.0000, 38.0000])\n",
    "\n",
    "value = np.array([0.461333, 0.552278, 0.787798, 0.940701, \n",
    "                  0.908356, 0.944149, 0.946237, 0.973333, \n",
    "                  0.968504, 0.975806, 0.936339, 0.938666, \n",
    "                  0.947506, 0.957219])\n",
    "\n",
    "\n",
    "mid_sn = np.array([0.5, 1.5, 2.5, 3.5, 4.5, 5.5, 7., 9., 11., 13.0, 16.0, 20.0, 26.0, 34.0])\n",
    "fit_mid_sn = np.array([0.5, 1.5, 2.5, 3.5, 4.5, 5.5, 7., 9., 11., 13.0, 16.0, 20.0, 26.0, 34.0, 44])\n",
    "\n",
    "print(len(fit_mid_sn))"
   ]
  },
  {
   "cell_type": "code",
   "execution_count": 3,
   "metadata": {
    "collapsed": true
   },
   "outputs": [],
   "source": [
    "n = np.array([375, 373, 377, 371, 371, \n",
    "              376, 372, 375, 381, 372, \n",
    "              377, 372, 381, 374])\n",
    "\n",
    "ns = np.array([173.000, 206.000, 297.000, 349.000, \n",
    "               337.000, 355.000, 352.000, 365.000, \n",
    "               369.000, 363.000, 353.000, 352.000, \n",
    "               361.000, 358.000])\n",
    "\n",
    "nf = n - ns\n",
    "z = 1.96\n",
    "\n",
    "error = z*pow(ns*nf/n, 0.5)/100.0\n",
    "upper_bound = value + error\n",
    "lower_bound = value - error\n",
    "upper_bound[np.where(upper_bound > 1.0)] = 1.0"
   ]
  },
  {
   "cell_type": "code",
   "execution_count": 4,
   "metadata": {},
   "outputs": [
    {
     "name": "stdout",
     "output_type": "stream",
     "text": [
      "[ 0.18920786  0.18823202  0.15559965  0.08916474  0.10892399  0.08727422\n",
      "  0.08526503  0.06114865  0.0668186   0.05808435  0.0929134   0.08526503\n",
      "  0.08532223  0.07670466]\n"
     ]
    }
   ],
   "source": [
    "print(error)"
   ]
  },
  {
   "cell_type": "code",
   "execution_count": 5,
   "metadata": {},
   "outputs": [
    {
     "name": "stderr",
     "output_type": "stream",
     "text": [
      "/Users/alex/anaconda3/lib/python3.5/site-packages/ipykernel/__main__.py:8: VisibleDeprecationWarning: using a non-integer number instead of an integer will result in an error in the future\n",
      "/Users/alex/anaconda3/lib/python3.5/site-packages/ipykernel/__main__.py:9: VisibleDeprecationWarning: using a non-integer number instead of an integer will result in an error in the future\n",
      "/Users/alex/anaconda3/lib/python3.5/site-packages/ipykernel/__main__.py:10: VisibleDeprecationWarning: using a non-integer number instead of an integer will result in an error in the future\n",
      "/Users/alex/anaconda3/lib/python3.5/site-packages/ipykernel/__main__.py:11: VisibleDeprecationWarning: using a non-integer number instead of an integer will result in an error in the future\n",
      "/Users/alex/anaconda3/lib/python3.5/site-packages/ipykernel/__main__.py:12: VisibleDeprecationWarning: using a non-integer number instead of an integer will result in an error in the future\n"
     ]
    }
   ],
   "source": [
    "# leave a cell for the fitting process\n",
    "# exponential function where\n",
    "# fit_function = p*(1.0 - np.exp(sn/sc))\n",
    "# p = scalar (0 to 1 in 0.001 steps)\n",
    "# sn = is the signal to noise (the x axis)\n",
    "# s = is an exponential scale factor (also to be fit for, (0 to 5, in 0.01 steps), from looking at the distribution)\n",
    "\n",
    "chi2 =  np.zeros(2000.0*1000.0)\n",
    "inv_sigma2 =  np.zeros(2000.0*1000.0)\n",
    "lnlike =  np.zeros(2000.0*1000.0)\n",
    "ps = np.zeros(2000.0*1000.0)\n",
    "ss = np.zeros(2000.0*1000.0)\n"
   ]
  },
  {
   "cell_type": "code",
   "execution_count": 6,
   "metadata": {},
   "outputs": [],
   "source": [
    "local_counter = 0\n",
    "yerr = error\n",
    "y = value\n",
    "\n",
    "for p in range(0, 1999): \n",
    "    local_p = p/1000.0\n",
    "    for s in range(0, 999):\n",
    "        local_sc = s/100.0\n",
    "        model = local_p*(1.0 - np.exp(-mid_sn/local_sc))\n",
    "        chi2[local_counter] =np.sum((model - y)*(model - y))#/yerr/yerr)\n",
    "        ps[local_counter] = local_p\n",
    "        ss[local_counter] = local_sc\n",
    "        \n",
    "        inv_sigma2 = 1.0/(yerr**2 + model**2)   \n",
    "        sigma2 = (yerr**2 + model**2)\n",
    "        lnlike[local_counter] = -0.5*(np.sum((y-model)**2*inv_sigma2 - np.log(6.28*sigma2)))\n",
    "        \n",
    "        local_counter = local_counter + 1\n",
    "        #print(p, sc)\n",
    "        #plt.plot(mid_sn, local_function, 'b-', lw=0.5, alpha = 0.1)\n",
    "        \n",
    "\n",
    "\n"
   ]
  },
  {
   "cell_type": "code",
   "execution_count": 7,
   "metadata": {
    "scrolled": false
   },
   "outputs": [
    {
     "name": "stdout",
     "output_type": "stream",
     "text": [
      "25.013081297\n",
      "0.87 0.954 1.042\n",
      "0.63 1.28 2.12\n"
     ]
    },
    {
     "data": {
      "text/plain": [
       "[<matplotlib.lines.Line2D at 0x112be0978>]"
      ]
     },
     "execution_count": 7,
     "metadata": {},
     "output_type": "execute_result"
    },
    {
     "data": {
      "image/png": "[encoded data removed]",
      "text/plain": [
       "<matplotlib.figure.Figure at 0x112be0898>"
      ]
     },
     "metadata": {},
     "output_type": "display_data"
    }
   ],
   "source": [
    "chi2scale = 1./min(chi2[np.where(chi2 > 0)])\n",
    "chi2_adjusted = chi2[np.where(chi2 > 0)]*chi2scale\n",
    "best_ps = ps[np.where((chi2_adjusted < 2.706))]\n",
    "best_ss = ss[np.where((chi2_adjusted < 2.706))]\n",
    "\n",
    "pbs = ps[np.where((chi2_adjusted == min(chi2_adjusted)))]\n",
    "sss = ss[np.where((chi2_adjusted == min(chi2_adjusted)))]\n",
    "\n",
    "print(chi2scale)\n",
    "print(min(best_ps), pbs[0], max(best_ps))\n",
    "print(min(best_ss), sss[0], max(best_ss))\n",
    "\n",
    "plt.plot(best_ps, best_ss)\n",
    "plt.plot(pbs, sss, 'r*',markersize=15 )"
   ]
  },
  {
   "cell_type": "code",
   "execution_count": 8,
   "metadata": {},
   "outputs": [
    {
     "data": {
      "image/png": "[encoded data removed]",
      "text/plain": [
       "<matplotlib.figure.Figure at 0x11b35c198>"
      ]
     },
     "metadata": {},
     "output_type": "display_data"
    }
   ],
   "source": [
    "# plot the data\n",
    "\n",
    "# x, y labels and title\n",
    "plt.ylabel('Fraction', **hfont,  fontsize=25)\n",
    "plt.xlabel('SNR', **hfont,  fontsize=25)\n",
    "plt.title(\"MgII'\", **hfont,  fontsize=25)\n",
    "\n",
    "# x and y ranges and scale\n",
    "plt.xlim([0, 44])\n",
    "plt.ylim([0,1.2])\n",
    "\n",
    "\n",
    "# plot the fit\n",
    "# p boundary = 0.92 0.96 1.002\n",
    "# s boundary = 0.63 1.25 1.91\n",
    "\n",
    "# 0.87 0.954 1.042\n",
    "# 0.63 1.28 2.12\n",
    "flow = 0.87*(1.0 - np.exp(-fit_mid_sn/2.12))\n",
    "fhigh = 1.0*(1.0 - np.exp(-fit_mid_sn/0.63))\n",
    "f  = 0.954*(1.0 - np.exp(-fit_mid_sn/1.28))\n",
    "\n",
    "# plot the shaded fit \n",
    "plt.plot(fit_mid_sn, f, 'k--', lw = 2, alpha = 1)\n",
    "#plt.fill_between(fit_mid_sn, flow, fhigh, color = 'r', alpha = 0.2)\n",
    "\n",
    "# x and y ticks\n",
    "xlabels = ['0', ' ', '10', ' ', '20', ' ', '30', ' ', '40']\n",
    "plt.xticks([0, 5, 10, 15, 20, 25, 30, 35, 40], \n",
    "            xlabels, **hfont, fontsize = 18)\n",
    "ylabels = [' ', '0.25', '0.5', '0.75', '1']\n",
    "plt.yticks([0, 0.25, 0.5, 0.75, 1.0], \n",
    "            ylabels, **hfont, fontsize = 18)\n",
    "\n",
    "plt.grid(True)\n",
    "\n",
    "\n",
    "# plot the vertical error bounds    \n",
    "for i in range(0, len(min_sn)):\n",
    "    plt.plot([mid_sn[i], mid_sn[i]], [upper_bound[i], lower_bound[i]], 'k-', lw=1.0)\n",
    "\n",
    "# plot the bin boundaries\n",
    "for i in range(0, len(min_sn)):\n",
    "    plt.plot([min_sn[i], max_sn[i]], [value[i], value[i]], 'k-', lw=1.0)\n",
    "\n",
    "    \n",
    "# plot the results\n",
    "plt.plot(mid_sn, value, 'kd', markersize=10, alpha=1.0)  \n",
    "plt.plot(mid_sn, value, 'rd', markersize=8, alpha=1.0)   \n",
    "\n",
    "# output a label\n",
    "txt = plt.text(4.6, 0.3, \"User acceptance rate for inserted\", **hfont,  fontsize=22)\n",
    "txt = plt.text(15.5, 0.18, \"artificial MgII' doublets\", **hfont,  fontsize=22)\n",
    "txt = plt.text(26.8, 0.06, \"(user success) \", **hfont,  fontsize=22)\n",
    "\n",
    "\n",
    "plt.savefig('mg2_acceptance_artificial.png', bbox_inches='tight', figsize=[24,12], dpi=500)\n",
    "\n"
   ]
  },
  {
   "cell_type": "code",
   "execution_count": null,
   "metadata": {
    "collapsed": true
   },
   "outputs": [],
   "source": []
  },
  {
   "cell_type": "code",
   "execution_count": null,
   "metadata": {
    "collapsed": true
   },
   "outputs": [],
   "source": []
  },
  {
   "cell_type": "code",
   "execution_count": null,
   "metadata": {
    "collapsed": true
   },
   "outputs": [],
   "source": []
  },
  {
   "cell_type": "code",
   "execution_count": null,
   "metadata": {
    "collapsed": true
   },
   "outputs": [],
   "source": []
  },
  {
   "cell_type": "code",
   "execution_count": null,
   "metadata": {
    "collapsed": true
   },
   "outputs": [],
   "source": []
  },
  {
   "cell_type": "code",
   "execution_count": null,
   "metadata": {
    "collapsed": true
   },
   "outputs": [],
   "source": []
  }
 ],
 "metadata": {
  "anaconda-cloud": {},
  "kernelspec": {
   "display_name": "Python [Root]",
   "language": "python",
   "name": "Python [Root]"
  },
  "language_info": {
   "codemirror_mode": {
    "name": "ipython",
    "version": 3
   },
   "file_extension": ".py",
   "mimetype": "text/x-python",
   "name": "python",
   "nbconvert_exporter": "python",
   "pygments_lexer": "ipython3",
   "version": "3.5.2"
  }
 },
 "nbformat": 4,
 "nbformat_minor": 2
}
