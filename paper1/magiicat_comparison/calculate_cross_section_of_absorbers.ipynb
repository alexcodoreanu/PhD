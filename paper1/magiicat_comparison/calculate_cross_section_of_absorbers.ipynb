{
 "cells": [
  {
   "cell_type": "code",
   "execution_count": 27,
   "metadata": {
    "collapsed": true
   },
   "outputs": [],
   "source": [
    "import pandas as pd\n",
    "import numpy as np\n",
    "import matplotlib.pyplot as plt\n",
    "%matplotlib inline  \n",
    "from scipy.special import gammainc\n",
    "from scipy.special import gamma\n",
    "import mpmath\n",
    "\n",
    "hfont = {'fontname':'Times New roman'}"
   ]
  },
  {
   "cell_type": "code",
   "execution_count": 28,
   "metadata": {
    "collapsed": true
   },
   "outputs": [],
   "source": [
    "lstar_ratio = np.array(range(0,200))/100 + 0.01\n",
    "colorchoice = ['r', 'c', 'g', 'k']\n",
    "\n",
    "\n",
    "light = 299792.458\n",
    "H0 = 67.8#/3.08567758e24 ; centimeters  \n",
    "little_h = 100./H0\n",
    "\n",
    "dndx     = [0.61, 0.13, 0.08]\n",
    "dndxlow  = [0.18, 0.06, 0.03]\n",
    "dndxhigh = [1.04, 0.20, 0.13]\n",
    "\n"
   ]
  },
  {
   "cell_type": "markdown",
   "metadata": {},
   "source": [
    "Luminosity function\n",
    "\n",
    "phi(L) = phistar x (L/Lstar)^alpha x np.exp(-L/Lstar)/Lstar"
   ]
  },
  {
   "cell_type": "code",
   "execution_count": 29,
   "metadata": {
    "collapsed": true
   },
   "outputs": [],
   "source": [
    "# for redshift <z> ~ 5\n",
    "# mason2015b\n",
    "mstar   = -21.2\n",
    "mplus   = -21.0\n",
    "mminus  = -21.4\n",
    "\n",
    "phistar   = pow(10, -3.12) \n",
    "phiplus   = pow(10, -2.88) \n",
    "phiminus  = pow(10, -3.27) \n",
    "\n",
    "alpha=-1.75\n",
    "alphaplus = alpha + 0.13\n",
    "alphaminus = alpha - 0.13\n",
    "\n",
    "\n"
   ]
  },
  {
   "cell_type": "code",
   "execution_count": 30,
   "metadata": {},
   "outputs": [
    {
     "data": {
      "text/plain": [
       "([<matplotlib.axis.YTick at 0x117ae0e10>,\n",
       "  <matplotlib.axis.YTick at 0x1183fe550>,\n",
       "  <matplotlib.axis.YTick at 0x104558080>],\n",
       " <a list of 3 Text yticklabel objects>)"
      ]
     },
     "execution_count": 30,
     "metadata": {},
     "output_type": "execute_result"
    },
    {
     "data": {
      "image/png": "[encoded data removed]",
      "text/plain": [
       "<matplotlib.figure.Figure at 0x117a869e8>"
      ]
     },
     "metadata": {},
     "output_type": "display_data"
    }
   ],
   "source": [
    "N       = np.zeros(len(lstar_ratio)) \n",
    "N_minus = np.zeros(len(lstar_ratio)) \n",
    "N_plus  = np.zeros(len(lstar_ratio)) \n",
    "for l in range(0, len(lstar_ratio)):\n",
    "    N[l]        =  phistar*float(mpmath.gammainc(alpha       + 1, lstar_ratio[l]))\n",
    "    N_plus[l]   =  phiplus*float(mpmath.gammainc(alphaplus   + 1, lstar_ratio[l]))\n",
    "    N_minus[l]  = phiminus*float(mpmath.gammainc(alphaminus  + 1, lstar_ratio[l]))\n",
    "\n",
    "plt.plot(lstar_ratio, N, '-', color = colorchoice[0])\n",
    "plt.plot(lstar_ratio, N_minus, '--', color = colorchoice[0], alpha=10)\n",
    "plt.plot(lstar_ratio, N_plus, '--', color = colorchoice[0], alpha=10)\n",
    "\n",
    "\n",
    "plt.fill_between(lstar_ratio, N_minus, N_plus, color = colorchoice[0], alpha = 0.2)\n",
    "\n",
    "\n",
    "plt.yscale('log')\n",
    "\n",
    "\n",
    "plt.grid(True)\n",
    "plt.ylim([0, 0.1] )\n",
    "plt.xlim([0.02, 1.7])\n",
    "plt.ylabel('# of galaxies/mag/mpc$^3$', **hfont,  fontsize=25)\n",
    "plt.xlabel(' L/L*', **hfont,  fontsize=25)\n",
    "\n",
    "\n",
    "plt.xticks([0.1, 0.5, 1.0, 1.5], **hfont, fontsize = 25)\n",
    "\n",
    "plt.yticks([pow(10, -4), pow(10, -3), pow(10, -2)], **hfont, fontsize = 25)\n",
    "\n",
    "\n",
    "\n"
   ]
  },
  {
   "cell_type": "markdown",
   "metadata": {},
   "source": [
    "# Now get the effective radius"
   ]
  },
  {
   "cell_type": "markdown",
   "metadata": {},
   "source": [
    "r = pow(0.5, H0/light*dndx/N)"
   ]
  },
  {
   "cell_type": "code",
   "execution_count": 35,
   "metadata": {
    "collapsed": true
   },
   "outputs": [],
   "source": [
    "r = pow(0.5, dndx[0]*H0/light/N)"
   ]
  },
  {
   "cell_type": "code",
   "execution_count": 40,
   "metadata": {},
   "outputs": [],
   "source": [
    "localN = float(N[np.where(lstar_ratio == 1)])"
   ]
  },
  {
   "cell_type": "code",
   "execution_count": 46,
   "metadata": {},
   "outputs": [
    {
     "data": {
      "text/plain": [
       "0.8675852811606727"
      ]
     },
     "execution_count": 46,
     "metadata": {},
     "output_type": "execute_result"
    }
   ],
   "source": [
    "pow(0.5, 0.35*H0/light/localN/3.14)"
   ]
  },
  {
   "cell_type": "code",
   "execution_count": null,
   "metadata": {
    "collapsed": true
   },
   "outputs": [],
   "source": []
  }
 ],
 "metadata": {
  "kernelspec": {
   "display_name": "Python [Root]",
   "language": "python",
   "name": "Python [Root]"
  },
  "language_info": {
   "codemirror_mode": {
    "name": "ipython",
    "version": 3
   },
   "file_extension": ".py",
   "mimetype": "text/x-python",
   "name": "python",
   "nbconvert_exporter": "python",
   "pygments_lexer": "ipython3",
   "version": "3.5.2"
  }
 },
 "nbformat": 4,
 "nbformat_minor": 2
}
